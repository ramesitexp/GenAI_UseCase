{
  "nbformat": 4,
  "nbformat_minor": 0,
  "metadata": {
    "colab": {
      "provenance": [],
      "gpuType": "T4",
      "authorship_tag": "ABX9TyPwIflvRx0Nj7HuyuZMsv24",
      "include_colab_link": true
    },
    "kernelspec": {
      "name": "python3",
      "display_name": "Python 3"
    },
    "language_info": {
      "name": "python"
    },
    "accelerator": "GPU"
  },
  "cells": [
    {
      "cell_type": "markdown",
      "metadata": {
        "id": "view-in-github",
        "colab_type": "text"
      },
      "source": [
        "<a href=\"https://colab.research.google.com/github/ramesitexp/genai_usecase/blob/main/Langchain_SQL_query_generator_Assistant.ipynb\" target=\"_parent\"><img src=\"https://colab.research.google.com/assets/colab-badge.svg\" alt=\"Open In Colab\"/></a>"
      ]
    },
    {
      "cell_type": "code",
      "execution_count": null,
      "metadata": {
        "id": "Q3yVYHIg7cto"
      },
      "outputs": [],
      "source": [
        "%pip install --upgrade --quiet  langchain langchain-community langchain-openai\n",
        "\n"
      ]
    },
    {
      "cell_type": "code",
      "source": [
        "from google.colab import userdata\n",
        "OPENAI_API_KEY=userdata.get('OPENAI_API_KEY')\n",
        "import os\n",
        "os.environ['OPENAI_API_KEY']=OPENAI_API_KEY"
      ],
      "metadata": {
        "id": "VC2dVAZM7s5U"
      },
      "execution_count": null,
      "outputs": []
    },
    {
      "cell_type": "code",
      "source": [
        "from langchain_community.utilities import SQLDatabase\n",
        "\n",
        "db = SQLDatabase.from_uri(\"sqlite:///test.db\")\n",
        "print(db.dialect)\n",
        "print(db.get_usable_table_names())\n",
        "# db.run(\"SELECT * FROM Artist LIMIT 10;\")"
      ],
      "metadata": {
        "colab": {
          "base_uri": "https://localhost:8080/"
        },
        "id": "kvgQQ4qv74vT",
        "outputId": "d39a2bed-0a76-40cd-9a79-9c4477232b2f"
      },
      "execution_count": null,
      "outputs": [
        {
          "output_type": "stream",
          "name": "stdout",
          "text": [
            "sqlite\n",
            "['AssetDetails', 'Asset_final_summary', 'BillingDetails', 'CampaignDetails', 'CustomerDetails', 'ProductCategory']\n"
          ]
        }
      ]
    },
    {
      "cell_type": "code",
      "source": [
        "from langchain.chains import create_sql_query_chain\n",
        "from langchain_openai import ChatOpenAI\n",
        "\n",
        "llm = ChatOpenAI(model=\"gpt-3.5-turbo\", temperature=0)\n",
        "chain = create_sql_query_chain(llm, db)\n",
        "response = chain.invoke({\"question\": \"How many records in the CampaignDetails\"})\n",
        "response"
      ],
      "metadata": {
        "colab": {
          "base_uri": "https://localhost:8080/",
          "height": 35
        },
        "id": "W1k3k0fd8t0M",
        "outputId": "39dfbe92-8f4f-4ad9-bb9e-a04547d47635"
      },
      "execution_count": null,
      "outputs": [
        {
          "output_type": "execute_result",
          "data": {
            "text/plain": [
              "'SELECT COUNT(*) AS TotalRecords FROM CampaignDetails'"
            ],
            "application/vnd.google.colaboratory.intrinsic+json": {
              "type": "string"
            }
          },
          "metadata": {},
          "execution_count": 12
        }
      ]
    },
    {
      "cell_type": "code",
      "source": [
        "db.run(response)"
      ],
      "metadata": {
        "colab": {
          "base_uri": "https://localhost:8080/",
          "height": 35
        },
        "id": "NsfeK9bH9vR0",
        "outputId": "2b08c0ba-94dc-479d-b4f8-6fa407b29968"
      },
      "execution_count": null,
      "outputs": [
        {
          "output_type": "execute_result",
          "data": {
            "text/plain": [
              "'[(10,)]'"
            ],
            "application/vnd.google.colaboratory.intrinsic+json": {
              "type": "string"
            }
          },
          "metadata": {},
          "execution_count": 13
        }
      ]
    },
    {
      "cell_type": "code",
      "source": [
        "chain.get_prompts()[0].pretty_print()"
      ],
      "metadata": {
        "colab": {
          "base_uri": "https://localhost:8080/"
        },
        "id": "MYBQ8Eiv96Kr",
        "outputId": "0c99707a-29a0-4982-82da-2be889c6d8e6"
      },
      "execution_count": null,
      "outputs": [
        {
          "output_type": "stream",
          "name": "stdout",
          "text": [
            "You are a SQLite expert. Given an input question, first create a syntactically correct SQLite query to run, then look at the results of the query and return the answer to the input question.\n",
            "Unless the user specifies in the question a specific number of examples to obtain, query for at most 5 results using the LIMIT clause as per SQLite. You can order the results to return the most informative data in the database.\n",
            "Never query for all columns from a table. You must query only the columns that are needed to answer the question. Wrap each column name in double quotes (\") to denote them as delimited identifiers.\n",
            "Pay attention to use only the column names you can see in the tables below. Be careful to not query for columns that do not exist. Also, pay attention to which column is in which table.\n",
            "Pay attention to use date('now') function to get the current date, if the question involves \"today\".\n",
            "\n",
            "Use the following format:\n",
            "\n",
            "Question: Question here\n",
            "SQLQuery: SQL Query to run\n",
            "SQLResult: Result of the SQLQuery\n",
            "Answer: Final answer here\n",
            "\n",
            "Only use the following tables:\n",
            "\u001b[33;1m\u001b[1;3m{table_info}\u001b[0m\n",
            "\n",
            "Question: \u001b[33;1m\u001b[1;3m{input}\u001b[0m\n"
          ]
        }
      ]
    },
    {
      "cell_type": "code",
      "source": [
        "from langchain_community.tools.sql_database.tool import QuerySQLDataBaseTool\n",
        "\n",
        "execute_query = QuerySQLDataBaseTool(db=db)\n",
        "write_query = create_sql_query_chain(llm, db)\n",
        "chain = write_query | execute_query\n",
        "chain.invoke({\"question\": \"Give me some sample records from the AssetDetails table\"})\n",
        "\n"
      ],
      "metadata": {
        "colab": {
          "base_uri": "https://localhost:8080/",
          "height": 87
        },
        "id": "VqTYoWML-SWU",
        "outputId": "92d9f114-8f1a-4158-86f7-b5c64ad86960"
      },
      "execution_count": null,
      "outputs": [
        {
          "output_type": "execute_result",
          "data": {
            "text/plain": [
              "\"[('Biz', 'FinalSchemaBinary', 'csv', 'Public', 'cosmos/GDC/CampaignOutcome/'), ('CDP', 'Byos', 'csv', 'Public', 'cosmos/GDC/CustomerInteractions/Updated'), ('Campaign', 'AllTenants', 'csv', 'Public', 'cosmos/MDP/CampaignOutcomeReporting/'), ('Apps', 'TenantLicenseSummary', 'csv', 'Public', 'cosmos/MDP/AggregatedDataSets/'), ('Azure', 'SubscriptionUserRole', 'csv', 'Public', 'cosmos/GDC/Subscription/SubscriptionUserRole/')]\""
            ],
            "application/vnd.google.colaboratory.intrinsic+json": {
              "type": "string"
            }
          },
          "metadata": {},
          "execution_count": 15
        }
      ]
    },
    {
      "cell_type": "code",
      "source": [
        "from operator import itemgetter\n",
        "\n",
        "from langchain_core.output_parsers import StrOutputParser\n",
        "from langchain_core.prompts import PromptTemplate\n",
        "from langchain_core.runnables import RunnablePassthrough\n",
        "\n",
        "answer_prompt = PromptTemplate.from_template(\n",
        "    \"\"\"Given the following user question, corresponding SQL query, and SQL result, answer the user question.\n",
        "\n",
        "Question: {question}\n",
        "SQL Query: {query}\n",
        "SQL Result: {result}\n",
        "Answer: \"\"\"\n",
        ")\n",
        "\n",
        "answer = answer_prompt | llm | StrOutputParser()\n",
        "chain = (\n",
        "    RunnablePassthrough.assign(query=write_query).assign(\n",
        "        result=itemgetter(\"query\") | execute_query\n",
        "    )\n",
        "    | answer\n",
        ")\n",
        "\n",
        "chain.invoke({\"question\": \"How many total recods to return final result\"})"
      ],
      "metadata": {
        "colab": {
          "base_uri": "https://localhost:8080/",
          "height": 52
        },
        "id": "xetx7ojD-3Ol",
        "outputId": "4b9c8279-1593-4da2-95db-1fa28beccd8a"
      },
      "execution_count": null,
      "outputs": [
        {
          "output_type": "execute_result",
          "data": {
            "text/plain": [
              "'The total number of records to return in the final result is 99. This is calculated by summing up the counts from each individual query in the SQL result: 9 + 10 + 12 + 32 + 36 = 99.'"
            ],
            "application/vnd.google.colaboratory.intrinsic+json": {
              "type": "string"
            }
          },
          "metadata": {},
          "execution_count": 16
        }
      ]
    },
    {
      "cell_type": "markdown",
      "source": [
        "#Initializing agent"
      ],
      "metadata": {
        "id": "CMUNgYJG_g2X"
      }
    },
    {
      "cell_type": "code",
      "source": [
        "from langchain_community.agent_toolkits import create_sql_agent\n",
        "\n",
        "agent_executor = create_sql_agent(llm, db=db, agent_type=\"openai-tools\", verbose=True)"
      ],
      "metadata": {
        "id": "sg_dRWkr_iH8"
      },
      "execution_count": null,
      "outputs": []
    },
    {
      "cell_type": "code",
      "source": [
        "# agent_executor.invoke(\n",
        "#     {\n",
        "#         \"input\": \"How many total number of records from AssetFinalSummary table?\"\n",
        "#     }\n",
        "# )\n",
        "\n",
        "# agent_executor.invoke(\n",
        "#     {\n",
        "#         \"input\": \"How many number of columns from AssetFinalSummary table?\"\n",
        "#     }\n",
        "# )\n",
        "\n",
        "\n",
        "# agent_executor.invoke(\n",
        "#     {\n",
        "#         \"input\": \"How many number of columns from AssetFinalSummary table?\"\n",
        "#     }\n",
        "# )\n",
        "\n",
        "# agent_executor.invoke(\n",
        "#     {\n",
        "#         \"input\": \"How many number of columns from AssetFinalSummary table?\"\n",
        "#     }\n",
        "# )\n",
        "\n",
        "\n",
        "# agent_executor.invoke(\n",
        "#     {\n",
        "#         \"input\": \"Give me the IrisCompany record details from Asset_final_summary table?\"\n",
        "#     }\n",
        "# )\n",
        "\n",
        "# agent_executor.invoke(\n",
        "#     {\n",
        "#         \"input\": \"What is the average value of TotalPrice from Asset_final_summary table?\"\n",
        "#     }\n",
        "# )\n",
        "\n",
        "# agent_executor.invoke(\n",
        "#     {\n",
        "#         \"input\": \"What is the distinct number of products from product_category table?\"\n",
        "#     }\n",
        "# )\n",
        "\n",
        "# agent_executor.invoke(\n",
        "#     {\n",
        "#         \"input\": \"Can you combine the Asset_final_summary with product_category tables based on product_name?\"\n",
        "#     }\n",
        "# )\n",
        "\n",
        "agent_executor.invoke(\n",
        "    {\n",
        "        \"input\": \"What is the sum of total price from the billing details based on Track_Name\"\n",
        "    }\n",
        ")"
      ],
      "metadata": {
        "colab": {
          "base_uri": "https://localhost:8080/"
        },
        "id": "3-Zh5c4u_qrk",
        "outputId": "69d90101-ce4f-4bf9-fb6a-c2dc2b8eaafc"
      },
      "execution_count": null,
      "outputs": [
        {
          "output_type": "stream",
          "name": "stdout",
          "text": [
            "\n",
            "\n",
            "\u001b[1m> Entering new SQL Agent Executor chain...\u001b[0m\n",
            "\u001b[32;1m\u001b[1;3m\n",
            "Invoking: `sql_db_list_tables` with `{}`\n",
            "\n",
            "\n",
            "\u001b[0m\u001b[38;5;200m\u001b[1;3mAssetDetails, Asset_final_summary, BillingDetails, CampaignDetails, CustomerDetails, ProductCategory\u001b[0m\u001b[32;1m\u001b[1;3m\n",
            "Invoking: `sql_db_schema` with `{'table_names': 'BillingDetails'}`\n",
            "\n",
            "\n",
            "\u001b[0m\u001b[33;1m\u001b[1;3m\n",
            "CREATE TABLE \"BillingDetails\" (\n",
            "\t\"Track_Name\" TEXT, \n",
            "\t\"Filename\" TEXT, \n",
            "\t\"FileExtension\" TEXT, \n",
            "\t\"Environment\" TEXT, \n",
            "\t\"Asset_Path\" TEXT, \n",
            "\t\"Price\" INTEGER\n",
            ")\n",
            "\n",
            "/*\n",
            "3 rows from BillingDetails table:\n",
            "Track_Name\tFilename\tFileExtension\tEnvironment\tAsset_Path\tPrice\n",
            "Biz\tInvoiceBill\tcsv\tPublic\tcosmos/GDC/InvoiceBill/\t100000\n",
            "CDP\tSalesData\tcsv\tPublic\tcosmos/GDC/SalesData/Updated\t250000\n",
            "CampaignSales\tAllTenants\tcsv\tPublic\tcosmos/MDP/CampaignSales/\t43500\n",
            "*/\u001b[0m\u001b[32;1m\u001b[1;3m\n",
            "Invoking: `sql_db_query` with `{'query': 'SELECT Track_Name, SUM(Price) AS Total_Price FROM BillingDetails GROUP BY Track_Name'}`\n",
            "\n",
            "\n",
            "\u001b[0m\u001b[36;1m\u001b[1;3m[('Apps', 5102002), ('Azure', 416666), ('Biz', 1243332), ('CDP', 261000), ('CampaignSales', 43500), ('CampaignSales1', 980000)]\u001b[0m\u001b[32;1m\u001b[1;3mThe sum of total prices from the billing details based on Track_Name are as follows:\n",
            "- Apps: 5,102,002\n",
            "- Azure: 416,666\n",
            "- Biz: 1,243,332\n",
            "- CDP: 261,000\n",
            "- CampaignSales: 43,500\n",
            "- CampaignSales1: 980,000\u001b[0m\n",
            "\n",
            "\u001b[1m> Finished chain.\u001b[0m\n"
          ]
        },
        {
          "output_type": "execute_result",
          "data": {
            "text/plain": [
              "{'input': 'What is the sum of total price from the billing details based on Track_Name',\n",
              " 'output': 'The sum of total prices from the billing details based on Track_Name are as follows:\\n- Apps: 5,102,002\\n- Azure: 416,666\\n- Biz: 1,243,332\\n- CDP: 261,000\\n- CampaignSales: 43,500\\n- CampaignSales1: 980,000'}"
            ]
          },
          "metadata": {},
          "execution_count": 26
        }
      ]
    },
    {
      "cell_type": "markdown",
      "source": [
        "###SQL Query Generator against Chinook Sample database\n",
        "\n",
        "*   List item\n",
        "*   List item\n",
        "\n"
      ],
      "metadata": {
        "id": "1bs_ZkBtVqrR"
      }
    },
    {
      "cell_type": "code",
      "source": [
        "from langchain_community.utilities import SQLDatabase\n",
        "\n",
        "db = SQLDatabase.from_uri(\"sqlite:///chinook.db\")\n",
        "print(db.dialect)\n",
        "print(db.get_usable_table_names())\n",
        "db.run(\"SELECT * FROM Artists LIMIT 10;\")"
      ],
      "metadata": {
        "colab": {
          "base_uri": "https://localhost:8080/",
          "height": 107
        },
        "id": "2SIKQy3sCwOl",
        "outputId": "9d6666f3-0077-45bf-cdf3-ab722ff4e9a7"
      },
      "execution_count": null,
      "outputs": [
        {
          "output_type": "stream",
          "name": "stdout",
          "text": [
            "sqlite\n",
            "['albums', 'artists', 'customers', 'employees', 'genres', 'invoice_items', 'invoices', 'media_types', 'playlist_track', 'playlists', 'tracks']\n"
          ]
        },
        {
          "output_type": "execute_result",
          "data": {
            "text/plain": [
              "\"[(1, 'AC/DC'), (2, 'Accept'), (3, 'Aerosmith'), (4, 'Alanis Morissette'), (5, 'Alice In Chains'), (6, 'Antônio Carlos Jobim'), (7, 'Apocalyptica'), (8, 'Audioslave'), (9, 'BackBeat'), (10, 'Billy Cobham')]\""
            ],
            "application/vnd.google.colaboratory.intrinsic+json": {
              "type": "string"
            }
          },
          "metadata": {},
          "execution_count": 26
        }
      ]
    },
    {
      "cell_type": "code",
      "source": [
        "from langchain_community.agent_toolkits import create_sql_agent\n",
        "from langchain_openai import ChatOpenAI\n",
        "\n",
        "llm = ChatOpenAI(model=\"gpt-3.5-turbo\", temperature=0)\n",
        "agent_executor = create_sql_agent(llm, db=db, agent_type=\"openai-tools\", verbose=True)"
      ],
      "metadata": {
        "id": "LfmIE8IwDkj9"
      },
      "execution_count": null,
      "outputs": []
    },
    {
      "cell_type": "code",
      "source": [
        "agent_executor.invoke(\n",
        "    \"List the total sales per country. Which country's customers spent the most?\"\n",
        ")"
      ],
      "metadata": {
        "colab": {
          "base_uri": "https://localhost:8080/"
        },
        "id": "-Fu2HWPWDo1r",
        "outputId": "7579986b-2b89-4c4a-a39a-ce08191dcdf3"
      },
      "execution_count": null,
      "outputs": [
        {
          "output_type": "stream",
          "name": "stdout",
          "text": [
            "\n",
            "\n",
            "\u001b[1m> Entering new SQL Agent Executor chain...\u001b[0m\n",
            "\u001b[32;1m\u001b[1;3m\n",
            "Invoking: `sql_db_list_tables` with `{}`\n",
            "\n",
            "\n",
            "\u001b[0m\u001b[38;5;200m\u001b[1;3malbums, artists, customers, employees, genres, invoice_items, invoices, media_types, playlist_track, playlists, tracks\u001b[0m\u001b[32;1m\u001b[1;3m\n",
            "Invoking: `sql_db_schema` with `{'table_names': 'customers, invoices, invoice_items'}`\n",
            "\n",
            "\n",
            "\u001b[0m\u001b[33;1m\u001b[1;3m\n",
            "CREATE TABLE customers (\n",
            "\t\"CustomerId\" INTEGER NOT NULL, \n",
            "\t\"FirstName\" NVARCHAR(40) NOT NULL, \n",
            "\t\"LastName\" NVARCHAR(20) NOT NULL, \n",
            "\t\"Company\" NVARCHAR(80), \n",
            "\t\"Address\" NVARCHAR(70), \n",
            "\t\"City\" NVARCHAR(40), \n",
            "\t\"State\" NVARCHAR(40), \n",
            "\t\"Country\" NVARCHAR(40), \n",
            "\t\"PostalCode\" NVARCHAR(10), \n",
            "\t\"Phone\" NVARCHAR(24), \n",
            "\t\"Fax\" NVARCHAR(24), \n",
            "\t\"Email\" NVARCHAR(60) NOT NULL, \n",
            "\t\"SupportRepId\" INTEGER, \n",
            "\tPRIMARY KEY (\"CustomerId\"), \n",
            "\tFOREIGN KEY(\"SupportRepId\") REFERENCES employees (\"EmployeeId\")\n",
            ")\n",
            "\n",
            "/*\n",
            "3 rows from customers table:\n",
            "CustomerId\tFirstName\tLastName\tCompany\tAddress\tCity\tState\tCountry\tPostalCode\tPhone\tFax\tEmail\tSupportRepId\n",
            "1\tLuís\tGonçalves\tEmbraer - Empresa Brasileira de Aeronáutica S.A.\tAv. Brigadeiro Faria Lima, 2170\tSão José dos Campos\tSP\tBrazil\t12227-000\t+55 (12) 3923-5555\t+55 (12) 3923-5566\tluisg@embraer.com.br\t3\n",
            "2\tLeonie\tKöhler\tNone\tTheodor-Heuss-Straße 34\tStuttgart\tNone\tGermany\t70174\t+49 0711 2842222\tNone\tleonekohler@surfeu.de\t5\n",
            "3\tFrançois\tTremblay\tNone\t1498 rue Bélanger\tMontréal\tQC\tCanada\tH2G 1A7\t+1 (514) 721-4711\tNone\tftremblay@gmail.com\t3\n",
            "*/\n",
            "\n",
            "\n",
            "CREATE TABLE invoice_items (\n",
            "\t\"InvoiceLineId\" INTEGER NOT NULL, \n",
            "\t\"InvoiceId\" INTEGER NOT NULL, \n",
            "\t\"TrackId\" INTEGER NOT NULL, \n",
            "\t\"UnitPrice\" NUMERIC(10, 2) NOT NULL, \n",
            "\t\"Quantity\" INTEGER NOT NULL, \n",
            "\tPRIMARY KEY (\"InvoiceLineId\"), \n",
            "\tFOREIGN KEY(\"TrackId\") REFERENCES tracks (\"TrackId\"), \n",
            "\tFOREIGN KEY(\"InvoiceId\") REFERENCES invoices (\"InvoiceId\")\n",
            ")\n",
            "\n",
            "/*\n",
            "3 rows from invoice_items table:\n",
            "InvoiceLineId\tInvoiceId\tTrackId\tUnitPrice\tQuantity\n",
            "1\t1\t2\t0.99\t1\n",
            "2\t1\t4\t0.99\t1\n",
            "3\t2\t6\t0.99\t1\n",
            "*/\n",
            "\n",
            "\n",
            "CREATE TABLE invoices (\n",
            "\t\"InvoiceId\" INTEGER NOT NULL, \n",
            "\t\"CustomerId\" INTEGER NOT NULL, \n",
            "\t\"InvoiceDate\" DATETIME NOT NULL, \n",
            "\t\"BillingAddress\" NVARCHAR(70), \n",
            "\t\"BillingCity\" NVARCHAR(40), \n",
            "\t\"BillingState\" NVARCHAR(40), \n",
            "\t\"BillingCountry\" NVARCHAR(40), \n",
            "\t\"BillingPostalCode\" NVARCHAR(10), \n",
            "\t\"Total\" NUMERIC(10, 2) NOT NULL, \n",
            "\tPRIMARY KEY (\"InvoiceId\"), \n",
            "\tFOREIGN KEY(\"CustomerId\") REFERENCES customers (\"CustomerId\")\n",
            ")\n",
            "\n",
            "/*\n",
            "3 rows from invoices table:\n",
            "InvoiceId\tCustomerId\tInvoiceDate\tBillingAddress\tBillingCity\tBillingState\tBillingCountry\tBillingPostalCode\tTotal\n",
            "1\t2\t2009-01-01 00:00:00\tTheodor-Heuss-Straße 34\tStuttgart\tNone\tGermany\t70174\t1.98\n",
            "2\t4\t2009-01-02 00:00:00\tUllevålsveien 14\tOslo\tNone\tNorway\t0171\t3.96\n",
            "3\t8\t2009-01-03 00:00:00\tGrétrystraat 63\tBrussels\tNone\tBelgium\t1000\t5.94\n",
            "*/\u001b[0m\u001b[32;1m\u001b[1;3m\n",
            "Invoking: `sql_db_query` with `{'query': 'SELECT c.Country, SUM(inv.Total) AS TotalSales\\nFROM customers c\\nJOIN invoices inv ON c.CustomerId = inv.CustomerId\\nJOIN invoice_items ii ON inv.InvoiceId = ii.InvoiceId\\nGROUP BY c.Country\\nORDER BY TotalSales DESC\\nLIMIT 1;'}`\n",
            "responded: To find the total sales per country and determine which country's customers spent the most, I will need to join the `customers`, `invoices`, and `invoice_items` tables to calculate the total sales per country. Then, I will group the results by country and order them by total sales in descending order to find the country with the highest spending.\n",
            "\n",
            "Here is the query to achieve this:\n",
            "\n",
            "```sql\n",
            "SELECT c.Country, SUM(inv.Total) AS TotalSales\n",
            "FROM customers c\n",
            "JOIN invoices inv ON c.CustomerId = inv.CustomerId\n",
            "JOIN invoice_items ii ON inv.InvoiceId = ii.InvoiceId\n",
            "GROUP BY c.Country\n",
            "ORDER BY TotalSales DESC\n",
            "LIMIT 1;\n",
            "```\n",
            "\n",
            "I will now execute this query to find out which country's customers spent the most.\n",
            "\n",
            "\u001b[0m\u001b[36;1m\u001b[1;3m[('USA', 4667.059999999987)]\u001b[0m\u001b[32;1m\u001b[1;3mThe country whose customers spent the most is the USA, with a total sales amount of $4667.06.\u001b[0m\n",
            "\n",
            "\u001b[1m> Finished chain.\u001b[0m\n"
          ]
        },
        {
          "output_type": "execute_result",
          "data": {
            "text/plain": [
              "{'input': \"List the total sales per country. Which country's customers spent the most?\",\n",
              " 'output': 'The country whose customers spent the most is the USA, with a total sales amount of $4667.06.'}"
            ]
          },
          "metadata": {},
          "execution_count": 28
        }
      ]
    },
    {
      "cell_type": "code",
      "source": [
        "examples = [\n",
        "    {\"input\": \"List all artists.\", \"query\": \"SELECT * FROM Artist;\"},\n",
        "    {\n",
        "        \"input\": \"Find all albums for the artist 'AC/DC'.\",\n",
        "        \"query\": \"SELECT * FROM Albums WHERE ArtistId = (SELECT ArtistId FROM Artists WHERE Name = 'AC/DC');\",\n",
        "    },\n",
        "    {\n",
        "        \"input\": \"List all tracks in the 'Rock' genre.\",\n",
        "        \"query\": \"SELECT * FROM Tracks WHERE GenreId = (SELECT GenreId FROM Genres WHERE Name = 'Rock');\",\n",
        "    },\n",
        "    {\n",
        "        \"input\": \"Find the total duration of all tracks.\",\n",
        "        \"query\": \"SELECT SUM(Milliseconds) FROM Tracks;\",\n",
        "    },\n",
        "    {\n",
        "        \"input\": \"List all customers from Canada.\",\n",
        "        \"query\": \"SELECT * FROM Customers WHERE Country = 'Canada';\",\n",
        "    },\n",
        "    {\n",
        "        \"input\": \"How many tracks are there in the album with ID 5?\",\n",
        "        \"query\": \"SELECT COUNT(*) FROM Tracks WHERE AlbumId = 5;\",\n",
        "    },\n",
        "    {\n",
        "        \"input\": \"Find the total number of invoices.\",\n",
        "        \"query\": \"SELECT COUNT(*) FROM Invoices;\",\n",
        "    },\n",
        "    {\n",
        "        \"input\": \"List all tracks that are longer than 5 minutes.\",\n",
        "        \"query\": \"SELECT * FROM Tracks WHERE Milliseconds > 300000;\",\n",
        "    },\n",
        "    {\n",
        "        \"input\": \"Who are the top 5 customers by total purchase?\",\n",
        "        \"query\": \"SELECT CustomerId, SUM(Total) AS TotalPurchase FROM Invoices GROUP BY CustomerId ORDER BY TotalPurchase DESC LIMIT 5;\",\n",
        "    },\n",
        "    {\n",
        "        \"input\": \"Which albums are from the year 2000?\",\n",
        "        \"query\": \"SELECT * FROM Albums WHERE strftime('%Y', ReleaseDate) = '2000';\",\n",
        "    },\n",
        "    {\n",
        "        \"input\": \"How many employees are there\",\n",
        "        \"query\": 'SELECT COUNT(*) FROM \"Employees\"',\n",
        "    },\n",
        "]"
      ],
      "metadata": {
        "id": "iraOlTuIEK9T"
      },
      "execution_count": null,
      "outputs": []
    },
    {
      "cell_type": "code",
      "source": [
        "!pip install -q faiss-cpu"
      ],
      "metadata": {
        "colab": {
          "base_uri": "https://localhost:8080/"
        },
        "id": "7vXRbjM7E97F",
        "outputId": "d86c6757-7560-4b8b-d0c8-2154a5423d22"
      },
      "execution_count": null,
      "outputs": [
        {
          "output_type": "stream",
          "name": "stdout",
          "text": [
            "\u001b[2K     \u001b[90m━━━━━━━━━━━━━━━━━━━━━━━━━━━━━━━━━━━━━━━━\u001b[0m \u001b[32m27.0/27.0 MB\u001b[0m \u001b[31m35.9 MB/s\u001b[0m eta \u001b[36m0:00:00\u001b[0m\n",
            "\u001b[?25h"
          ]
        }
      ]
    },
    {
      "cell_type": "code",
      "source": [
        "from langchain_community.vectorstores import FAISS\n",
        "from langchain_core.example_selectors import SemanticSimilarityExampleSelector\n",
        "from langchain_openai import OpenAIEmbeddings\n",
        "\n",
        "example_selector = SemanticSimilarityExampleSelector.from_examples(\n",
        "    examples,\n",
        "    OpenAIEmbeddings(),\n",
        "    FAISS,\n",
        "    k=5,\n",
        "    input_keys=[\"input\"],\n",
        ")"
      ],
      "metadata": {
        "id": "lFH7HOdvEr4B"
      },
      "execution_count": null,
      "outputs": []
    },
    {
      "cell_type": "code",
      "source": [
        "from langchain_core.prompts import (\n",
        "    ChatPromptTemplate,\n",
        "    FewShotPromptTemplate,\n",
        "    MessagesPlaceholder,\n",
        "    PromptTemplate,\n",
        "    SystemMessagePromptTemplate,\n",
        ")\n",
        "\n",
        "system_prefix = \"\"\"You are an agent designed to interact with a SQL database.\n",
        "Given an input question, create a syntactically correct {dialect} query to run, then look at the results of the query and return the answer.\n",
        "Unless the user specifies a specific number of examples they wish to obtain, always limit your query to at most {top_k} results.\n",
        "You can order the results by a relevant column to return the most interesting examples in the database.\n",
        "Never query for all the columns from a specific table, only ask for the relevant columns given the question.\n",
        "You have access to tools for interacting with the database.\n",
        "Only use the given tools. Only use the information returned by the tools to construct your final answer.\n",
        "You MUST double check your query before executing it. If you get an error while executing a query, rewrite the query and try again.\n",
        "\n",
        "DO NOT make any DML statements (INSERT, UPDATE, DELETE, DROP etc.) to the database.\n",
        "\n",
        "If the question does not seem related to the database, just return \"I don't know\" as the answer.\n",
        "\n",
        "Here are some examples of user inputs and their corresponding SQL queries:\"\"\"\n",
        "\n",
        "few_shot_prompt = FewShotPromptTemplate(\n",
        "    example_selector=example_selector,\n",
        "    example_prompt=PromptTemplate.from_template(\n",
        "        \"User input: {input}\\nSQL query: {query}\"\n",
        "    ),\n",
        "    input_variables=[\"input\", \"dialect\", \"top_k\"],\n",
        "    prefix=system_prefix,\n",
        "    suffix=\"\",\n",
        ")"
      ],
      "metadata": {
        "id": "2-LTfvWHFHu4"
      },
      "execution_count": null,
      "outputs": []
    },
    {
      "cell_type": "code",
      "source": [
        "full_prompt = ChatPromptTemplate.from_messages(\n",
        "    [\n",
        "        SystemMessagePromptTemplate(prompt=few_shot_prompt),\n",
        "        (\"human\", \"{input}\"),\n",
        "        MessagesPlaceholder(\"agent_scratchpad\"),\n",
        "    ]\n",
        ")"
      ],
      "metadata": {
        "id": "kPHeUZh_FQ6p"
      },
      "execution_count": null,
      "outputs": []
    },
    {
      "cell_type": "code",
      "source": [
        "# Example formatted prompt\n",
        "prompt_val = full_prompt.invoke(\n",
        "    {\n",
        "        \"input\": \"How many arists are there\",\n",
        "        \"top_k\": 5,\n",
        "        \"dialect\": \"SQLite\",\n",
        "        \"agent_scratchpad\": [],\n",
        "    }\n",
        ")\n",
        "print(prompt_val.to_string())"
      ],
      "metadata": {
        "colab": {
          "base_uri": "https://localhost:8080/"
        },
        "id": "HEbiq5WIFTHc",
        "outputId": "c0afc5a7-1e91-4833-e54a-c36a43f0b6bf"
      },
      "execution_count": null,
      "outputs": [
        {
          "output_type": "stream",
          "name": "stdout",
          "text": [
            "System: You are an agent designed to interact with a SQL database.\n",
            "Given an input question, create a syntactically correct SQLite query to run, then look at the results of the query and return the answer.\n",
            "Unless the user specifies a specific number of examples they wish to obtain, always limit your query to at most 5 results.\n",
            "You can order the results by a relevant column to return the most interesting examples in the database.\n",
            "Never query for all the columns from a specific table, only ask for the relevant columns given the question.\n",
            "You have access to tools for interacting with the database.\n",
            "Only use the given tools. Only use the information returned by the tools to construct your final answer.\n",
            "You MUST double check your query before executing it. If you get an error while executing a query, rewrite the query and try again.\n",
            "\n",
            "DO NOT make any DML statements (INSERT, UPDATE, DELETE, DROP etc.) to the database.\n",
            "\n",
            "If the question does not seem related to the database, just return \"I don't know\" as the answer.\n",
            "\n",
            "Here are some examples of user inputs and their corresponding SQL queries:\n",
            "\n",
            "User input: List all artists.\n",
            "SQL query: SELECT * FROM Artist;\n",
            "\n",
            "User input: How many employees are there\n",
            "SQL query: SELECT COUNT(*) FROM \"Employees\"\n",
            "\n",
            "User input: How many tracks are there in the album with ID 5?\n",
            "SQL query: SELECT COUNT(*) FROM Tracks WHERE AlbumId = 5;\n",
            "\n",
            "User input: List all tracks in the 'Rock' genre.\n",
            "SQL query: SELECT * FROM Tracks WHERE GenreId = (SELECT GenreId FROM Genres WHERE Name = 'Rock');\n",
            "\n",
            "User input: Which albums are from the year 2000?\n",
            "SQL query: SELECT * FROM Albums WHERE strftime('%Y', ReleaseDate) = '2000';\n",
            "Human: How many arists are there\n"
          ]
        }
      ]
    },
    {
      "cell_type": "code",
      "source": [
        "agent = create_sql_agent(\n",
        "    llm=llm,\n",
        "    db=db,\n",
        "    prompt=full_prompt,\n",
        "    verbose=True,\n",
        "    agent_type=\"openai-tools\",\n",
        ")"
      ],
      "metadata": {
        "id": "1XL8K8MdFf81"
      },
      "execution_count": null,
      "outputs": []
    },
    {
      "cell_type": "code",
      "source": [
        "agent.invoke({\"input\": \"How many artists are there?\"})"
      ],
      "metadata": {
        "colab": {
          "base_uri": "https://localhost:8080/"
        },
        "id": "yrNm8BuBFky0",
        "outputId": "b8003eba-c33b-4929-d54f-37fae4461967"
      },
      "execution_count": null,
      "outputs": [
        {
          "output_type": "stream",
          "name": "stdout",
          "text": [
            "\n",
            "\n",
            "\u001b[1m> Entering new SQL Agent Executor chain...\u001b[0m\n",
            "\u001b[32;1m\u001b[1;3m\n",
            "Invoking: `sql_db_query` with `{'query': 'SELECT COUNT(*) FROM Artist;'}`\n",
            "\n",
            "\n",
            "\u001b[0m\u001b[36;1m\u001b[1;3mError: (sqlite3.OperationalError) no such table: Artist\n",
            "[SQL: SELECT COUNT(*) FROM Artist;]\n",
            "(Background on this error at: https://sqlalche.me/e/20/e3q8)\u001b[0m\u001b[32;1m\u001b[1;3m\n",
            "Invoking: `sql_db_list_tables` with `{}`\n",
            "\n",
            "\n",
            "\u001b[0m\u001b[38;5;200m\u001b[1;3malbums, artists, customers, employees, genres, invoice_items, invoices, media_types, playlist_track, playlists, tracks\u001b[0m\u001b[32;1m\u001b[1;3m\n",
            "Invoking: `sql_db_query` with `{'query': 'SELECT COUNT(*) FROM artists;'}`\n",
            "\n",
            "\n",
            "\u001b[0m\u001b[36;1m\u001b[1;3m[(275,)]\u001b[0m\u001b[32;1m\u001b[1;3mThere are 275 artists in the database.\u001b[0m\n",
            "\n",
            "\u001b[1m> Finished chain.\u001b[0m\n"
          ]
        },
        {
          "output_type": "execute_result",
          "data": {
            "text/plain": [
              "{'input': 'How many artists are there?',\n",
              " 'output': 'There are 275 artists in the database.'}"
            ]
          },
          "metadata": {},
          "execution_count": 37
        }
      ]
    },
    {
      "cell_type": "code",
      "source": [
        "import ast\n",
        "import re\n",
        "\n",
        "\n",
        "def query_as_list(db, query):\n",
        "    res = db.run(query)\n",
        "    res = [el for sub in ast.literal_eval(res) for el in sub if el]\n",
        "    res = [re.sub(r\"\\b\\d+\\b\", \"\", string).strip() for string in res]\n",
        "    return list(set(res))\n",
        "\n",
        "\n",
        "artists = query_as_list(db, \"SELECT Name FROM Artists\")\n",
        "albums = query_as_list(db, \"SELECT Title FROM Albums\")\n",
        "albums[:5]"
      ],
      "metadata": {
        "colab": {
          "base_uri": "https://localhost:8080/"
        },
        "id": "9pVTMpSRGdhM",
        "outputId": "672d1723-710a-420e-905e-341e783e5f2d"
      },
      "execution_count": null,
      "outputs": [
        {
          "output_type": "execute_result",
          "data": {
            "text/plain": [
              "['Greatest Kiss',\n",
              " 'Serie Sem Limite (Disc )',\n",
              " 'Nevermind',\n",
              " 'Hot Rocks, - (Disc )',\n",
              " 'MK III The Final Concerts [Disc ]']"
            ]
          },
          "metadata": {},
          "execution_count": 41
        }
      ]
    },
    {
      "cell_type": "code",
      "source": [
        "from langchain.agents.agent_toolkits import create_retriever_tool\n",
        "\n",
        "vector_db = FAISS.from_texts(artists + albums, OpenAIEmbeddings())\n",
        "retriever = vector_db.as_retriever(search_kwargs={\"k\": 5})\n",
        "description = \"\"\"Use to look up values to filter on. Input is an approximate spelling of the proper noun, output is \\\n",
        "valid proper nouns. Use the noun most similar to the search.\"\"\"\n",
        "retriever_tool = create_retriever_tool(\n",
        "    retriever,\n",
        "    name=\"search_proper_nouns\",\n",
        "    description=description,\n",
        ")"
      ],
      "metadata": {
        "id": "i-7u0im4GMec"
      },
      "execution_count": null,
      "outputs": []
    },
    {
      "cell_type": "code",
      "source": [
        "system = \"\"\"You are an agent designed to interact with a SQL database.\n",
        "Given an input question, create a syntactically correct {dialect} query to run, then look at the results of the query and return the answer.\n",
        "Unless the user specifies a specific number of examples they wish to obtain, always limit your query to at most {top_k} results.\n",
        "You can order the results by a relevant column to return the most interesting examples in the database.\n",
        "Never query for all the columns from a specific table, only ask for the relevant columns given the question.\n",
        "You have access to tools for interacting with the database.\n",
        "Only use the given tools. Only use the information returned by the tools to construct your final answer.\n",
        "You MUST double check your query before executing it. If you get an error while executing a query, rewrite the query and try again.\n",
        "\n",
        "DO NOT make any DML statements (INSERT, UPDATE, DELETE, DROP etc.) to the database.\n",
        "\n",
        "If you need to filter on a proper noun, you must ALWAYS first look up the filter value using the \"search_proper_nouns\" tool!\n",
        "\n",
        "You have access to the following tables: {table_names}\n",
        "\n",
        "If the question does not seem related to the database, just return \"I don't know\" as the answer.\"\"\"\n",
        "\n",
        "prompt = ChatPromptTemplate.from_messages(\n",
        "    [(\"system\", system), (\"human\", \"{input}\"), MessagesPlaceholder(\"agent_scratchpad\")]\n",
        ")\n",
        "agent = create_sql_agent(\n",
        "    llm=llm,\n",
        "    db=db,\n",
        "    extra_tools=[retriever_tool],\n",
        "    prompt=prompt,\n",
        "    agent_type=\"openai-tools\",\n",
        "    verbose=True,\n",
        ")"
      ],
      "metadata": {
        "id": "OjUekhOfGmj0"
      },
      "execution_count": null,
      "outputs": []
    },
    {
      "cell_type": "code",
      "source": [
        "agent.invoke({\"input\": \"How many albums does alis in chain have?\"})"
      ],
      "metadata": {
        "colab": {
          "base_uri": "https://localhost:8080/"
        },
        "id": "ZZqDxsDBGpDU",
        "outputId": "14187fd9-88fd-4e98-93b0-6eed9c276ae6"
      },
      "execution_count": null,
      "outputs": [
        {
          "output_type": "stream",
          "name": "stdout",
          "text": [
            "\n",
            "\n",
            "\u001b[1m> Entering new SQL Agent Executor chain...\u001b[0m\n",
            "\u001b[32;1m\u001b[1;3m\n",
            "Invoking: `search_proper_nouns` with `{'query': 'alis in chain'}`\n",
            "\n",
            "\n",
            "\u001b[0m\u001b[36;1m\u001b[1;3mAlice In Chains\n",
            "\n",
            "Aisha Duo\n",
            "\n",
            "Xis\n",
            "\n",
            "Da Lama Ao Caos\n",
            "\n",
            "A-Sides\u001b[0m\u001b[32;1m\u001b[1;3m\n",
            "Invoking: `sql_db_query` with `{'query': \"SELECT COUNT(*) AS album_count FROM albums WHERE artist_id = (SELECT artist_id FROM artists WHERE name = 'Alice In Chains')\"}`\n",
            "\n",
            "\n",
            "\u001b[0m\u001b[36;1m\u001b[1;3mError: (sqlite3.OperationalError) no such column: artist_id\n",
            "[SQL: SELECT COUNT(*) AS album_count FROM albums WHERE artist_id = (SELECT artist_id FROM artists WHERE name = 'Alice In Chains')]\n",
            "(Background on this error at: https://sqlalche.me/e/20/e3q8)\u001b[0m\u001b[32;1m\u001b[1;3m\n",
            "Invoking: `sql_db_query` with `{'query': \"SELECT COUNT(*) AS album_count FROM albums WHERE artist_id = (SELECT artist_id FROM artists WHERE name = 'Alice In Chains')\"}`\n",
            "\n",
            "\n",
            "\u001b[0m\u001b[36;1m\u001b[1;3mError: (sqlite3.OperationalError) no such column: artist_id\n",
            "[SQL: SELECT COUNT(*) AS album_count FROM albums WHERE artist_id = (SELECT artist_id FROM artists WHERE name = 'Alice In Chains')]\n",
            "(Background on this error at: https://sqlalche.me/e/20/e3q8)\u001b[0m\u001b[32;1m\u001b[1;3mI'm sorry, but it seems there was an error in retrieving the number of albums by Alice In Chains.\u001b[0m\n",
            "\n",
            "\u001b[1m> Finished chain.\u001b[0m\n"
          ]
        },
        {
          "output_type": "execute_result",
          "data": {
            "text/plain": [
              "{'input': 'How many albums does alis in chain have?',\n",
              " 'output': \"I'm sorry, but it seems there was an error in retrieving the number of albums by Alice In Chains.\"}"
            ]
          },
          "metadata": {},
          "execution_count": 45
        }
      ]
    },
    {
      "cell_type": "markdown",
      "source": [
        "Dialect-specific prompting"
      ],
      "metadata": {
        "id": "tnzgz3C_G66F"
      }
    },
    {
      "cell_type": "code",
      "source": [
        "from langchain.chains.sql_database.prompt import SQL_PROMPTS\n",
        "\n",
        "list(SQL_PROMPTS)"
      ],
      "metadata": {
        "colab": {
          "base_uri": "https://localhost:8080/"
        },
        "id": "fRenmJykG8v0",
        "outputId": "edc76b0f-eda8-4fd1-c1cc-a5cdf0d6aace"
      },
      "execution_count": null,
      "outputs": [
        {
          "output_type": "execute_result",
          "data": {
            "text/plain": [
              "['crate',\n",
              " 'duckdb',\n",
              " 'googlesql',\n",
              " 'mssql',\n",
              " 'mysql',\n",
              " 'mariadb',\n",
              " 'oracle',\n",
              " 'postgresql',\n",
              " 'sqlite',\n",
              " 'clickhouse',\n",
              " 'prestodb']"
            ]
          },
          "metadata": {},
          "execution_count": 46
        }
      ]
    },
    {
      "cell_type": "code",
      "source": [
        "from langchain.chains import create_sql_query_chain\n",
        "from langchain_openai import ChatOpenAI\n",
        "\n",
        "llm = ChatOpenAI(model=\"gpt-3.5-turbo\", temperature=\"0\")\n",
        "chain = create_sql_query_chain(llm, db)\n",
        "chain.get_prompts()[0].pretty_print()"
      ],
      "metadata": {
        "colab": {
          "base_uri": "https://localhost:8080/"
        },
        "id": "GXjb7HUDHBq0",
        "outputId": "e5292099-909c-45f4-b5aa-86c0b4e25913"
      },
      "execution_count": null,
      "outputs": [
        {
          "output_type": "stream",
          "name": "stdout",
          "text": [
            "You are a SQLite expert. Given an input question, first create a syntactically correct SQLite query to run, then look at the results of the query and return the answer to the input question.\n",
            "Unless the user specifies in the question a specific number of examples to obtain, query for at most 5 results using the LIMIT clause as per SQLite. You can order the results to return the most informative data in the database.\n",
            "Never query for all columns from a table. You must query only the columns that are needed to answer the question. Wrap each column name in double quotes (\") to denote them as delimited identifiers.\n",
            "Pay attention to use only the column names you can see in the tables below. Be careful to not query for columns that do not exist. Also, pay attention to which column is in which table.\n",
            "Pay attention to use date('now') function to get the current date, if the question involves \"today\".\n",
            "\n",
            "Use the following format:\n",
            "\n",
            "Question: Question here\n",
            "SQLQuery: SQL Query to run\n",
            "SQLResult: Result of the SQLQuery\n",
            "Answer: Final answer here\n",
            "\n",
            "Only use the following tables:\n",
            "\u001b[33;1m\u001b[1;3m{table_info}\u001b[0m\n",
            "\n",
            "Question: \u001b[33;1m\u001b[1;3m{input}\u001b[0m\n"
          ]
        }
      ]
    },
    {
      "cell_type": "code",
      "source": [
        "context = db.get_context()\n",
        "print(list(context))\n",
        "print(context[\"table_info\"])"
      ],
      "metadata": {
        "colab": {
          "base_uri": "https://localhost:8080/"
        },
        "id": "FWImucHMHIFr",
        "outputId": "7216d80d-2528-4bf1-db01-e94ac877e2f3"
      },
      "execution_count": null,
      "outputs": [
        {
          "output_type": "stream",
          "name": "stdout",
          "text": [
            "['table_info', 'table_names']\n",
            "\n",
            "CREATE TABLE albums (\n",
            "\t\"AlbumId\" INTEGER NOT NULL, \n",
            "\t\"Title\" NVARCHAR(160) NOT NULL, \n",
            "\t\"ArtistId\" INTEGER NOT NULL, \n",
            "\tPRIMARY KEY (\"AlbumId\"), \n",
            "\tFOREIGN KEY(\"ArtistId\") REFERENCES artists (\"ArtistId\")\n",
            ")\n",
            "\n",
            "/*\n",
            "3 rows from albums table:\n",
            "AlbumId\tTitle\tArtistId\n",
            "1\tFor Those About To Rock We Salute You\t1\n",
            "2\tBalls to the Wall\t2\n",
            "3\tRestless and Wild\t2\n",
            "*/\n",
            "\n",
            "\n",
            "CREATE TABLE artists (\n",
            "\t\"ArtistId\" INTEGER NOT NULL, \n",
            "\t\"Name\" NVARCHAR(120), \n",
            "\tPRIMARY KEY (\"ArtistId\")\n",
            ")\n",
            "\n",
            "/*\n",
            "3 rows from artists table:\n",
            "ArtistId\tName\n",
            "1\tAC/DC\n",
            "2\tAccept\n",
            "3\tAerosmith\n",
            "*/\n",
            "\n",
            "\n",
            "CREATE TABLE customers (\n",
            "\t\"CustomerId\" INTEGER NOT NULL, \n",
            "\t\"FirstName\" NVARCHAR(40) NOT NULL, \n",
            "\t\"LastName\" NVARCHAR(20) NOT NULL, \n",
            "\t\"Company\" NVARCHAR(80), \n",
            "\t\"Address\" NVARCHAR(70), \n",
            "\t\"City\" NVARCHAR(40), \n",
            "\t\"State\" NVARCHAR(40), \n",
            "\t\"Country\" NVARCHAR(40), \n",
            "\t\"PostalCode\" NVARCHAR(10), \n",
            "\t\"Phone\" NVARCHAR(24), \n",
            "\t\"Fax\" NVARCHAR(24), \n",
            "\t\"Email\" NVARCHAR(60) NOT NULL, \n",
            "\t\"SupportRepId\" INTEGER, \n",
            "\tPRIMARY KEY (\"CustomerId\"), \n",
            "\tFOREIGN KEY(\"SupportRepId\") REFERENCES employees (\"EmployeeId\")\n",
            ")\n",
            "\n",
            "/*\n",
            "3 rows from customers table:\n",
            "CustomerId\tFirstName\tLastName\tCompany\tAddress\tCity\tState\tCountry\tPostalCode\tPhone\tFax\tEmail\tSupportRepId\n",
            "1\tLuís\tGonçalves\tEmbraer - Empresa Brasileira de Aeronáutica S.A.\tAv. Brigadeiro Faria Lima, 2170\tSão José dos Campos\tSP\tBrazil\t12227-000\t+55 (12) 3923-5555\t+55 (12) 3923-5566\tluisg@embraer.com.br\t3\n",
            "2\tLeonie\tKöhler\tNone\tTheodor-Heuss-Straße 34\tStuttgart\tNone\tGermany\t70174\t+49 0711 2842222\tNone\tleonekohler@surfeu.de\t5\n",
            "3\tFrançois\tTremblay\tNone\t1498 rue Bélanger\tMontréal\tQC\tCanada\tH2G 1A7\t+1 (514) 721-4711\tNone\tftremblay@gmail.com\t3\n",
            "*/\n",
            "\n",
            "\n",
            "CREATE TABLE employees (\n",
            "\t\"EmployeeId\" INTEGER NOT NULL, \n",
            "\t\"LastName\" NVARCHAR(20) NOT NULL, \n",
            "\t\"FirstName\" NVARCHAR(20) NOT NULL, \n",
            "\t\"Title\" NVARCHAR(30), \n",
            "\t\"ReportsTo\" INTEGER, \n",
            "\t\"BirthDate\" DATETIME, \n",
            "\t\"HireDate\" DATETIME, \n",
            "\t\"Address\" NVARCHAR(70), \n",
            "\t\"City\" NVARCHAR(40), \n",
            "\t\"State\" NVARCHAR(40), \n",
            "\t\"Country\" NVARCHAR(40), \n",
            "\t\"PostalCode\" NVARCHAR(10), \n",
            "\t\"Phone\" NVARCHAR(24), \n",
            "\t\"Fax\" NVARCHAR(24), \n",
            "\t\"Email\" NVARCHAR(60), \n",
            "\tPRIMARY KEY (\"EmployeeId\"), \n",
            "\tFOREIGN KEY(\"ReportsTo\") REFERENCES employees (\"EmployeeId\")\n",
            ")\n",
            "\n",
            "/*\n",
            "3 rows from employees table:\n",
            "EmployeeId\tLastName\tFirstName\tTitle\tReportsTo\tBirthDate\tHireDate\tAddress\tCity\tState\tCountry\tPostalCode\tPhone\tFax\tEmail\n",
            "1\tAdams\tAndrew\tGeneral Manager\tNone\t1962-02-18 00:00:00\t2002-08-14 00:00:00\t11120 Jasper Ave NW\tEdmonton\tAB\tCanada\tT5K 2N1\t+1 (780) 428-9482\t+1 (780) 428-3457\tandrew@chinookcorp.com\n",
            "2\tEdwards\tNancy\tSales Manager\t1\t1958-12-08 00:00:00\t2002-05-01 00:00:00\t825 8 Ave SW\tCalgary\tAB\tCanada\tT2P 2T3\t+1 (403) 262-3443\t+1 (403) 262-3322\tnancy@chinookcorp.com\n",
            "3\tPeacock\tJane\tSales Support Agent\t2\t1973-08-29 00:00:00\t2002-04-01 00:00:00\t1111 6 Ave SW\tCalgary\tAB\tCanada\tT2P 5M5\t+1 (403) 262-3443\t+1 (403) 262-6712\tjane@chinookcorp.com\n",
            "*/\n",
            "\n",
            "\n",
            "CREATE TABLE genres (\n",
            "\t\"GenreId\" INTEGER NOT NULL, \n",
            "\t\"Name\" NVARCHAR(120), \n",
            "\tPRIMARY KEY (\"GenreId\")\n",
            ")\n",
            "\n",
            "/*\n",
            "3 rows from genres table:\n",
            "GenreId\tName\n",
            "1\tRock\n",
            "2\tJazz\n",
            "3\tMetal\n",
            "*/\n",
            "\n",
            "\n",
            "CREATE TABLE invoice_items (\n",
            "\t\"InvoiceLineId\" INTEGER NOT NULL, \n",
            "\t\"InvoiceId\" INTEGER NOT NULL, \n",
            "\t\"TrackId\" INTEGER NOT NULL, \n",
            "\t\"UnitPrice\" NUMERIC(10, 2) NOT NULL, \n",
            "\t\"Quantity\" INTEGER NOT NULL, \n",
            "\tPRIMARY KEY (\"InvoiceLineId\"), \n",
            "\tFOREIGN KEY(\"TrackId\") REFERENCES tracks (\"TrackId\"), \n",
            "\tFOREIGN KEY(\"InvoiceId\") REFERENCES invoices (\"InvoiceId\")\n",
            ")\n",
            "\n",
            "/*\n",
            "3 rows from invoice_items table:\n",
            "InvoiceLineId\tInvoiceId\tTrackId\tUnitPrice\tQuantity\n",
            "1\t1\t2\t0.99\t1\n",
            "2\t1\t4\t0.99\t1\n",
            "3\t2\t6\t0.99\t1\n",
            "*/\n",
            "\n",
            "\n",
            "CREATE TABLE invoices (\n",
            "\t\"InvoiceId\" INTEGER NOT NULL, \n",
            "\t\"CustomerId\" INTEGER NOT NULL, \n",
            "\t\"InvoiceDate\" DATETIME NOT NULL, \n",
            "\t\"BillingAddress\" NVARCHAR(70), \n",
            "\t\"BillingCity\" NVARCHAR(40), \n",
            "\t\"BillingState\" NVARCHAR(40), \n",
            "\t\"BillingCountry\" NVARCHAR(40), \n",
            "\t\"BillingPostalCode\" NVARCHAR(10), \n",
            "\t\"Total\" NUMERIC(10, 2) NOT NULL, \n",
            "\tPRIMARY KEY (\"InvoiceId\"), \n",
            "\tFOREIGN KEY(\"CustomerId\") REFERENCES customers (\"CustomerId\")\n",
            ")\n",
            "\n",
            "/*\n",
            "3 rows from invoices table:\n",
            "InvoiceId\tCustomerId\tInvoiceDate\tBillingAddress\tBillingCity\tBillingState\tBillingCountry\tBillingPostalCode\tTotal\n",
            "1\t2\t2009-01-01 00:00:00\tTheodor-Heuss-Straße 34\tStuttgart\tNone\tGermany\t70174\t1.98\n",
            "2\t4\t2009-01-02 00:00:00\tUllevålsveien 14\tOslo\tNone\tNorway\t0171\t3.96\n",
            "3\t8\t2009-01-03 00:00:00\tGrétrystraat 63\tBrussels\tNone\tBelgium\t1000\t5.94\n",
            "*/\n",
            "\n",
            "\n",
            "CREATE TABLE media_types (\n",
            "\t\"MediaTypeId\" INTEGER NOT NULL, \n",
            "\t\"Name\" NVARCHAR(120), \n",
            "\tPRIMARY KEY (\"MediaTypeId\")\n",
            ")\n",
            "\n",
            "/*\n",
            "3 rows from media_types table:\n",
            "MediaTypeId\tName\n",
            "1\tMPEG audio file\n",
            "2\tProtected AAC audio file\n",
            "3\tProtected MPEG-4 video file\n",
            "*/\n",
            "\n",
            "\n",
            "CREATE TABLE playlist_track (\n",
            "\t\"PlaylistId\" INTEGER NOT NULL, \n",
            "\t\"TrackId\" INTEGER NOT NULL, \n",
            "\tPRIMARY KEY (\"PlaylistId\", \"TrackId\"), \n",
            "\tFOREIGN KEY(\"TrackId\") REFERENCES tracks (\"TrackId\"), \n",
            "\tFOREIGN KEY(\"PlaylistId\") REFERENCES playlists (\"PlaylistId\")\n",
            ")\n",
            "\n",
            "/*\n",
            "3 rows from playlist_track table:\n",
            "PlaylistId\tTrackId\n",
            "1\t3402\n",
            "1\t3389\n",
            "1\t3390\n",
            "*/\n",
            "\n",
            "\n",
            "CREATE TABLE playlists (\n",
            "\t\"PlaylistId\" INTEGER NOT NULL, \n",
            "\t\"Name\" NVARCHAR(120), \n",
            "\tPRIMARY KEY (\"PlaylistId\")\n",
            ")\n",
            "\n",
            "/*\n",
            "3 rows from playlists table:\n",
            "PlaylistId\tName\n",
            "1\tMusic\n",
            "2\tMovies\n",
            "3\tTV Shows\n",
            "*/\n",
            "\n",
            "\n",
            "CREATE TABLE tracks (\n",
            "\t\"TrackId\" INTEGER NOT NULL, \n",
            "\t\"Name\" NVARCHAR(200) NOT NULL, \n",
            "\t\"AlbumId\" INTEGER, \n",
            "\t\"MediaTypeId\" INTEGER NOT NULL, \n",
            "\t\"GenreId\" INTEGER, \n",
            "\t\"Composer\" NVARCHAR(220), \n",
            "\t\"Milliseconds\" INTEGER NOT NULL, \n",
            "\t\"Bytes\" INTEGER, \n",
            "\t\"UnitPrice\" NUMERIC(10, 2) NOT NULL, \n",
            "\tPRIMARY KEY (\"TrackId\"), \n",
            "\tFOREIGN KEY(\"MediaTypeId\") REFERENCES media_types (\"MediaTypeId\"), \n",
            "\tFOREIGN KEY(\"GenreId\") REFERENCES genres (\"GenreId\"), \n",
            "\tFOREIGN KEY(\"AlbumId\") REFERENCES albums (\"AlbumId\")\n",
            ")\n",
            "\n",
            "/*\n",
            "3 rows from tracks table:\n",
            "TrackId\tName\tAlbumId\tMediaTypeId\tGenreId\tComposer\tMilliseconds\tBytes\tUnitPrice\n",
            "1\tFor Those About To Rock (We Salute You)\t1\t1\t1\tAngus Young, Malcolm Young, Brian Johnson\t343719\t11170334\t0.99\n",
            "2\tBalls to the Wall\t2\t2\t1\tNone\t342562\t5510424\t0.99\n",
            "3\tFast As a Shark\t3\t2\t1\tF. Baltes, S. Kaufman, U. Dirkscneider & W. Hoffman\t230619\t3990994\t0.99\n",
            "*/\n"
          ]
        }
      ]
    },
    {
      "cell_type": "code",
      "source": [
        "examples = [\n",
        "    {\"input\": \"List all artists.\", \"query\": \"SELECT * FROM Artist;\"},\n",
        "    {\n",
        "        \"input\": \"Find all albums for the artist 'AC/DC'.\",\n",
        "        \"query\": \"SELECT * FROM Album WHERE ArtistId = (SELECT ArtistId FROM Artist WHERE Name = 'AC/DC');\",\n",
        "    },\n",
        "    {\n",
        "        \"input\": \"List all tracks in the 'Rock' genre.\",\n",
        "        \"query\": \"SELECT * FROM Track WHERE GenreId = (SELECT GenreId FROM Genre WHERE Name = 'Rock');\",\n",
        "    },\n",
        "    {\n",
        "        \"input\": \"Find the total duration of all tracks.\",\n",
        "        \"query\": \"SELECT SUM(Milliseconds) FROM Track;\",\n",
        "    },\n",
        "    {\n",
        "        \"input\": \"List all customers from Canada.\",\n",
        "        \"query\": \"SELECT * FROM Customer WHERE Country = 'Canada';\",\n",
        "    },\n",
        "    {\n",
        "        \"input\": \"How many tracks are there in the album with ID 5?\",\n",
        "        \"query\": \"SELECT COUNT(*) FROM Track WHERE AlbumId = 5;\",\n",
        "    },\n",
        "    {\n",
        "        \"input\": \"Find the total number of invoices.\",\n",
        "        \"query\": \"SELECT COUNT(*) FROM Invoice;\",\n",
        "    },\n",
        "    {\n",
        "        \"input\": \"List all tracks that are longer than 5 minutes.\",\n",
        "        \"query\": \"SELECT * FROM Track WHERE Milliseconds > 300000;\",\n",
        "    },\n",
        "    {\n",
        "        \"input\": \"Who are the top 5 customers by total purchase?\",\n",
        "        \"query\": \"SELECT CustomerId, SUM(Total) AS TotalPurchase FROM Invoice GROUP BY CustomerId ORDER BY TotalPurchase DESC LIMIT 5;\",\n",
        "    },\n",
        "    {\n",
        "        \"input\": \"Which albums are from the year 2000?\",\n",
        "        \"query\": \"SELECT * FROM Album WHERE strftime('%Y', ReleaseDate) = '2000';\",\n",
        "    },\n",
        "    {\n",
        "        \"input\": \"How many employees are there\",\n",
        "        \"query\": 'SELECT COUNT(*) FROM \"Employee\"',\n",
        "    },\n",
        "]"
      ],
      "metadata": {
        "id": "4o01iTehHg77"
      },
      "execution_count": null,
      "outputs": []
    },
    {
      "cell_type": "code",
      "source": [
        "from langchain_core.prompts import FewShotPromptTemplate, PromptTemplate\n",
        "\n",
        "example_prompt = PromptTemplate.from_template(\"User input: {input}\\nSQL query: {query}\")\n",
        "prompt = FewShotPromptTemplate(\n",
        "    examples=examples[:5],\n",
        "    example_prompt=example_prompt,\n",
        "    prefix=\"You are a SQLite expert. Given an input question, create a syntactically correct SQLite query to run. Unless otherwise specificed, do not return more than {top_k} rows.\\n\\nHere is the relevant table info: {table_info}\\n\\nBelow are a number of examples of questions and their corresponding SQL queries.\",\n",
        "    suffix=\"User input: {input}\\nSQL query: \",\n",
        "    input_variables=[\"input\", \"top_k\", \"table_info\"],\n",
        ")"
      ],
      "metadata": {
        "id": "_oiUz-QjHm60"
      },
      "execution_count": null,
      "outputs": []
    },
    {
      "cell_type": "code",
      "source": [
        "print(prompt.format(input=\"How many artists are there?\", top_k=3, table_info=\"foo\"))"
      ],
      "metadata": {
        "colab": {
          "base_uri": "https://localhost:8080/"
        },
        "id": "oo-USmMTHrG8",
        "outputId": "d8fa59c2-04eb-4eb8-e75e-67a8b93f6063"
      },
      "execution_count": null,
      "outputs": [
        {
          "output_type": "stream",
          "name": "stdout",
          "text": [
            "You are a SQLite expert. Given an input question, create a syntactically correct SQLite query to run. Unless otherwise specificed, do not return more than 3 rows.\n",
            "\n",
            "Here is the relevant table info: foo\n",
            "\n",
            "Below are a number of examples of questions and their corresponding SQL queries.\n",
            "\n",
            "User input: List all artists.\n",
            "SQL query: SELECT * FROM Artist;\n",
            "\n",
            "User input: Find all albums for the artist 'AC/DC'.\n",
            "SQL query: SELECT * FROM Album WHERE ArtistId = (SELECT ArtistId FROM Artist WHERE Name = 'AC/DC');\n",
            "\n",
            "User input: List all tracks in the 'Rock' genre.\n",
            "SQL query: SELECT * FROM Track WHERE GenreId = (SELECT GenreId FROM Genre WHERE Name = 'Rock');\n",
            "\n",
            "User input: Find the total duration of all tracks.\n",
            "SQL query: SELECT SUM(Milliseconds) FROM Track;\n",
            "\n",
            "User input: List all customers from Canada.\n",
            "SQL query: SELECT * FROM Customer WHERE Country = 'Canada';\n",
            "\n",
            "User input: How many artists are there?\n",
            "SQL query: \n"
          ]
        }
      ]
    },
    {
      "cell_type": "code",
      "source": [
        "from langchain_community.vectorstores import FAISS\n",
        "from langchain_core.example_selectors import SemanticSimilarityExampleSelector\n",
        "from langchain_openai import OpenAIEmbeddings\n",
        "\n",
        "example_selector = SemanticSimilarityExampleSelector.from_examples(\n",
        "    examples,\n",
        "    OpenAIEmbeddings(),\n",
        "    FAISS,\n",
        "    k=5,\n",
        "    input_keys=[\"input\"],\n",
        ")"
      ],
      "metadata": {
        "id": "-WFn-PAzH6Vl"
      },
      "execution_count": null,
      "outputs": []
    },
    {
      "cell_type": "code",
      "source": [
        "example_selector.select_examples({\"input\": \"how many artists are there?\"})"
      ],
      "metadata": {
        "colab": {
          "base_uri": "https://localhost:8080/"
        },
        "id": "JUt0UcV2H8jU",
        "outputId": "70284a47-d845-4bf2-86c6-109d1bfdf52e"
      },
      "execution_count": null,
      "outputs": [
        {
          "output_type": "execute_result",
          "data": {
            "text/plain": [
              "[{'input': 'List all artists.', 'query': 'SELECT * FROM Artist;'},\n",
              " {'input': 'How many employees are there',\n",
              "  'query': 'SELECT COUNT(*) FROM \"Employee\"'},\n",
              " {'input': 'How many tracks are there in the album with ID 5?',\n",
              "  'query': 'SELECT COUNT(*) FROM Track WHERE AlbumId = 5;'},\n",
              " {'input': 'Which albums are from the year 2000?',\n",
              "  'query': \"SELECT * FROM Album WHERE strftime('%Y', ReleaseDate) = '2000';\"},\n",
              " {'input': \"List all tracks in the 'Rock' genre.\",\n",
              "  'query': \"SELECT * FROM Track WHERE GenreId = (SELECT GenreId FROM Genre WHERE Name = 'Rock');\"}]"
            ]
          },
          "metadata": {},
          "execution_count": 53
        }
      ]
    },
    {
      "cell_type": "code",
      "source": [
        "prompt = FewShotPromptTemplate(\n",
        "    example_selector=example_selector,\n",
        "    example_prompt=example_prompt,\n",
        "    prefix=\"You are a SQLite expert. Given an input question, create a syntactically correct SQLite query to run. Unless otherwise specificed, do not return more than {top_k} rows.\\n\\nHere is the relevant table info: {table_info}\\n\\nBelow are a number of examples of questions and their corresponding SQL queries.\",\n",
        "    suffix=\"User input: {input}\\nSQL query: \",\n",
        "    input_variables=[\"input\", \"top_k\", \"table_info\"],\n",
        ")"
      ],
      "metadata": {
        "id": "MuDyP-UiIDnl"
      },
      "execution_count": null,
      "outputs": []
    },
    {
      "cell_type": "code",
      "source": [
        "print(prompt.format(input=\"how many artists are there?\", top_k=3, table_info=\"foo\"))"
      ],
      "metadata": {
        "colab": {
          "base_uri": "https://localhost:8080/"
        },
        "id": "PyvwOQISIFo8",
        "outputId": "96b33be7-8107-4148-cee0-eb526e154a00"
      },
      "execution_count": null,
      "outputs": [
        {
          "output_type": "stream",
          "name": "stdout",
          "text": [
            "You are a SQLite expert. Given an input question, create a syntactically correct SQLite query to run. Unless otherwise specificed, do not return more than 3 rows.\n",
            "\n",
            "Here is the relevant table info: foo\n",
            "\n",
            "Below are a number of examples of questions and their corresponding SQL queries.\n",
            "\n",
            "User input: List all artists.\n",
            "SQL query: SELECT * FROM Artist;\n",
            "\n",
            "User input: How many employees are there\n",
            "SQL query: SELECT COUNT(*) FROM \"Employee\"\n",
            "\n",
            "User input: How many tracks are there in the album with ID 5?\n",
            "SQL query: SELECT COUNT(*) FROM Track WHERE AlbumId = 5;\n",
            "\n",
            "User input: Which albums are from the year 2000?\n",
            "SQL query: SELECT * FROM Album WHERE strftime('%Y', ReleaseDate) = '2000';\n",
            "\n",
            "User input: List all tracks in the 'Rock' genre.\n",
            "SQL query: SELECT * FROM Track WHERE GenreId = (SELECT GenreId FROM Genre WHERE Name = 'Rock');\n",
            "\n",
            "User input: how many artists are there?\n",
            "SQL query: \n"
          ]
        }
      ]
    },
    {
      "cell_type": "code",
      "source": [
        "chain = create_sql_query_chain(llm, db, prompt)\n",
        "chain.invoke({\"question\": \"how many artists are there?\"})"
      ],
      "metadata": {
        "colab": {
          "base_uri": "https://localhost:8080/",
          "height": 35
        },
        "id": "lUr_cm1uIKLE",
        "outputId": "d51c246b-0eb1-4d2e-d774-d4a1d2a5efb4"
      },
      "execution_count": null,
      "outputs": [
        {
          "output_type": "execute_result",
          "data": {
            "text/plain": [
              "'SELECT COUNT(*) FROM artists;'"
            ],
            "application/vnd.google.colaboratory.intrinsic+json": {
              "type": "string"
            }
          },
          "metadata": {},
          "execution_count": 56
        }
      ]
    }
  ]
}