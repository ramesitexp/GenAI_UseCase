{
  "cells": [
    {
      "cell_type": "markdown",
      "metadata": {
        "id": "view-in-github",
        "colab_type": "text"
      },
      "source": [
        "<a href=\"https://colab.research.google.com/github/ramesitexp/genai_usecase/blob/main/ResumeClassification.ipynb\" target=\"_parent\"><img src=\"https://colab.research.google.com/assets/colab-badge.svg\" alt=\"Open In Colab\"/></a>"
      ]
    },
    {
      "cell_type": "code",
      "execution_count": null,
      "metadata": {
        "colab": {
          "base_uri": "https://localhost:8080/"
        },
        "id": "p91Z1ItMhE7K",
        "outputId": "9e96fa11-805f-4d73-9a61-674540b5492f"
      },
      "outputs": [
        {
          "name": "stdout",
          "output_type": "stream",
          "text": [
            "\u001b[?25l     \u001b[90m━━━━━━━━━━━━━━━━━━━━━━━━━━━━━━━━━━━━━━━━\u001b[0m \u001b[32m0.0/536.7 kB\u001b[0m \u001b[31m?\u001b[0m eta \u001b[36m-:--:--\u001b[0m\r\u001b[2K     \u001b[91m━━━━━━━━━━━━━━━━━━━━━━\u001b[0m\u001b[91m╸\u001b[0m\u001b[90m━━━━━━━━━━━━━━━━━\u001b[0m \u001b[32m307.2/536.7 kB\u001b[0m \u001b[31m9.5 MB/s\u001b[0m eta \u001b[36m0:00:01\u001b[0m\r\u001b[2K     \u001b[90m━━━━━━━━━━━━━━━━━━━━━━━━━━━━━━━━━━━━━━━━\u001b[0m \u001b[32m536.7/536.7 kB\u001b[0m \u001b[31m10.8 MB/s\u001b[0m eta \u001b[36m0:00:00\u001b[0m\n",
            "\u001b[?25h\u001b[?25l     \u001b[90m━━━━━━━━━━━━━━━━━━━━━━━━━━━━━━━━━━━━━━━━\u001b[0m \u001b[32m0.0/106.3 kB\u001b[0m \u001b[31m?\u001b[0m eta \u001b[36m-:--:--\u001b[0m\r\u001b[2K     \u001b[90m━━━━━━━━━━━━━━━━━━━━━━━━━━━━━━━━━━━━━━━━\u001b[0m \u001b[32m106.3/106.3 kB\u001b[0m \u001b[31m12.5 MB/s\u001b[0m eta \u001b[36m0:00:00\u001b[0m\n",
            "\u001b[?25h  Preparing metadata (setup.py) ... \u001b[?25l\u001b[?25hdone\n",
            "\u001b[2K     \u001b[90m━━━━━━━━━━━━━━━━━━━━━━━━━━━━━━━━━━━━━━━━\u001b[0m \u001b[32m67.0/67.0 kB\u001b[0m \u001b[31m7.2 MB/s\u001b[0m eta \u001b[36m0:00:00\u001b[0m\n",
            "\u001b[2K     \u001b[90m━━━━━━━━━━━━━━━━━━━━━━━━━━━━━━━━━━━━━━━━\u001b[0m \u001b[32m116.3/116.3 kB\u001b[0m \u001b[31m11.6 MB/s\u001b[0m eta \u001b[36m0:00:00\u001b[0m\n",
            "\u001b[2K     \u001b[90m━━━━━━━━━━━━━━━━━━━━━━━━━━━━━━━━━━━━━━━━\u001b[0m \u001b[32m134.8/134.8 kB\u001b[0m \u001b[31m14.7 MB/s\u001b[0m eta \u001b[36m0:00:00\u001b[0m\n",
            "\u001b[2K     \u001b[90m━━━━━━━━━━━━━━━━━━━━━━━━━━━━━━━━━━━━━━━━\u001b[0m \u001b[32m2.1/2.1 MB\u001b[0m \u001b[31m27.8 MB/s\u001b[0m eta \u001b[36m0:00:00\u001b[0m\n",
            "\u001b[2K     \u001b[90m━━━━━━━━━━━━━━━━━━━━━━━━━━━━━━━━━━━━━━━━\u001b[0m \u001b[32m412.3/412.3 kB\u001b[0m \u001b[31m34.6 MB/s\u001b[0m eta \u001b[36m0:00:00\u001b[0m\n",
            "\u001b[2K     \u001b[90m━━━━━━━━━━━━━━━━━━━━━━━━━━━━━━━━━━━━━━━━\u001b[0m \u001b[32m138.9/138.9 kB\u001b[0m \u001b[31m16.4 MB/s\u001b[0m eta \u001b[36m0:00:00\u001b[0m\n",
            "\u001b[2K     \u001b[90m━━━━━━━━━━━━━━━━━━━━━━━━━━━━━━━━━━━━━━━━\u001b[0m \u001b[32m49.7/49.7 kB\u001b[0m \u001b[31m5.0 MB/s\u001b[0m eta \u001b[36m0:00:00\u001b[0m\n",
            "\u001b[2K     \u001b[90m━━━━━━━━━━━━━━━━━━━━━━━━━━━━━━━━━━━━━━━━\u001b[0m \u001b[32m93.1/93.1 kB\u001b[0m \u001b[31m12.6 MB/s\u001b[0m eta \u001b[36m0:00:00\u001b[0m\n",
            "\u001b[2K     \u001b[90m━━━━━━━━━━━━━━━━━━━━━━━━━━━━━━━━━━━━━━━━\u001b[0m \u001b[32m3.0/3.0 MB\u001b[0m \u001b[31m84.7 MB/s\u001b[0m eta \u001b[36m0:00:00\u001b[0m\n",
            "\u001b[?25h  Building wheel for rouge_score (setup.py) ... \u001b[?25l\u001b[?25hdone\n"
          ]
        }
      ],
      "source": [
        "!pip install transformers[sentencepiece] datasets sacrebleu rouge_score py7zr -q"
      ]
    },
    {
      "cell_type": "code",
      "execution_count": null,
      "metadata": {
        "colab": {
          "base_uri": "https://localhost:8080/"
        },
        "id": "XLNCkBuQhY6r",
        "outputId": "4dfef322-12d8-4dce-eeca-1621e8fb6ace"
      },
      "outputs": [
        {
          "name": "stdout",
          "output_type": "stream",
          "text": [
            "\u001b[2K     \u001b[90m━━━━━━━━━━━━━━━━━━━━━━━━━━━━━━━━━━━━━━━━\u001b[0m \u001b[32m280.0/280.0 kB\u001b[0m \u001b[31m6.2 MB/s\u001b[0m eta \u001b[36m0:00:00\u001b[0m\n",
            "\u001b[2K     \u001b[90m━━━━━━━━━━━━━━━━━━━━━━━━━━━━━━━━━━━━━━━━\u001b[0m \u001b[32m8.5/8.5 MB\u001b[0m \u001b[31m22.4 MB/s\u001b[0m eta \u001b[36m0:00:00\u001b[0m\n",
            "\u001b[?25h"
          ]
        }
      ],
      "source": [
        "!pip install --upgrade accelerate -q\n",
        "!pip uninstall -y transformers accelerate -q\n",
        "!pip install transformers accelerate -q"
      ]
    },
    {
      "cell_type": "code",
      "execution_count": null,
      "metadata": {
        "id": "sZjXhL9Iht59"
      },
      "outputs": [],
      "source": [
        "import pandas as pd"
      ]
    },
    {
      "cell_type": "code",
      "execution_count": null,
      "metadata": {
        "colab": {
          "base_uri": "https://localhost:8080/",
          "height": 206
        },
        "id": "eOhEiH_fk57j",
        "outputId": "2dde0735-1cc0-4334-e93d-3227db2cf278"
      },
      "outputs": [
        {
          "data": {
            "application/vnd.google.colaboratory.intrinsic+json": {
              "summary": "{\n  \"name\": \"data\",\n  \"rows\": 2484,\n  \"fields\": [\n    {\n      \"column\": \"ID\",\n      \"properties\": {\n        \"dtype\": \"number\",\n        \"std\": 21457345,\n        \"min\": 3547447,\n        \"max\": 99806115,\n        \"num_unique_values\": 2484,\n        \"samples\": [\n          99244405,\n          17562754,\n          30311725\n        ],\n        \"semantic_type\": \"\",\n        \"description\": \"\"\n      }\n    },\n    {\n      \"column\": \"Resume_str\",\n      \"properties\": {\n        \"dtype\": \"string\",\n        \"num_unique_values\": 2482,\n        \"samples\": [\n          \"         INFORMATION TECHNOLOGY SPECIALIST(DISCOUNTPCFIX)       Summary     I am obsessed with technology. It's power to change everything. Technology fuels my passion and commitment to helping organizations do what they set out to. When I engage, I bring fresh ideas that help your team galvanize performance. Refine your strategy. Spark new energy. \\nThe future\\u2014and how we get there\\u2014depends on those who build, connect, create and transform our world.  Accomplished with over 10 years of information technology support experience.  Highly articulate Capable experienced installing and updating hardware and software systems for users. Known for effectively optimizing systems to meet changing demands, enhancing collaboration and improving security.  Experienced Operations Analyst with first-rate skills in organizing, problem solving and project management. Ready to apply experience and abilities to take on new professional challenges.  Passionate and driven professional with remarkable analytical and problem solving skills.  Expert quality assurance tester offering five years of experience in detailed technical and system specifications.  Provides a collaborative style and has well-developed communication skills. Seeking a role in test reporting and defect resolution.  Well-rounded team player with dynamic written and verbal communication skills.  Hardworking and resourceful team player.  History of going above and beyond to achieve notable results.  Offering excellent blend of technical aptitude and creative ability. Inspires design teams with engaging management techniques and innovative thinking. Resourceful Technical Support Engineer polished in restoring system functionality by quickly assessing and resolving diverse hardware and software problems.       Skills          Issue escalation  Reporting and analysis  Quality control  Schematic understanding  Critical thinking  Data management  Network Administration  Experience in leadership  Improvement plan knowledge  Supervision  Hardware repair  Computer configurations  System upgrades  New program installations  Organizational leadership  Troubleshooting and Maintenance  Equipment repair  Power and hand tool use  Troubleshooting and repairs  Preventative maintenance  Telecommunications systems  Component repairs  Multitasking  Part inspections  Friendly, positive attitude  LAN and WAN configurations      Server and System Administration  End-User Training  Program installations  Software testing  Server improvements  Data backups  Project management  Security technologies  Network configuration  Time management  Active Directory knowledge  Cybersecurity analysis  System Administration  Microsoft Office  MS Office  Apple iOS Technician  Help desk assistance  Application software testing  Mechanical abilities  Information Systems Security Professional  Advanced knowledge of Windows OS  Advanced knowledge of Google Chrome OS  Soldering  Database management  Technical knowledge of server system softwares  Servers, storage systems, network equipment, PCs or notebooks of any brands.            Experience      Information Technology Specialist(Discountpcfix)   |   11/2011   -   Current    Company Name    -    City  ,   State       Assisted client with new computer and network equipment purchases.  Updated or installed software for customers to ensure computer efficiency.  Checked in computers and performed diagnostics for repair.  Backed up data each evening, helping alleviate lost information following malware incident.  Updated software versions with patches and new installations to close security loopholes and protect users.  Identified hardware issues caused by component failures using approved diagnostic tools.  Installed over motherboards, processors and graphics cards.  Configured computers to network drivers and connected to printers and other peripheral equipment.  Upgraded laptops/desktops, improving speed and performance.  Fixed All Apple(iphone,imac,ipad,laptop) Products Screen damage.  Fixed any brand,Windows OS,Mac OS,Chrome OS products liquid damage.  Observed system functioning and entered commands to test different areas of operations.  Explained technology-related details in easy-to-understand terms to individuals from all walks of life and in various job positions.  Responded to assistance requests from users and directed individuals through basic troubleshooting tasks.  Reviewed current hardware and software configurations and recommended modifications to increase system speed.  Serviced and repaired equipment according to manufacturer guidelines.  Installed new systems and components according to service orders and manufacturer instructions.  Assessed and identified issues and quickly resolved to restore functionality.  Built and repaired computers according to schedule.  Installed, configured, and setup PCs in all stores for optimal operation and reporting.  Evaluated interfaces between hardware and software, testing performance requirements.  Studied complex technical issues and determined proper resolution methods.  Assisted with post-implementation troubleshooting of new applications and application upgrades.  Determined and alleviated hardware, software and network issues.  Installed and supported hardware and software, including desktops, servers and printers.  Identified operational and performance issues and worked with managers to resolve concerns.  Completed various reports and analyzed each report to decide where improvements could be made.  Recommended process and systems improvements such as changes to operations.  Updated hardware and software upon availability and supervised network to eliminate bottlenecks immediately.  Handled network configurations after hours and on weekends to alleviate downtime and maintain smooth operations.  Assisted customers with various types of technical issues via email, live chat and telephone.  Delivered local and remote Tier 1 IT support for hardware and software to company personnel.  Disassembled computer systems to troubleshoot and resolve hardware issues.  Increased overall company performance through improved IT uptime and cost reductions.         Quality Control Inspector Contractor   |   04/2019   -   Current    Company Name    -    City  ,   State       Conferred with scientific, engineering and technical personnel to resolve design, research and testing problems.  Worked with engineers to facilitate research and development testing, correct mechanical failures and generate technical specifications prior to release.  Developed and implemented best practices for defect prevention and continuous improvement.  Used specialized tools to take precise measurements of various aspects of samples.  Consulted with engineers to resolve quality, production and efficiency problems.  Wrote detailed reports outlining performance, quality and defect rates.  Completed non-destructive tests and visual inspections on a continuous basis.  Inspected quality of finished products, making minor repairs to meet project expectations.  Documented nonconformities immediately and recommended techniques for prompt resolution.  Completed non-destructive tests and visual inspections continuously.  Reviewed drawings and blueprints to determine appropriate level of inspection required.  Adhered to all safety protocols to minimize equipment damage and avoid injuries.  Assessed materials, parts and products for conformance with quality control requirements and production specifications.         Network Analyst   |   06/2016   -   05/2018    Company Name    -    City  ,   State       Identified operational and performance issues and worked with managers to resolve concerns.  Supporting of the following hardware types: servers, storage systems, network equipment, PCs ipad and notebooks of any brands.  Analyzed operational performance to identify pain points and provided actionable solutions to management.  Educated personnel on company policies to foster improved customer retention and increased revenue.  Technical knowledge of standard server system software (Linux, Windows, VMWare)  Drove revenue and customer retention by visiting corporate and franchise centers serving clients to educate staff on company policies and customer styling applications.  Wrote reports outlining results to facilitate management decision making.  Executed and monitored standards for user interfaces, page design and graphics development.  Provided senior technical support to both in-house staff and user departments for all network applications.  Monitored project budget through the careful assessment of resource usage and task management to ensure that costs were kept low.  Supported customers with password resets and account customization.  Recorded complaints, product deficiencies, returned orders and other customer documentation in system.  Supported customers having data connectivity issues, assisting with troubleshooting steps and rebooting of hardware.  Maintained composure and patience in face of difficult customer situations, applying de-escalation techniques and positive customer support.  Performed site evaluations, customer surveys and team audits.  Promoted continuous improvement for IT governance processes.  Spearheaded server infrastructure development, quality control, staging and production operations.         Quality Control Manager   |   07/2013   -   08/2015    Company Name    -    City  ,   State       Stayed well-informed of all company and federal regulations, which bolstered compliance of all corporate processes.  Used creative and professional policy to find solutions to issues while diminishing conflicts.  Handled all scheduling procedures for the department and directed team members in setting and achieving goals.  Observed customer specifications by monitoring the quality control of finished products.         Education and Training      The Federal Polytechnic, Ado-Ekiti    -    City  ,  State      |    Associate of Science    Science Technology  ,   2003          Phoenix East Aviation    -    City  ,  State      |    F.A.A  Aircraft Dispatcher License    Aviation  ,   2014          University Of Colorado At Boulder    -    City        |    Certificate    Cybersecurity Policy For Aviation And Internet   ,   07/2020          GOOGLE I.T SUPPORT    -    City        |    Certificate      03/2021     Completed professional Course in:   IT Security: Defense against the digital dark arts  Operating System and You: Becoming a power user  The Bits and Bytes of Computer Networking  System Administration and IT Infrastructure Service  Technical Support Fundamentals     \",\n          \"         BUSINESS DEVELOPMENT DIRECTOR       Summary     I collaborate with multiple stakeholders to determine audience needs, quickly developing strategic plans that align with my clients business priorities and strategies.       Experience      Business Development Director   05/1997   to   Current     Company Name   City  ,   State      Producing measurable results for my clients by designing unique engagement initiatives for employees, sales channel partners and consumers groups. Sales of performance improvement products, most being intangible services to Fortune 500 clients. Success at discovering and growing my business with customers who have the potential to spend more than $1 million with me each year.   I have designed innovative solutions, customized to each customers various objectives and end result needs.  Managing my internal teams to develop, design and operate complex custom projects ranging in value at least $150,000 to millions.  Titles called on include the entire C suite, CEO, COO, CFO, CMO, President, EVP's of Marketing, Sales, Human Resources & Finance.  Define business issues to improve revenue and penetrating existing accounts and opening new.  Sold 17 new accounts while in current position, managed sales volume and profit margin with long sales cycle.  Managed and hired staff of 4 to work with my major global account travel & meetings business over 8 years.  Total book of business constantly over $2.5 million each year.  Nearly twice the entertainment activity of other BDD's with similar tenure.  Achieved over $6 million in sales twice, becoming a trusted partner to my clients, customers want me to Win!          Account Territory & District Sales Manager / National Account Sales   08/1989   to   04/1997     Company Name   City  ,   State       Responsible for growth of distributor sales volume, product mix and motivation of DSR sales forces.  Developed my own custom local training and marketing materials, which were later adopted by the Nestle corporate.  Distributor and chain accounts accounted for over $11 million in sales.  Increased my chain accounts by over 75% while with national accounts.  Created sales forecasts, developed budgets, strategic plans and managed entire regional office staff. Working with my team we grew business at Nestle largest US account by nearly double.  Surpassed sales, budget goals every year as manager and twice led company nationally in new product introductions.  District sales grew from $16 million to over $22 million as district manager. Hired five salespeople and 4 direct reports were promoted, managed up to eight account managers at a time.  Developed new reports, marketing and promotional strategies for the field. Designed account reviews process, management and field training programs for the entire company.  Sold small business owners and managed distributor sales accounts, using strategic planning, innovative programming and by cultivating strong personal relationships. Took area territory sales from $500,000 to $2.9 million, with a mature company in an industry with an average annual increase of only 3-5%.          Financial Operations Executive and Department Merchandising Manager   04/1988   to   08/1989     Company Name   City  ,   State     Financial Operations Executive for the South Bend store. Volunteered to be merchandise manager for the stores largest department. While in this role the department had the highest per foot sales volume of any department in the entire corporation during the 4th quarter of 1988.        Accomplishments      4 times President Achievement Guild Award winner, award for sales volume and profit.  3 times President Achievement Award winner, award for sales volume and profit.  4 times Achievement Guild winner, for leadership in 3 year running combined volume.  Top travel and meetings sales several times since with BIW.  National sales contest \\\"the 1993 Superbowl\\\".  Twice awarded \\\"The Over Achiever of the Year\\\" by my most profitable direct customer.  Reviewed consistently by management throughout career as \\\"Outstanding or Exceeding Expectations\\\".  College: elected to executive positions with both Finance Club and Resident Housing Association.        Skills     Sales, Business Development, Distributor Sales, Territory Sales, District Sales, Sales of Solutions, Sales Teams, Sales Accounts, National Accounts, Sales Management, Strategic Accounts, Sales Promotions, Travel & Meeting Sales, Technology Application Sales, Clients Management, Marketing, Budget, Budgets, Forecasts, Promotional, Travel & Meeting Operations, Strategic Planning, Training, Training Development, Financial Operations, Merchandising, Corporate Operations, Employee Engagement, Managing Existing Accounts, Forecasting, Human Resources, Finding New Accounts, Relationship Building and Strategic Direction.       Education      Bachelor of Business Administration  :   Finance, General Business   1988       Western Michigan University   City  ,   State  ,   US      Earned over 85% of all educational/living costs. Jobs worked while in college, industrial heavy construction, excelled at several sales roles including at direct sales of home goods. While in direct sales I won a national trip and was ranked in the top 10 in the country in sales.  Started two successful on campus businesses. Member of the varsity division I football team for 4 years.         Organizations     IMEX, Milford Memories Planning Board, Huron Valley Youth Baseball President/Treasurer/Director of Travel Baseball, Lakeland Milford Travel Secretary and Milford High School baseball instructor.    \",\n          \"           ENGINEERING MANAGER         Professional Summary    Experienced product development Engineer and manager able to collaborate with cross functional team as well as customers and sales to bring brand new offerings to new markets. Skilled at managing cross functional team for continuous improvements and meeting project deadlines. Offering 6 years of experience in the field.      Skills          Microsoft Office  Microsoft Project  Product development  Quality  Research  Six Sigma Green Belt  Solid Works  Visio  Prioritization  Personnel management  Critical thinking skills  Team management  Analyst, Visio  Agency  Consulting  Cost analysis  Critical thinking  Designing  Dialysis  Direction      Develop drug  Functional  IIa  ISO  Leadership  Market and development  Microsoft Office  Microsoft Project  Personnel management  Design process  Product development  Product management  Quality  Researching  Research  Sales  Six Sigma  Solid Works  Team management  Validation            Work History      Engineering Manager  ,     03/2018   to   Current       City  ,   State      Create and maintain Technical Files per MDR requirements as well as attaining 510k on legacy products.  Assess testing gaps of legacy products and design creep.  Experienced in working with multiple departments.  Experienced in training and leading engineers in order to investigate field complaints, Gap analysis and building Technical files/DHF.  Experienced in leading team of engineers to lead all aspects of design process, including regulatory needs per market and development per design control.  Tasked to create test plan and analysis of existing Class I, II and III products and Testing per latest applicable requirements.  Trained team in conducting project related cost analysis, test gap analysis and researching ISO/EN ISO/ASTM requirements.  Leading companywide EU MDR product transfer and testing on Infusion products, Dialysis products and standalone products.  Provided technical direction on MDR and 510k related projects and initiatives to other engineers and technicians.         Project Engineer II  ,     03/2017   to   03/2018     Company Name   \\u2013   City  ,   State      Working with product management, Clinical Analyst, sales, and regulatory to determine optimal design inputs for new products.  Completed design transfer and attained 510k on Class IIb device in under year.  Lead cross functional team including consulting agency in order to Develop drug device combination product and research optimal process using DOE in order for mass production.  Leading all aspects of design control from designing on solid works to process validations and V&V Testing.  Analyzing and resolving field failures through investigation and testing.  Experienced in working with international regulatory teams in providing information for foreign registration.  Responsible for gap analysis and test planning in order to create and meet deadline for projects.  Experienced with reviewing and approving validation activities as well as provide support to staff to achieve project milestones.  Experienced working with cross functional teams to complete projects and tasks.         Engineer I  ,     06/2013   to   03/2017     Company Name   \\u2013   City  ,   State      Worked to bring Drug Device Combination product to mass production.  Completed new Class IIa product and completed project in 10 months.  Completing CAPAs and resolving field failures by research and testing.  Developed new testing methods and designed tooling for new testing.  Experienced in using Injection Molding Machine to Create and Test Prototypes.  Found cheaper and more responsible vendor for MRI related testing.         Education      Bachelor of Science  :   Mechanical Engineering  ,   05/2013     Temple University   -   City  ,   State           Certifications\\nManagement Leadership Certification and Six Sigma Greenbelt certification              Work History      Engineering Manager  ,   03/2018   to   Current       City  ,   State      Create and maintain Technical Files per MDR requirements as well as attaining 510k on legacy products.  Assess testing gaps of legacy products and design creep.  Experienced in working with multiple departments.  Experienced in training and leading engineers in order to investigate field complaints, Gap analysis and building Technical files/DHF.  Experienced in leading team of engineers to lead all aspects of design process, including regulatory needs per market and development per design control.  Tasked to create test plan and analysis of existing Class I, II and III products and Testing per latest applicable requirements.  Trained team in conducting project related cost analysis, test gap analysis and researching ISO/EN ISO/ASTM requirements.  Leading companywide EU MDR product transfer and testing on Infusion products, Dialysis products and standalone products.  Provided technical direction on MDR and 510k related projects and initiatives to other engineers and technicians.         Project Engineer II  ,   03/2017   to   03/2018     Company Name   \\u2013   City  ,   State      Working with product management, Clinical Analyst, sales, and regulatory to determine optimal design inputs for new products.  Completed design transfer and attained 510k on Class IIb device in under year.  Lead cross functional team including consulting agency in order to Develop drug device combination product and research optimal process using DOE in order for mass production.  Leading all aspects of design control from designing on solid works to process validations and V&V Testing.  Analyzing and resolving field failures through investigation and testing.  Experienced in working with international regulatory teams in providing information for foreign registration.  Responsible for gap analysis and test planning in order to create and meet deadline for projects.  Experienced with reviewing and approving validation activities as well as provide support to staff to achieve project milestones.  Experienced working with cross functional teams to complete projects and tasks.         Engineer I  ,   06/2013   to   03/2017     Company Name   \\u2013   City  ,   State      Worked to bring Drug Device Combination product to mass production.  Completed new Class IIa product and completed project in 10 months.  Completing CAPAs and resolving field failures by research and testing.  Developed new testing methods and designed tooling for new testing.  Experienced in using Injection Molding Machine to Create and Test Prototypes.  Found cheaper and more responsible vendor for MRI related testing.         Skills     Microsoft Office  Microsoft Project  Product development  Quality  Research  Six Sigma Green Belt  Solid Works  Visio  Prioritization  Personnel management  Critical thinking skills  Team management,  Analyst, agency, consulting, cost analysis, Critical thinking, Designing, Dialysis, direction, Develop drug, functional, IIa, ISO, Leadership, market and development, Microsoft Office, Microsoft Project, Personnel management, design process, Product development, product management, Quality, researching, Research, sales, Six Sigma, Solid Works, Team management, validation, Visio    \"\n        ],\n        \"semantic_type\": \"\",\n        \"description\": \"\"\n      }\n    },\n    {\n      \"column\": \"Resume_html\",\n      \"properties\": {\n        \"dtype\": \"string\",\n        \"num_unique_values\": 2482,\n        \"samples\": [\n          \"<div class=\\\"RNA skn-hdr3 fontsize fontface vmargins hmargins pagesize dynamicbg\\\" id=\\\"document\\\"> <div class=\\\"section nameSec firstsection\\\" id=\\\"SECTION_NAME5550d5fc-bc70-476b-a324-a96a5f8e4c39\\\"> <div class=\\\"paragraph PARAGRAPH_NAME firstparagraph\\\" id=\\\"PARAGRAPH_5550d5fc-bc70-476b-a324-a96a5f8e4c39_1_ac85099c-62cd-4861-9279-8510832b3240\\\"> <div class=\\\"name\\\" itemprop=\\\"name\\\"> <span class=\\\"field\\\" id=\\\"5550d5fc-bc70-476b-a324-a96a5f8e4c39FNAM1\\\"> </span> <span> </span> <span class=\\\"field\\\" id=\\\"5550d5fc-bc70-476b-a324-a96a5f8e4c39LNAM1\\\"> INFORMATION TECHNOLOGY SPECIALIST(DISCOUNTPCFIX)</span> </div> </div> </div> <div class=\\\"section\\\" id=\\\"SECTION_SUMM8fa0a5f9-217d-41cc-b98a-09b71ea76797\\\"> <div class=\\\"heading\\\"> <div class=\\\"sectiontitle\\\" id=\\\"SECTNAME_SUMM8fa0a5f9-217d-41cc-b98a-09b71ea76797\\\"> Summary</div> </div> <div class=\\\"paragraph firstparagraph\\\" id=\\\"PARAGRAPH_8fa0a5f9-217d-41cc-b98a-09b71ea76797_1_b1625863-b3c3-4df6-a204-60ccb0054f3f\\\"> <div class=\\\"field singlecolumn\\\" id=\\\"8fa0a5f9-217d-41cc-b98a-09b71ea76797FRFM1\\\"> <p> I am obsessed with technology. It's power to change everything. Technology fuels my passion and commitment to helping organizations do what they set out to. When I engage, I bring fresh ideas that help your team galvanize performance. Refine your strategy. Spark new energy.<br/> \\nThe future\\u2014and how we get there\\u2014depends on those who build, connect, create and transform our world.</p> <p> Accomplished with over 10 years of information technology support experience.</p> <p> Highly articulate Capable experienced installing and updating hardware and software systems for users. Known for effectively optimizing systems to meet changing demands, enhancing collaboration and improving security.</p> <p> Experienced Operations Analyst with first-rate skills in organizing, problem solving and project management. Ready to apply experience and abilities to take on new professional challenges.</p> <p> Passionate and driven professional with remarkable analytical and problem solving skills.</p> <p> Expert quality assurance tester offering five years of experience in detailed technical and system specifications.</p> <p> Provides a collaborative style and has well-developed communication skills. Seeking a role in test reporting and defect resolution.</p> <p> Well-rounded team player with dynamic written and verbal communication skills.</p> <p> Hardworking and resourceful team player.</p> <p> History of going above and beyond to achieve notable results.</p> <p> Offering excellent blend of technical aptitude and creative ability. Inspires design teams with engaging management techniques and innovative thinking. Resourceful Technical Support Engineer polished in restoring system functionality by quickly assessing and resolving diverse hardware and software problems.</p> </div> </div> </div> <div class=\\\"section\\\" id=\\\"SECTION_HILT5097c9f6-be4d-4c96-87af-1703d29f3ed4\\\"> <div class=\\\"heading\\\"> <div class=\\\"sectiontitle\\\" id=\\\"SECTNAME_HILT5097c9f6-be4d-4c96-87af-1703d29f3ed4\\\"> Skills</div> </div> <div class=\\\"paragraph firstparagraph\\\" id=\\\"PARAGRAPH_5097c9f6-be4d-4c96-87af-1703d29f3ed4_1_9fc9ac29-6c45-ccc1-e402-f68d67a6ce51\\\"> <div class=\\\"singlecolumn maincolumn\\\"> <table class=\\\"twocol\\\"> <tbody> <tr> <td class=\\\"field twocol_1\\\" id=\\\"5097c9f6-be4d-4c96-87af-1703d29f3ed4SKC10\\\"> <ul> <li> Issue escalation</li> <li> Reporting and analysis</li> <li> Quality control</li> <li> Schematic understanding</li> <li> Critical thinking</li> <li> Data management</li> <li> Network Administration</li> <li> Experience in leadership</li> <li> Improvement plan knowledge</li> <li> Supervision</li> <li> Hardware repair</li> <li> Computer configurations</li> <li> System upgrades</li> <li> New program installations</li> <li> Organizational leadership</li> <li> Troubleshooting and Maintenance</li> <li> Equipment repair</li> <li> Power and hand tool use</li> <li> Troubleshooting and repairs</li> <li> Preventative maintenance</li> <li> Telecommunications systems</li> <li> Component repairs</li> <li> Multitasking</li> <li> Part inspections</li> <li> Friendly, positive attitude</li> <li> LAN and WAN configurations</li> </ul> </td> <td class=\\\"field twocol_2\\\" id=\\\"5097c9f6-be4d-4c96-87af-1703d29f3ed4SKC20\\\"> <ul> <li> Server and System Administration</li> <li> End-User Training</li> <li> Program installations</li> <li> Software testing</li> <li> Server improvements</li> <li> Data backups</li> <li> Project management</li> <li> Security technologies</li> <li> Network configuration</li> <li> Time management</li> <li> Active Directory knowledge</li> <li> Cybersecurity analysis</li> <li> System Administration</li> <li> Microsoft Office</li> <li> MS Office</li> <li> Apple iOS Technician</li> <li> Help desk assistance</li> <li> Application software testing</li> <li> Mechanical abilities</li> <li> Information Systems Security Professional</li> <li> Advanced knowledge of Windows OS</li> <li> Advanced knowledge of Google Chrome OS</li> <li> Soldering</li> <li> Database management</li> <li> Technical knowledge of server system softwares</li> <li> Servers, storage systems, network equipment, PCs or notebooks of any brands.</li> </ul> </td> </tr> </tbody> </table> </div> </div> </div> <div class=\\\"section\\\" id=\\\"SECTION_EXPRc16bd516-88f5-4d05-a0b1-689c93d7a610\\\"> <div class=\\\"heading\\\"> <div class=\\\"sectiontitle\\\" id=\\\"SECTNAME_EXPRc16bd516-88f5-4d05-a0b1-689c93d7a610\\\"> Experience</div> </div> <div class=\\\"paragraph firstparagraph\\\" id=\\\"PARAGRAPH_c16bd516-88f5-4d05-a0b1-689c93d7a610_1_c1bf6f2f-bff5-4a86-ae5b-879a7f9c292a\\\" itemscope=\\\"\\\" itemtype=\\\"https://schema.org/Organization\\\"> <div class=\\\"singlecolumn\\\"> <span class=\\\"paddedline\\\"> <span class=\\\"jobtitle\\\" id=\\\"c16bd516-88f5-4d05-a0b1-689c93d7a610JTIT1\\\"> Information Technology Specialist(Discountpcfix)</span> <span>  | </span> <span class=\\\"jobdates\\\" format=\\\"%m/%Y\\\" id=\\\"c16bd516-88f5-4d05-a0b1-689c93d7a610JSTD1\\\"> 11/2011</span> <span>  - </span> <span class=\\\"jobdates\\\" format=\\\"%m/%Y\\\" id=\\\"c16bd516-88f5-4d05-a0b1-689c93d7a610EDDT1\\\"> Current</span> </span> <span class=\\\"paddedline txt-bold\\\" itemscope=\\\"\\\" itemtype=\\\"https://schema.org/postalAddress\\\"> <span class=\\\"companyname\\\" id=\\\"c16bd516-88f5-4d05-a0b1-689c93d7a610COMP1\\\" itemprop=\\\"name\\\"> Company Name</span> <span> <span>  - </span> </span> <span class=\\\"joblocation jobcity\\\" id=\\\"c16bd516-88f5-4d05-a0b1-689c93d7a610JCIT1\\\" itemprop=\\\"addressLocality\\\"> City</span> <span> , </span> <span class=\\\"joblocation jobstate\\\" id=\\\"c16bd516-88f5-4d05-a0b1-689c93d7a610JSTA1\\\" itemprop=\\\"addressRegion\\\"> State</span> <span class=\\\"joblocation jobcountry\\\" id=\\\"c16bd516-88f5-4d05-a0b1-689c93d7a610JCNT1\\\"> </span> </span> <span class=\\\"jobline\\\" id=\\\"c16bd516-88f5-4d05-a0b1-689c93d7a610JDES1\\\" itemprop=\\\"description\\\"> <ul> <li> Assisted client with new computer and network equipment purchases.</li> <li> Updated or installed software for customers to ensure computer efficiency.</li> <li> Checked in computers and performed diagnostics for repair.</li> <li> Backed up data each evening, helping alleviate lost information following malware incident.</li> <li> Updated software versions with patches and new installations to close security loopholes and protect users.</li> <li> Identified hardware issues caused by component failures using approved diagnostic tools.</li> <li> Installed over motherboards, processors and graphics cards.</li> <li> Configured computers to network drivers and connected to printers and other peripheral equipment.</li> <li> Upgraded laptops/desktops, improving speed and performance.</li> <li> Fixed All Apple(iphone,imac,ipad,laptop) Products Screen damage.</li> <li> Fixed any brand,Windows OS,Mac OS,Chrome OS products liquid damage.</li> <li> Observed system functioning and entered commands to test different areas of operations.</li> <li> Explained technology-related details in easy-to-understand terms to individuals from all walks of life and in various job positions.</li> <li> Responded to assistance requests from users and directed individuals through basic troubleshooting tasks.</li> <li> Reviewed current hardware and software configurations and recommended modifications to increase system speed.</li> <li> Serviced and repaired equipment according to manufacturer guidelines.</li> <li> Installed new systems and components according to service orders and manufacturer instructions.</li> <li> Assessed and identified issues and quickly resolved to restore functionality.</li> <li> Built and repaired computers according to schedule.</li> <li> Installed, configured, and setup PCs in all stores for optimal operation and reporting.</li> <li> Evaluated interfaces between hardware and software, testing performance requirements.</li> <li> Studied complex technical issues and determined proper resolution methods.</li> <li> Assisted with post-implementation troubleshooting of new applications and application upgrades.</li> <li> Determined and alleviated hardware, software and network issues.</li> <li> Installed and supported hardware and software, including desktops, servers and printers.</li> <li> Identified operational and performance issues and worked with managers to resolve concerns.</li> <li> Completed various reports and analyzed each report to decide where improvements could be made.</li> <li> Recommended process and systems improvements such as changes to operations.</li> <li> Updated hardware and software upon availability and supervised network to eliminate bottlenecks immediately.</li> <li> Handled network configurations after hours and on weekends to alleviate downtime and maintain smooth operations.</li> <li> Assisted customers with various types of technical issues via email, live chat and telephone.</li> <li> Delivered local and remote Tier 1 IT support for hardware and software to company personnel.</li> <li> Disassembled computer systems to troubleshoot and resolve hardware issues.</li> <li> Increased overall company performance through improved IT uptime and cost reductions.</li> </ul> </span> </div> </div> <div class=\\\"paragraph\\\" id=\\\"PARAGRAPH_c16bd516-88f5-4d05-a0b1-689c93d7a610_2_50ce6831-7e0f-447d-a3fc-61036d2a57d9\\\" itemscope=\\\"\\\" itemtype=\\\"https://schema.org/Organization\\\"> <div class=\\\"singlecolumn\\\"> <span class=\\\"paddedline\\\"> <span class=\\\"jobtitle\\\" id=\\\"c16bd516-88f5-4d05-a0b1-689c93d7a610JTIT2\\\"> Quality Control Inspector Contractor</span> <span>  | </span> <span class=\\\"jobdates\\\" format=\\\"%m/%Y\\\" id=\\\"c16bd516-88f5-4d05-a0b1-689c93d7a610JSTD2\\\"> 04/2019</span> <span>  - </span> <span class=\\\"jobdates\\\" format=\\\"%m/%Y\\\" id=\\\"c16bd516-88f5-4d05-a0b1-689c93d7a610EDDT2\\\"> Current</span> </span> <span class=\\\"paddedline txt-bold\\\" itemscope=\\\"\\\" itemtype=\\\"https://schema.org/postalAddress\\\"> <span class=\\\"companyname\\\" id=\\\"c16bd516-88f5-4d05-a0b1-689c93d7a610COMP2\\\" itemprop=\\\"name\\\"> Company Name</span> <span> <span>  - </span> </span> <span class=\\\"joblocation jobcity\\\" id=\\\"c16bd516-88f5-4d05-a0b1-689c93d7a610JCIT2\\\" itemprop=\\\"addressLocality\\\"> City</span> <span> , </span> <span class=\\\"joblocation jobstate\\\" id=\\\"c16bd516-88f5-4d05-a0b1-689c93d7a610JSTA2\\\" itemprop=\\\"addressRegion\\\"> State</span> <span class=\\\"joblocation jobcountry\\\" id=\\\"c16bd516-88f5-4d05-a0b1-689c93d7a610JCNT2\\\"> </span> </span> <span class=\\\"jobline\\\" id=\\\"c16bd516-88f5-4d05-a0b1-689c93d7a610JDES2\\\" itemprop=\\\"description\\\"> <ul> <li> Conferred with scientific, engineering and technical personnel to resolve design, research and testing problems.</li> <li> Worked with engineers to facilitate research and development testing, correct mechanical failures and generate technical specifications prior to release.</li> <li> Developed and implemented best practices for defect prevention and continuous improvement.</li> <li> Used specialized tools to take precise measurements of various aspects of samples.</li> <li> Consulted with engineers to resolve quality, production and efficiency problems.</li> <li> Wrote detailed reports outlining performance, quality and defect rates.</li> <li> Completed non-destructive tests and visual inspections on a continuous basis.</li> <li> Inspected quality of finished products, making minor repairs to meet project expectations.</li> <li> Documented nonconformities immediately and recommended techniques for prompt resolution.</li> <li> Completed non-destructive tests and visual inspections continuously.</li> <li> Reviewed drawings and blueprints to determine appropriate level of inspection required.</li> <li> Adhered to all safety protocols to minimize equipment damage and avoid injuries.</li> <li> Assessed materials, parts and products for conformance with quality control requirements and production specifications.</li> </ul> </span> </div> </div> <div class=\\\"paragraph\\\" id=\\\"PARAGRAPH_c16bd516-88f5-4d05-a0b1-689c93d7a610_3_f9296837-feb0-4c87-abc1-66dabd9087ac\\\" itemscope=\\\"\\\" itemtype=\\\"https://schema.org/Organization\\\"> <div class=\\\"singlecolumn\\\"> <span class=\\\"paddedline\\\"> <span class=\\\"jobtitle\\\" id=\\\"c16bd516-88f5-4d05-a0b1-689c93d7a610JTIT3\\\"> Network Analyst</span> <span>  | </span> <span class=\\\"jobdates\\\" format=\\\"%m/%Y\\\" id=\\\"c16bd516-88f5-4d05-a0b1-689c93d7a610JSTD3\\\"> 06/2016</span> <span>  - </span> <span class=\\\"jobdates\\\" format=\\\"%m/%Y\\\" id=\\\"c16bd516-88f5-4d05-a0b1-689c93d7a610EDDT3\\\"> 05/2018</span> </span> <span class=\\\"paddedline txt-bold\\\" itemscope=\\\"\\\" itemtype=\\\"https://schema.org/postalAddress\\\"> <span class=\\\"companyname\\\" id=\\\"c16bd516-88f5-4d05-a0b1-689c93d7a610COMP3\\\" itemprop=\\\"name\\\"> Company Name</span> <span> <span>  - </span> </span> <span class=\\\"joblocation jobcity\\\" id=\\\"c16bd516-88f5-4d05-a0b1-689c93d7a610JCIT3\\\" itemprop=\\\"addressLocality\\\"> City</span> <span> , </span> <span class=\\\"joblocation jobstate\\\" id=\\\"c16bd516-88f5-4d05-a0b1-689c93d7a610JSTA3\\\" itemprop=\\\"addressRegion\\\"> State</span> <span class=\\\"joblocation jobcountry\\\" id=\\\"c16bd516-88f5-4d05-a0b1-689c93d7a610JCNT3\\\"> </span> </span> <span class=\\\"jobline\\\" id=\\\"c16bd516-88f5-4d05-a0b1-689c93d7a610JDES3\\\" itemprop=\\\"description\\\"> <ul> <li> Identified operational and performance issues and worked with managers to resolve concerns.</li> <li> Supporting of the following hardware types: servers, storage systems, network equipment, PCs ipad and notebooks of any brands.</li> <li> Analyzed operational performance to identify pain points and provided actionable solutions to management.</li> <li> Educated personnel on company policies to foster improved customer retention and increased revenue.</li> <li> Technical knowledge of standard server system software (Linux, Windows, VMWare)</li> <li> Drove revenue and customer retention by visiting corporate and franchise centers serving clients to educate staff on company policies and customer styling applications.</li> <li> Wrote reports outlining results to facilitate management decision making.</li> <li> Executed and monitored standards for user interfaces, page design and graphics development.</li> <li> Provided senior technical support to both in-house staff and user departments for all network applications.</li> <li> Monitored project budget through the careful assessment of resource usage and task management to ensure that costs were kept low.</li> <li> Supported customers with password resets and account customization.</li> <li> Recorded complaints, product deficiencies, returned orders and other customer documentation in system.</li> <li> Supported customers having data connectivity issues, assisting with troubleshooting steps and rebooting of hardware.</li> <li> Maintained composure and patience in face of difficult customer situations, applying de-escalation techniques and positive customer support.</li> <li> Performed site evaluations, customer surveys and team audits.</li> <li> Promoted continuous improvement for IT governance processes.</li> <li> Spearheaded server infrastructure development, quality control, staging and production operations.</li> </ul> </span> </div> </div> <div class=\\\"paragraph\\\" id=\\\"PARAGRAPH_c16bd516-88f5-4d05-a0b1-689c93d7a610_4_8635d1c3-f58e-4d33-a87b-ad847a7c7337\\\" itemscope=\\\"\\\" itemtype=\\\"https://schema.org/Organization\\\"> <div class=\\\"singlecolumn\\\"> <span class=\\\"paddedline\\\"> <span class=\\\"jobtitle\\\" id=\\\"c16bd516-88f5-4d05-a0b1-689c93d7a610JTIT4\\\"> Quality Control Manager</span> <span>  | </span> <span class=\\\"jobdates\\\" format=\\\"%m/%Y\\\" id=\\\"c16bd516-88f5-4d05-a0b1-689c93d7a610JSTD4\\\"> 07/2013</span> <span>  - </span> <span class=\\\"jobdates\\\" format=\\\"%m/%Y\\\" id=\\\"c16bd516-88f5-4d05-a0b1-689c93d7a610EDDT4\\\"> 08/2015</span> </span> <span class=\\\"paddedline txt-bold\\\" itemscope=\\\"\\\" itemtype=\\\"https://schema.org/postalAddress\\\"> <span class=\\\"companyname\\\" id=\\\"c16bd516-88f5-4d05-a0b1-689c93d7a610COMP4\\\" itemprop=\\\"name\\\"> Company Name</span> <span> <span>  - </span> </span> <span class=\\\"joblocation jobcity\\\" id=\\\"c16bd516-88f5-4d05-a0b1-689c93d7a610JCIT4\\\" itemprop=\\\"addressLocality\\\"> City</span> <span> , </span> <span class=\\\"joblocation jobstate\\\" id=\\\"c16bd516-88f5-4d05-a0b1-689c93d7a610JSTA4\\\" itemprop=\\\"addressRegion\\\"> State</span> <span class=\\\"joblocation jobcountry\\\" id=\\\"c16bd516-88f5-4d05-a0b1-689c93d7a610JCNT4\\\"> </span> </span> <span class=\\\"jobline\\\" id=\\\"c16bd516-88f5-4d05-a0b1-689c93d7a610JDES4\\\" itemprop=\\\"description\\\"> <ul> <li> Stayed well-informed of all company and federal regulations, which bolstered compliance of all corporate processes.</li> <li> Used creative and professional policy to find solutions to issues while diminishing conflicts.</li> <li> Handled all scheduling procedures for the department and directed team members in setting and achieving goals.</li> <li> Observed customer specifications by monitoring the quality control of finished products.</li> </ul> </span> </div> </div> </div> <div class=\\\"section\\\" id=\\\"SECTION_EDUC95e45d01-3d53-473f-b805-14cee808ebae\\\"> <div class=\\\"heading\\\"> <div class=\\\"sectiontitle\\\" id=\\\"SECTNAME_EDUC95e45d01-3d53-473f-b805-14cee808ebae\\\"> Education and Training</div> </div> <div class=\\\"paragraph firstparagraph\\\" id=\\\"PARAGRAPH_95e45d01-3d53-473f-b805-14cee808ebae_1_35f5f03a-98c1-408c-8fe8-23fc8e31363b\\\" itemscope=\\\"\\\" itemtype=\\\"https://schema.org/EducationalOrganization\\\"> <div class=\\\"singlecolumn\\\"> <span class=\\\"paddedline txt-bold\\\" itemprop=\\\"description\\\"> <span class=\\\"companyname companyname_educ\\\" id=\\\"95e45d01-3d53-473f-b805-14cee808ebaeSCHO1\\\" itemprop=\\\"name\\\"> The Federal Polytechnic, Ado-Ekiti</span> <span> <span>  - </span> </span> <span class=\\\"joblocation jobcity\\\" id=\\\"95e45d01-3d53-473f-b805-14cee808ebaeSCIT1\\\"> City</span> <span> ,</span> <span class=\\\"joblocation jobstate\\\" id=\\\"95e45d01-3d53-473f-b805-14cee808ebaeSSTA1\\\"> State</span> <span class=\\\"joblocation jobcountry\\\" id=\\\"95e45d01-3d53-473f-b805-14cee808ebaeSCNT1\\\"> </span> <span> <span>  | </span> </span> <span class=\\\"degree\\\" id=\\\"95e45d01-3d53-473f-b805-14cee808ebaeDGRE1\\\" itemprop=\\\"name\\\"> Associate of Science</span> </span> <span class=\\\"paddedline\\\"> <span class=\\\"programline\\\" id=\\\"95e45d01-3d53-473f-b805-14cee808ebaeSTUY1\\\"> Science Technology</span> <span> , </span> <span format=\\\"%m/%Y\\\" id=\\\"95e45d01-3d53-473f-b805-14cee808ebaeGRYR1\\\"> 2003</span> </span> <span class=\\\"field\\\" id=\\\"95e45d01-3d53-473f-b805-14cee808ebaeFRFM1\\\"> </span> </div> </div> <div class=\\\"paragraph\\\" id=\\\"PARAGRAPH_95e45d01-3d53-473f-b805-14cee808ebae_2_a2729674-384f-4d1c-958a-35b2563e76c4\\\" itemscope=\\\"\\\" itemtype=\\\"https://schema.org/EducationalOrganization\\\"> <div class=\\\"singlecolumn\\\"> <span class=\\\"paddedline txt-bold\\\" itemprop=\\\"description\\\"> <span class=\\\"companyname companyname_educ\\\" id=\\\"95e45d01-3d53-473f-b805-14cee808ebaeSCHO2\\\" itemprop=\\\"name\\\"> Phoenix East Aviation</span> <span> <span>  - </span> </span> <span class=\\\"joblocation jobcity\\\" id=\\\"95e45d01-3d53-473f-b805-14cee808ebaeSCIT2\\\"> City</span> <span> ,</span> <span class=\\\"joblocation jobstate\\\" id=\\\"95e45d01-3d53-473f-b805-14cee808ebaeSSTA2\\\"> State</span> <span class=\\\"joblocation jobcountry\\\" id=\\\"95e45d01-3d53-473f-b805-14cee808ebaeSCNT2\\\"> </span> <span> <span>  | </span> </span> <span class=\\\"degree\\\" id=\\\"95e45d01-3d53-473f-b805-14cee808ebaeDGRE2\\\" itemprop=\\\"name\\\"> F.A.A  Aircraft Dispatcher License</span> </span> <span class=\\\"paddedline\\\"> <span class=\\\"programline\\\" id=\\\"95e45d01-3d53-473f-b805-14cee808ebaeSTUY2\\\"> Aviation</span> <span> , </span> <span format=\\\"%m/%Y\\\" id=\\\"95e45d01-3d53-473f-b805-14cee808ebaeGRYR2\\\"> 2014</span> </span> <span class=\\\"field\\\" id=\\\"95e45d01-3d53-473f-b805-14cee808ebaeFRFM2\\\"> </span> </div> </div> <div class=\\\"paragraph\\\" id=\\\"PARAGRAPH_95e45d01-3d53-473f-b805-14cee808ebae_3_aadb2d22-49ea-47b0-8fe0-86d66a1003c0\\\" itemscope=\\\"\\\" itemtype=\\\"https://schema.org/EducationalOrganization\\\"> <div class=\\\"singlecolumn\\\"> <span class=\\\"paddedline txt-bold\\\" itemprop=\\\"description\\\"> <span class=\\\"companyname companyname_educ\\\" id=\\\"95e45d01-3d53-473f-b805-14cee808ebaeSCHO3\\\" itemprop=\\\"name\\\"> University Of Colorado At Boulder</span> <span> <span>  - </span> </span> <span class=\\\"joblocation jobcity\\\" id=\\\"95e45d01-3d53-473f-b805-14cee808ebaeSCIT3\\\"> City</span> <span class=\\\"joblocation jobstate\\\" id=\\\"95e45d01-3d53-473f-b805-14cee808ebaeSSTA3\\\"> </span> <span class=\\\"joblocation jobcountry\\\" id=\\\"95e45d01-3d53-473f-b805-14cee808ebaeSCNT3\\\"> </span> <span> <span>  | </span> </span> <span class=\\\"degree\\\" id=\\\"95e45d01-3d53-473f-b805-14cee808ebaeDGRE3\\\" itemprop=\\\"name\\\"> Certificate</span> </span> <span class=\\\"paddedline\\\"> <span class=\\\"programline\\\" id=\\\"95e45d01-3d53-473f-b805-14cee808ebaeSTUY3\\\"> Cybersecurity Policy For Aviation And Internet </span> <span> , </span> <span format=\\\"%m/%Y\\\" id=\\\"95e45d01-3d53-473f-b805-14cee808ebaeGRYR3\\\"> 07/2020</span> </span> <span class=\\\"field\\\" id=\\\"95e45d01-3d53-473f-b805-14cee808ebaeFRFM3\\\"> </span> </div> </div> <div class=\\\"paragraph\\\" id=\\\"PARAGRAPH_95e45d01-3d53-473f-b805-14cee808ebae_4_928da07f-2964-852f-d35b-2700b04793b3\\\" itemscope=\\\"\\\" itemtype=\\\"https://schema.org/EducationalOrganization\\\"> <div class=\\\"singlecolumn\\\"> <span class=\\\"paddedline txt-bold\\\" itemprop=\\\"description\\\"> <span class=\\\"companyname companyname_educ\\\" id=\\\"95e45d01-3d53-473f-b805-14cee808ebaeSCHO4\\\" itemprop=\\\"name\\\"> GOOGLE I.T SUPPORT</span> <span> <span>  - </span> </span> <span class=\\\"joblocation jobcity\\\" id=\\\"95e45d01-3d53-473f-b805-14cee808ebaeSCIT4\\\"> City</span> <span class=\\\"joblocation jobstate\\\" id=\\\"95e45d01-3d53-473f-b805-14cee808ebaeSSTA4\\\"> </span> <span class=\\\"joblocation jobcountry\\\" id=\\\"95e45d01-3d53-473f-b805-14cee808ebaeSCNT4\\\"> </span> <span> <span>  | </span> </span> <span class=\\\"degree\\\" id=\\\"95e45d01-3d53-473f-b805-14cee808ebaeDGRE4\\\" itemprop=\\\"name\\\"> Certificate</span> </span> <span class=\\\"paddedline\\\"> <span class=\\\"programline\\\" id=\\\"95e45d01-3d53-473f-b805-14cee808ebaeSTUY4\\\"> </span> <span format=\\\"%m/%Y\\\" id=\\\"95e45d01-3d53-473f-b805-14cee808ebaeGRYR4\\\"> 03/2021</span> </span> <span class=\\\"field\\\" id=\\\"95e45d01-3d53-473f-b805-14cee808ebaeFRFM4\\\"> <p> <strong> Completed professional Course in:</strong> </p> <p> IT Security: Defense against the digital dark arts</p> <p> Operating System and You: Becoming a power user</p> <p> The Bits and Bytes of Computer Networking</p> <p> System Administration and IT Infrastructure Service</p> <p> Technical Support Fundamentals</p> </span> </div> </div> </div> </div>\",\n          \"<div class=\\\"fontsize fontface vmargins hmargins linespacing pagesize\\\" id=\\\"document\\\"> <div class=\\\"section firstsection\\\" id=\\\"SECTION_NAME588215279\\\" style=\\\"\\n      padding-top:0px;\\n    \\\"> <div class=\\\"paragraph PARAGRAPH_NAME firstparagraph\\\" id=\\\"PARAGRAPH_588215279_1_382804811\\\" style=\\\"\\n      padding-top:0px;\\n    \\\"> <div class=\\\"name\\\" itemprop=\\\"name\\\"> <span class=\\\"field\\\" id=\\\"588215279FNAM1\\\"> </span> <span> </span> <span class=\\\"field lName\\\" id=\\\"588215279LNAM1\\\"> BUSINESS DEVELOPMENT DIRECTOR</span> </div> </div> </div> <div class=\\\"section\\\" id=\\\"SECTION_SUMM588215281\\\" style=\\\"\\n      padding-top:0px;\\n    \\\"> <div class=\\\"heading\\\"> <div class=\\\"sectiontitle\\\" id=\\\"SECTNAME_SUMM588215281\\\"> Summary</div> </div> <div class=\\\"paragraph firstparagraph\\\" id=\\\"PARAGRAPH_588215281_1_382804813\\\" style=\\\"\\n      padding-top:0px;\\n    \\\"> <div class=\\\"field singlecolumn\\\" id=\\\"588215281FRFM1\\\"> <p align=\\\"LEFT\\\"> I collaborate with multiple stakeholders to determine audience needs, quickly developing strategic plans that align with my clients business priorities and strategies.</p> </div> </div> </div> <div class=\\\"section\\\" id=\\\"SECTION_EXPR588215283\\\" style=\\\"\\n      padding-top:0px;\\n    \\\"> <div class=\\\"heading\\\"> <div class=\\\"sectiontitle\\\" id=\\\"SECTNAME_EXPR588215283\\\"> Experience</div> </div> <div class=\\\"paragraph firstparagraph\\\" id=\\\"PARAGRAPH_588215283_1_382804816\\\" itemscope=\\\"\\\" itemtype=\\\"https://schema.org/Organization\\\" style=\\\"\\n      padding-top:0px;\\n    \\\"> <div class=\\\"singlecolumn\\\"> <span class=\\\"paddedline\\\"> <span class=\\\"jobtitle\\\" id=\\\"588215283JTIT1\\\"> Business Development Director</span> <span class=\\\"datesWrapper\\\"> <span class=\\\"jobdates\\\" format=\\\"%m/%Y\\\" id=\\\"588215283JSTD1\\\"> 05/1997</span> <span class=\\\"jobdates\\\">  to </span> <span class=\\\"jobdates\\\" format=\\\"%m/%Y\\\" id=\\\"588215283EDDT1\\\"> Current</span> </span> </span> <span class=\\\"paddedline\\\" itemscope=\\\"\\\" itemtype=\\\"https://schema.org/postalAddress\\\"> <span class=\\\"companyname\\\" id=\\\"588215283COMP1\\\" itemprop=\\\"name\\\"> Company Name</span> <span class=\\\"datesWrapper\\\"> <span class=\\\"joblocation jobcity\\\" id=\\\"588215283JCIT1\\\" itemprop=\\\"addressLocality\\\"> City</span> <span class=\\\"joblocation\\\"> , </span> <span class=\\\"joblocation jobstate\\\" id=\\\"588215283JSTA1\\\" itemprop=\\\"addressRegion\\\"> State</span> </span> </span> <span class=\\\"paddedline\\\"> <span class=\\\"jobline\\\" id=\\\"588215283JDES1\\\" itemprop=\\\"description\\\"> <p align=\\\"LEFT\\\"> Producing measurable results for my clients by designing unique engagement initiatives for employees, sales channel partners and consumers groups. Sales of performance improvement products, most being intangible services to Fortune 500 clients. Success at discovering and growing my business with customers who have the potential to spend more than $1 million with me each year.</p> <ul> <li> I have designed innovative solutions, customized to each customers various objectives and end result needs.</li> <li> Managing my internal teams to develop, design and operate complex custom projects ranging in value at least $150,000 to millions.</li> <li> Titles called on include the entire C suite, CEO, COO, CFO, CMO, President, EVP's of Marketing, Sales, Human Resources &amp; Finance.</li> <li> Define business issues to improve revenue and penetrating existing accounts and opening new.</li> <li> Sold 17 new accounts while in current position, managed sales volume and profit margin with long sales cycle.</li> <li> Managed and hired staff of 4 to work with my major global account travel &amp; meetings business over 8 years.</li> <li> Total book of business constantly over $2.5 million each year.</li> <li> Nearly twice the entertainment activity of other BDD's with similar tenure.</li> <li> Achieved over $6 million in sales twice, becoming a trusted partner to my clients, customers want me to Win!</li> </ul> </span> </span> </div> </div> <div class=\\\"paragraph\\\" id=\\\"PARAGRAPH_588215283_2_382804817\\\" itemscope=\\\"\\\" itemtype=\\\"https://schema.org/Organization\\\" style=\\\"\\n      padding-top:0px;\\n    \\\"> <div class=\\\"singlecolumn\\\"> <span class=\\\"paddedline\\\"> <span class=\\\"jobtitle\\\" id=\\\"588215283JTIT2\\\"> Account Territory &amp; District Sales Manager / National Account Sales</span> <span class=\\\"datesWrapper\\\"> <span class=\\\"jobdates\\\" format=\\\"%m/%Y\\\" id=\\\"588215283JSTD2\\\"> 08/1989</span> <span class=\\\"jobdates\\\">  to </span> <span class=\\\"jobdates\\\" format=\\\"%m/%Y\\\" id=\\\"588215283EDDT2\\\"> 04/1997</span> </span> </span> <span class=\\\"paddedline\\\" itemscope=\\\"\\\" itemtype=\\\"https://schema.org/postalAddress\\\"> <span class=\\\"companyname\\\" id=\\\"588215283COMP2\\\" itemprop=\\\"name\\\"> Company Name</span> <span class=\\\"datesWrapper\\\"> <span class=\\\"joblocation jobcity\\\" id=\\\"588215283JCIT2\\\" itemprop=\\\"addressLocality\\\"> City</span> <span class=\\\"joblocation\\\"> , </span> <span class=\\\"joblocation jobstate\\\" id=\\\"588215283JSTA2\\\" itemprop=\\\"addressRegion\\\"> State</span> </span> </span> <span class=\\\"paddedline\\\"> <span class=\\\"jobline\\\" id=\\\"588215283JDES2\\\" itemprop=\\\"description\\\"> <ul> <li> Responsible for growth of distributor sales volume, product mix and motivation of DSR sales forces.</li> <li> Developed my own custom local training and marketing materials, which were later adopted by the Nestle corporate.</li> <li> Distributor and chain accounts accounted for over $11 million in sales.</li> <li> Increased my chain accounts by over 75% while with national accounts.</li> <li> Created sales forecasts, developed budgets, strategic plans and managed entire regional office staff. Working with my team we grew business at Nestle largest US account by nearly double.</li> <li> Surpassed sales, budget goals every year as manager and twice led company nationally in new product introductions.</li> <li> District sales grew from $16 million to over $22 million as district manager. Hired five salespeople and 4 direct reports were promoted, managed up to eight account managers at a time.</li> <li> Developed new reports, marketing and promotional strategies for the field. Designed account reviews process, management and field training programs for the entire company.</li> <li> Sold small business owners and managed distributor sales accounts, using strategic planning, innovative programming and by cultivating strong personal relationships. Took area territory sales from $500,000 to $2.9 million, with a mature company in an industry with an average annual increase of only 3-5%.</li> </ul> </span> </span> </div> </div> <div class=\\\"paragraph\\\" id=\\\"PARAGRAPH_588215283_3_382804818\\\" itemscope=\\\"\\\" itemtype=\\\"https://schema.org/Organization\\\" style=\\\"\\n      padding-top:0px;\\n    \\\"> <div class=\\\"singlecolumn\\\"> <span class=\\\"paddedline\\\"> <span class=\\\"jobtitle\\\" id=\\\"588215283JTIT3\\\"> Financial Operations Executive and Department Merchandising Manager</span> <span class=\\\"datesWrapper\\\"> <span class=\\\"jobdates\\\" format=\\\"%m/%Y\\\" id=\\\"588215283JSTD3\\\"> 04/1988</span> <span class=\\\"jobdates\\\">  to </span> <span class=\\\"jobdates\\\" format=\\\"%m/%Y\\\" id=\\\"588215283EDDT3\\\"> 08/1989</span> </span> </span> <span class=\\\"paddedline\\\" itemscope=\\\"\\\" itemtype=\\\"https://schema.org/postalAddress\\\"> <span class=\\\"companyname\\\" id=\\\"588215283COMP3\\\" itemprop=\\\"name\\\"> Company Name</span> <span class=\\\"datesWrapper\\\"> <span class=\\\"joblocation jobcity\\\" id=\\\"588215283JCIT3\\\" itemprop=\\\"addressLocality\\\"> City</span> <span class=\\\"joblocation\\\"> , </span> <span class=\\\"joblocation jobstate\\\" id=\\\"588215283JSTA3\\\" itemprop=\\\"addressRegion\\\"> State</span> </span> </span> <span class=\\\"paddedline\\\"> <span class=\\\"jobline\\\" id=\\\"588215283JDES3\\\" itemprop=\\\"description\\\"> Financial Operations Executive for the South Bend store. Volunteered to be merchandise manager for the stores largest department. While in this role the department had the highest per foot sales volume of any department in the entire corporation during the 4th quarter of 1988.</span> </span> </div> </div> </div> <div class=\\\"section\\\" id=\\\"SECTION_ACCM588215285\\\" style=\\\"\\n      padding-top:0px;\\n    \\\"> <div class=\\\"heading\\\"> <div class=\\\"sectiontitle\\\" id=\\\"SECTNAME_ACCM588215285\\\"> Accomplishments</div> </div> <div class=\\\"paragraph firstparagraph\\\" id=\\\"PARAGRAPH_588215285_1_382804815\\\" style=\\\"\\n      padding-top:0px;\\n    \\\"> <div class=\\\"field singlecolumn\\\" id=\\\"588215285FRFM1\\\"> <ul> <li> 4 times President Achievement Guild Award winner, award for sales volume and profit.</li> <li> 3 times President Achievement Award winner, award for sales volume and profit.</li> <li> 4 times Achievement Guild winner, for leadership in 3 year running combined volume.</li> <li> Top travel and meetings sales several times since with BIW.</li> <li> National sales contest \\\"the 1993 Superbowl\\\".</li> <li> Twice awarded \\\"The Over Achiever of the Year\\\" by my most profitable direct customer.</li> <li> Reviewed consistently by management throughout career as \\\"Outstanding or Exceeding Expectations\\\".</li> <li> College: elected to executive positions with both Finance Club and Resident Housing Association.</li> </ul> </div> </div> </div> <div class=\\\"section\\\" id=\\\"SECTION_SKLL588215288\\\" style=\\\"\\n      padding-top:0px;\\n    \\\"> <div class=\\\"heading\\\"> <div class=\\\"sectiontitle\\\" id=\\\"SECTNAME_SKLL588215288\\\"> Skills</div> </div> <div class=\\\"paragraph firstparagraph\\\" id=\\\"PARAGRAPH_588215288_1_382804821\\\" style=\\\"\\n      padding-top:0px;\\n    \\\"> <div class=\\\"field singlecolumn\\\" id=\\\"588215288FRFM1\\\"> <p align=\\\"LEFT\\\"> Sales, Business Development, Distributor Sales, Territory Sales, District Sales, Sales of Solutions, Sales Teams, Sales Accounts, National Accounts, Sales Management, Strategic Accounts, Sales Promotions, Travel &amp; Meeting Sales, Technology Application Sales, Clients Management, Marketing, Budget, Budgets, Forecasts, Promotional, Travel &amp; Meeting Operations, Strategic Planning, Training, Training Development, Financial Operations, Merchandising, Corporate Operations, Employee Engagement, Managing Existing Accounts, Forecasting, Human Resources, Finding New Accounts, Relationship Building and Strategic Direction.</p> </div> </div> </div> <div class=\\\"section\\\" id=\\\"SECTION_EDUC588215284\\\" style=\\\"\\n      padding-top:0px;\\n    \\\"> <div class=\\\"heading\\\"> <div class=\\\"sectiontitle\\\" id=\\\"SECTNAME_EDUC588215284\\\"> Education</div> </div> <div class=\\\"paragraph firstparagraph\\\" id=\\\"PARAGRAPH_588215284_1_382804819\\\" itemscope=\\\"\\\" itemtype=\\\"https://schema.org/EducationalOrganization\\\" style=\\\"\\n      padding-top:0px;\\n    \\\"> <div class=\\\"singlecolumn\\\"> <span class=\\\"paddedline\\\" itemprop=\\\"description\\\"> <span class=\\\"degree\\\" id=\\\"588215284DGRE1\\\" itemprop=\\\"name\\\"> Bachelor of Business Administration</span> <span> : </span> <span class=\\\"programline\\\" id=\\\"588215284STUY1\\\"> Finance, General Business</span> <span class=\\\"datesWrapper\\\"> <span class=\\\"jobdates\\\" id=\\\"588215284GRYR1\\\"> 1988</span> <span> </span> </span> </span> <span class=\\\"paddedline\\\"> <span class=\\\"companyname companyname_educ\\\" id=\\\"588215284SCHO1\\\" itemprop=\\\"name\\\"> Western Michigan University</span> <span class=\\\"datesWrapper\\\"> <span class=\\\"joblocation jobcity educity\\\" id=\\\"588215284SCIT1\\\"> City</span> <span> , </span> <span class=\\\"joblocation jobstate edustate\\\" id=\\\"588215284SSTA1\\\"> State</span> <span> , </span> <span class=\\\"joblocation eduCountry\\\" id=\\\"588215284SCNT1\\\"> US</span> </span> </span> <span class=\\\"paddedline\\\"> <span class=\\\"field\\\" id=\\\"588215284FRFM1\\\"> <p align=\\\"LEFT\\\"> Earned over 85% of all educational/living costs. Jobs worked while in college, industrial heavy construction, excelled at several sales roles including at direct sales of home goods. While in direct sales I won a national trip and was ranked in the top 10 in the country in sales.  Started two successful on campus businesses. Member of the varsity division I football team for 4 years.</p> </span> </span> </div> </div> </div> <div class=\\\"section\\\" id=\\\"SECTION_AFIL588215287\\\" style=\\\"\\n      padding-top:0px;\\n    \\\"> <div class=\\\"heading\\\"> <div class=\\\"sectiontitle\\\" id=\\\"SECTNAME_AFIL588215287\\\"> Organizations</div> </div> <div class=\\\"paragraph firstparagraph\\\" id=\\\"PARAGRAPH_588215287_1_382804820\\\" style=\\\"\\n      padding-top:0px;\\n    \\\"> <div class=\\\"field singlecolumn\\\" id=\\\"588215287FRFM1\\\"> <p align=\\\"LEFT\\\"> IMEX, Milford Memories Planning Board, Huron Valley Youth Baseball President/Treasurer/Director of Travel Baseball, Lakeland Milford Travel Secretary and Milford High School baseball instructor.</p> </div> </div> </div> </div>\",\n          \"<div class=\\\"MPR skn-cbg1 fontsize fontface vmargins hmargins pagesize\\\" id=\\\"document\\\"> <div class=\\\"firstsection\\\" id=\\\"SECTION_PICT1c54d90b-f210-4994-a2df-6f797170b266\\\" style=\\\"padding-top:0px;\\\"> </div> <div class=\\\"section\\\" id=\\\"SECTION_NAMEafa5029c-ed20-4905-9618-559ac6326521\\\" style=\\\"padding-top:0px;\\\"> <div class=\\\"paragraph PARAGRAPH_NAME firstparagraph\\\" id=\\\"PARAGRAPH_afa5029c-ed20-4905-9618-559ac6326521_1_b72ebc9d-ef20-449c-9e46-f7af6ed76f8e\\\" style=\\\"padding-top:NaNpx;\\\"> <div class=\\\"name\\\" itemprop=\\\"name\\\"> <span class=\\\"field\\\" id=\\\"afa5029c-ed20-4905-9618-559ac6326521FNAM1\\\"> </span> <span> </span> <span class=\\\"field\\\" id=\\\"afa5029c-ed20-4905-9618-559ac6326521LNAM1\\\"> ENGINEERING MANAGER</span> </div> <div class=\\\"lowerborder\\\"> </div> </div> </div> <div class=\\\"section\\\" id=\\\"SECTION_SUMMa79b81cd-ed26-40a6-a71d-d369a97aaddf\\\" style=\\\"padding-top:0px;\\\"> <div class=\\\"heading\\\"> <div class=\\\"sectiontitle\\\" id=\\\"SECTNAME_SUMMa79b81cd-ed26-40a6-a71d-d369a97aaddf\\\"> Professional Summary</div> </div> <div class=\\\"paragraph firstparagraph\\\" id=\\\"PARAGRAPH_a79b81cd-ed26-40a6-a71d-d369a97aaddf_1_d37148e5-8011-49d3-b6b5-15a08f038d2a\\\" style=\\\"padding-top:NaNpx;\\\"> <div class=\\\"field singlecolumn\\\" id=\\\"a79b81cd-ed26-40a6-a71d-d369a97aaddfFRFM1\\\"> Experienced product development Engineer and manager able to collaborate with cross functional team as well as customers and sales to bring brand new offerings to new markets. Skilled at managing cross functional team for continuous improvements and meeting project deadlines. Offering 6 years of experience in the field.</div> </div> </div> <div class=\\\"section\\\" id=\\\"SECTION_HILT59198e28-8127-4e19-8680-aeff6e4e9111\\\" style=\\\"padding-top:0px;\\\"> <div class=\\\"heading\\\"> <div class=\\\"sectiontitle\\\" id=\\\"SECTNAME_HILT59198e28-8127-4e19-8680-aeff6e4e9111\\\"> Skills</div> </div> <div class=\\\"paragraph firstparagraph\\\" id=\\\"PARAGRAPH_59198e28-8127-4e19-8680-aeff6e4e9111_1_91ac5bb4-454c-4ef4-8ce9-93cfbec48dd8\\\" style=\\\"padding-top:NaNpx;\\\"> <div class=\\\"singlecolumn maincolumn\\\"> <table class=\\\"twocol\\\"> <tbody> <tr> <td class=\\\"field twocol_1\\\" id=\\\"59198e28-8127-4e19-8680-aeff6e4e9111SKC11\\\"> <ul> <li> Microsoft Office</li> <li> Microsoft Project</li> <li> Product development</li> <li> Quality</li> <li> Research</li> <li> Six Sigma Green Belt</li> <li> Solid Works</li> <li> Visio</li> <li> Prioritization</li> <li> Personnel management</li> <li> Critical thinking skills</li> <li> Team management</li> <li> Analyst, Visio</li> <li> Agency</li> <li> Consulting</li> <li> Cost analysis</li> <li> Critical thinking</li> <li> Designing</li> <li> Dialysis</li> <li> Direction</li> </ul> </td> <td class=\\\"field twocol_2\\\" id=\\\"59198e28-8127-4e19-8680-aeff6e4e9111SKC21\\\"> <ul> <li> Develop drug</li> <li> Functional</li> <li> IIa</li> <li> ISO</li> <li> Leadership</li> <li> Market and development</li> <li> Microsoft Office</li> <li> Microsoft Project</li> <li> Personnel management</li> <li> Design process</li> <li> Product development</li> <li> Product management</li> <li> Quality</li> <li> Researching</li> <li> Research</li> <li> Sales</li> <li> Six Sigma</li> <li> Solid Works</li> <li> Team management</li> <li> Validation</li> </ul> </td> </tr> </tbody> </table> </div> </div> </div> <div class=\\\"section\\\" id=\\\"SECTION_EXPR57f7e681-47f6-4b9d-bd84-cbc638b40345\\\" style=\\\"padding-top:0px;\\\"> <div class=\\\"heading\\\"> <div class=\\\"sectiontitle\\\" id=\\\"SECTNAME_EXPR57f7e681-47f6-4b9d-bd84-cbc638b40345\\\"> Work History</div> </div> <div class=\\\"paragraph firstparagraph\\\" id=\\\"PARAGRAPH_57f7e681-47f6-4b9d-bd84-cbc638b40345_1_81f1c5da-b869-42af-94e3-cacd539a1040\\\" itemscope=\\\"\\\" itemtype=\\\"https://schema.org/Organization\\\" style=\\\"padding-top:NaNpx;\\\"> <div class=\\\"singlecolumn\\\"> <span class=\\\"paddedline\\\" style=\\\"display: inline;\\\"> <span class=\\\"jobtitle\\\" id=\\\"57f7e681-47f6-4b9d-bd84-cbc638b40345JTIT1\\\"> Engineering Manager</span> <span> , </span> </span> <span class=\\\"paddedline\\\" style=\\\"display: inline;\\\"> <span class=\\\"jobdates\\\" format=\\\"%m/%Y\\\" id=\\\"57f7e681-47f6-4b9d-bd84-cbc638b40345JSTD1\\\"> 03/2018</span> <span>  to </span> <span class=\\\"jobdates\\\" format=\\\"%m/%Y\\\" id=\\\"57f7e681-47f6-4b9d-bd84-cbc638b40345EDDT1\\\"> Current</span> <br/> </span> <span class=\\\"paddedline\\\" itemscope=\\\"\\\" itemtype=\\\"https://schema.org/postalAddress\\\"> <span class=\\\"companyname\\\" id=\\\"57f7e681-47f6-4b9d-bd84-cbc638b40345COMP1\\\" itemprop=\\\"name\\\"> </span> <span class=\\\"joblocation jobcity\\\" id=\\\"57f7e681-47f6-4b9d-bd84-cbc638b40345JCIT1\\\" itemprop=\\\"addressLocality\\\"> City</span> <span> , </span> <span class=\\\"joblocation jobstate\\\" id=\\\"57f7e681-47f6-4b9d-bd84-cbc638b40345JSTA1\\\" itemprop=\\\"addressRegion\\\"> State</span> <br/> </span> <span class=\\\"jobline\\\" id=\\\"57f7e681-47f6-4b9d-bd84-cbc638b40345JDES1\\\" itemprop=\\\"description\\\"> <ul> <li> Create and maintain Technical Files per MDR requirements as well as attaining 510k on legacy products.</li> <li> Assess testing gaps of legacy products and design creep.</li> <li> Experienced in working with multiple departments.</li> <li> Experienced in training and leading engineers in order to investigate field complaints, Gap analysis and building Technical files/DHF.</li> <li> Experienced in leading team of engineers to lead all aspects of design process, including regulatory needs per market and development per design control.</li> <li> Tasked to create test plan and analysis of existing Class I, II and III products and Testing per latest applicable requirements.</li> <li> Trained team in conducting project related cost analysis, test gap analysis and researching ISO/EN ISO/ASTM requirements.</li> <li> Leading companywide EU MDR product transfer and testing on Infusion products, Dialysis products and standalone products.</li> <li> Provided technical direction on MDR and 510k related projects and initiatives to other engineers and technicians.</li> </ul> </span> </div> </div> <div class=\\\"paragraph\\\" id=\\\"PARAGRAPH_57f7e681-47f6-4b9d-bd84-cbc638b40345_2_c5e121c4-d6fe-4d94-bb47-2d7a992e1427\\\" itemscope=\\\"\\\" itemtype=\\\"https://schema.org/Organization\\\" style=\\\"padding-top:NaNpx;\\\"> <div class=\\\"singlecolumn\\\"> <span class=\\\"paddedline\\\" style=\\\"display: inline;\\\"> <span class=\\\"jobtitle\\\" id=\\\"57f7e681-47f6-4b9d-bd84-cbc638b40345JTIT2\\\"> Project Engineer II</span> <span> , </span> </span> <span class=\\\"paddedline\\\" style=\\\"display: inline;\\\"> <span class=\\\"jobdates\\\" format=\\\"%m/%Y\\\" id=\\\"57f7e681-47f6-4b9d-bd84-cbc638b40345JSTD2\\\"> 03/2017</span> <span>  to </span> <span class=\\\"jobdates\\\" format=\\\"%m/%Y\\\" id=\\\"57f7e681-47f6-4b9d-bd84-cbc638b40345EDDT2\\\"> 03/2018</span> <br/> </span> <span class=\\\"paddedline\\\" itemscope=\\\"\\\" itemtype=\\\"https://schema.org/postalAddress\\\"> <span class=\\\"companyname\\\" id=\\\"57f7e681-47f6-4b9d-bd84-cbc638b40345COMP2\\\" itemprop=\\\"name\\\"> Company Name</span> <span>  \\u2013 </span> <span class=\\\"joblocation jobcity\\\" id=\\\"57f7e681-47f6-4b9d-bd84-cbc638b40345JCIT2\\\" itemprop=\\\"addressLocality\\\"> City</span> <span> , </span> <span class=\\\"joblocation jobstate\\\" id=\\\"57f7e681-47f6-4b9d-bd84-cbc638b40345JSTA2\\\" itemprop=\\\"addressRegion\\\"> State</span> <br/> </span> <span class=\\\"jobline\\\" id=\\\"57f7e681-47f6-4b9d-bd84-cbc638b40345JDES2\\\" itemprop=\\\"description\\\"> <ul> <li> Working with product management, Clinical Analyst, sales, and regulatory to determine optimal design inputs for new products.</li> <li> Completed design transfer and attained 510k on Class IIb device in under year.</li> <li> Lead cross functional team including consulting agency in order to Develop drug device combination product and research optimal process using DOE in order for mass production.</li> <li> Leading all aspects of design control from designing on solid works to process validations and V&amp;V Testing.</li> <li> Analyzing and resolving field failures through investigation and testing.</li> <li> Experienced in working with international regulatory teams in providing information for foreign registration.</li> <li> Responsible for gap analysis and test planning in order to create and meet deadline for projects.</li> <li> Experienced with reviewing and approving validation activities as well as provide support to staff to achieve project milestones.</li> <li> Experienced working with cross functional teams to complete projects and tasks.</li> </ul> </span> </div> </div> <div class=\\\"paragraph\\\" id=\\\"PARAGRAPH_57f7e681-47f6-4b9d-bd84-cbc638b40345_3_491b8c27-b7f3-4db9-a48d-46bfa2dd83ee\\\" itemscope=\\\"\\\" itemtype=\\\"https://schema.org/Organization\\\" style=\\\"padding-top:NaNpx;\\\"> <div class=\\\"singlecolumn\\\"> <span class=\\\"paddedline\\\" style=\\\"display: inline;\\\"> <span class=\\\"jobtitle\\\" id=\\\"57f7e681-47f6-4b9d-bd84-cbc638b40345JTIT3\\\"> Engineer I</span> <span> , </span> </span> <span class=\\\"paddedline\\\" style=\\\"display: inline;\\\"> <span class=\\\"jobdates\\\" format=\\\"%m/%Y\\\" id=\\\"57f7e681-47f6-4b9d-bd84-cbc638b40345JSTD3\\\"> 06/2013</span> <span>  to </span> <span class=\\\"jobdates\\\" format=\\\"%m/%Y\\\" id=\\\"57f7e681-47f6-4b9d-bd84-cbc638b40345EDDT3\\\"> 03/2017</span> <br/> </span> <span class=\\\"paddedline\\\" itemscope=\\\"\\\" itemtype=\\\"https://schema.org/postalAddress\\\"> <span class=\\\"companyname\\\" id=\\\"57f7e681-47f6-4b9d-bd84-cbc638b40345COMP3\\\" itemprop=\\\"name\\\"> Company Name</span> <span>  \\u2013 </span> <span class=\\\"joblocation jobcity\\\" id=\\\"57f7e681-47f6-4b9d-bd84-cbc638b40345JCIT3\\\" itemprop=\\\"addressLocality\\\"> City</span> <span> , </span> <span class=\\\"joblocation jobstate\\\" id=\\\"57f7e681-47f6-4b9d-bd84-cbc638b40345JSTA3\\\" itemprop=\\\"addressRegion\\\"> State</span> <br/> </span> <span class=\\\"jobline\\\" id=\\\"57f7e681-47f6-4b9d-bd84-cbc638b40345JDES3\\\" itemprop=\\\"description\\\"> <ul> <li> Worked to bring Drug Device Combination product to mass production.</li> <li> Completed new Class IIa product and completed project in 10 months.</li> <li> Completing CAPAs and resolving field failures by research and testing.</li> <li> Developed new testing methods and designed tooling for new testing.</li> <li> Experienced in using Injection Molding Machine to Create and Test Prototypes.</li> <li> Found cheaper and more responsible vendor for MRI related testing.</li> </ul> </span> </div> </div> </div> <div class=\\\"section\\\" id=\\\"SECTION_EDUCc3ff1b76-45c2-4256-801f-1d93a6d48a74\\\" style=\\\"padding-top:0px;\\\"> <div class=\\\"heading\\\"> <div class=\\\"sectiontitle\\\" id=\\\"SECTNAME_EDUCc3ff1b76-45c2-4256-801f-1d93a6d48a74\\\"> Education</div> </div> <div class=\\\"paragraph firstparagraph\\\" id=\\\"PARAGRAPH_c3ff1b76-45c2-4256-801f-1d93a6d48a74_1_7d553f36-a7b2-4ee5-ada1-c08888ca8509\\\" itemscope=\\\"\\\" itemtype=\\\"https://schema.org/EducationalOrganization\\\" style=\\\"padding-top:NaNpx;\\\"> <div class=\\\"singlecolumn\\\"> <span class=\\\"paddedline\\\" itemprop=\\\"description\\\"> <span class=\\\"degree\\\" id=\\\"c3ff1b76-45c2-4256-801f-1d93a6d48a74DGRE1\\\" itemprop=\\\"name\\\"> Bachelor of Science</span> <span> : </span> <span class=\\\"programline\\\" id=\\\"c3ff1b76-45c2-4256-801f-1d93a6d48a74STUY1\\\"> Mechanical Engineering</span> <span> , </span> <span format=\\\"%m/%Y\\\" id=\\\"c3ff1b76-45c2-4256-801f-1d93a6d48a74GRYR1\\\"> 05/2013</span> <br/> </span> <span class=\\\"paddedline\\\"> <span class=\\\"companyname companyname_educ\\\" id=\\\"c3ff1b76-45c2-4256-801f-1d93a6d48a74SCHO1\\\" itemprop=\\\"name\\\"> Temple University</span> <span>  - </span> <span class=\\\"joblocation jobcity\\\" id=\\\"c3ff1b76-45c2-4256-801f-1d93a6d48a74SCIT1\\\"> City</span> <span> , </span> <span class=\\\"joblocation jobstate\\\" id=\\\"c3ff1b76-45c2-4256-801f-1d93a6d48a74SSTA1\\\"> State</span> <br/> </span> <span class=\\\"field\\\" id=\\\"c3ff1b76-45c2-4256-801f-1d93a6d48a74FRFM1\\\"> </span> </div> </div> <div class=\\\"paragraph\\\" id=\\\"PARAGRAPH_c3ff1b76-45c2-4256-801f-1d93a6d48a74_2_927d72ba-b039-4a46-970c-25339dd8e216\\\" itemscope=\\\"\\\" itemtype=\\\"https://schema.org/EducationalOrganization\\\" style=\\\"padding-top:NaNpx;\\\"> <div class=\\\"singlecolumn\\\"> <span class=\\\"paddedline\\\" itemprop=\\\"description\\\"> <span class=\\\"degree\\\" id=\\\"c3ff1b76-45c2-4256-801f-1d93a6d48a74DGRE2\\\" itemprop=\\\"name\\\"> Certifications\\nManagement Leadership Certification and Six Sigma Greenbelt certification</span> <span class=\\\"programline\\\" id=\\\"c3ff1b76-45c2-4256-801f-1d93a6d48a74STUY2\\\"> </span> <span format=\\\"%m/%Y\\\" id=\\\"c3ff1b76-45c2-4256-801f-1d93a6d48a74GRYR2\\\"> </span> </span> <span class=\\\"field\\\" id=\\\"c3ff1b76-45c2-4256-801f-1d93a6d48a74FRFM2\\\"> </span> </div> </div> </div> <div class=\\\"section\\\" id=\\\"SECTION_WRKH94eaceaf-fc70-4558-aae7-c02aa39afdaa\\\" style=\\\"padding-top:0px;\\\"> <div class=\\\"heading\\\"> <div class=\\\"sectiontitle\\\" id=\\\"SECTNAME_WRKH94eaceaf-fc70-4558-aae7-c02aa39afdaa\\\"> Work History</div> </div> <div class=\\\"paragraph firstparagraph\\\" id=\\\"PARAGRAPH_94eaceaf-fc70-4558-aae7-c02aa39afdaa_1_683ed507-7415-4bc5-b721-adecaa5a90b4\\\" itemscope=\\\"\\\" itemtype=\\\"https://schema.org/Organization\\\" style=\\\"padding-top:NaNpx;\\\"> <div class=\\\"singlecolumn\\\"> <span class=\\\"paddedline\\\"> <span class=\\\"jobtitle\\\" id=\\\"94eaceaf-fc70-4558-aae7-c02aa39afdaaJTIT1\\\"> Engineering Manager</span> <span> , </span> <span class=\\\"jobdates\\\" format=\\\"%m/%Y\\\" id=\\\"94eaceaf-fc70-4558-aae7-c02aa39afdaaJSTD1\\\"> 03/2018</span> <span>  to </span> <span class=\\\"jobdates\\\" format=\\\"%m/%Y\\\" id=\\\"94eaceaf-fc70-4558-aae7-c02aa39afdaaEDDT1\\\"> Current</span> <br/> </span> <span class=\\\"paddedline\\\" itemscope=\\\"\\\" itemtype=\\\"https://schema.org/postalAddress\\\"> <span class=\\\"companyname\\\" id=\\\"94eaceaf-fc70-4558-aae7-c02aa39afdaaCOMP1\\\" itemprop=\\\"name\\\"> </span> <span class=\\\"joblocation jobcity\\\" id=\\\"94eaceaf-fc70-4558-aae7-c02aa39afdaaJCIT1\\\" itemprop=\\\"addressLocality\\\"> City</span> <span> , </span> <span class=\\\"joblocation jobstate\\\" id=\\\"94eaceaf-fc70-4558-aae7-c02aa39afdaaJSTA1\\\" itemprop=\\\"addressRegion\\\"> State</span> <br/> </span> <span class=\\\"jobline\\\" id=\\\"94eaceaf-fc70-4558-aae7-c02aa39afdaaJDES1\\\" itemprop=\\\"description\\\"> <ul> <li> Create and maintain Technical Files per MDR requirements as well as attaining 510k on legacy products.</li> <li> Assess testing gaps of legacy products and design creep.</li> <li> Experienced in working with multiple departments.</li> <li> Experienced in training and leading engineers in order to investigate field complaints, Gap analysis and building Technical files/DHF.</li> <li> Experienced in leading team of engineers to lead all aspects of design process, including regulatory needs per market and development per design control.</li> <li> Tasked to create test plan and analysis of existing Class I, II and III products and Testing per latest applicable requirements.</li> <li> Trained team in conducting project related cost analysis, test gap analysis and researching ISO/EN ISO/ASTM requirements.</li> <li> Leading companywide EU MDR product transfer and testing on Infusion products, Dialysis products and standalone products.</li> <li> Provided technical direction on MDR and 510k related projects and initiatives to other engineers and technicians.</li> </ul> </span> </div> </div> <div class=\\\"paragraph\\\" id=\\\"PARAGRAPH_94eaceaf-fc70-4558-aae7-c02aa39afdaa_2_ec8a0290-f8d6-49f4-917e-1272dd2fa499\\\" itemscope=\\\"\\\" itemtype=\\\"https://schema.org/Organization\\\" style=\\\"padding-top:NaNpx;\\\"> <div class=\\\"singlecolumn\\\"> <span class=\\\"paddedline\\\"> <span class=\\\"jobtitle\\\" id=\\\"94eaceaf-fc70-4558-aae7-c02aa39afdaaJTIT2\\\"> Project Engineer II</span> <span> , </span> <span class=\\\"jobdates\\\" format=\\\"%m/%Y\\\" id=\\\"94eaceaf-fc70-4558-aae7-c02aa39afdaaJSTD2\\\"> 03/2017</span> <span>  to </span> <span class=\\\"jobdates\\\" format=\\\"%m/%Y\\\" id=\\\"94eaceaf-fc70-4558-aae7-c02aa39afdaaEDDT2\\\"> 03/2018</span> <br/> </span> <span class=\\\"paddedline\\\" itemscope=\\\"\\\" itemtype=\\\"https://schema.org/postalAddress\\\"> <span class=\\\"companyname\\\" id=\\\"94eaceaf-fc70-4558-aae7-c02aa39afdaaCOMP2\\\" itemprop=\\\"name\\\"> Company Name</span> <span>  \\u2013 </span> <span class=\\\"joblocation jobcity\\\" id=\\\"94eaceaf-fc70-4558-aae7-c02aa39afdaaJCIT2\\\" itemprop=\\\"addressLocality\\\"> City</span> <span> , </span> <span class=\\\"joblocation jobstate\\\" id=\\\"94eaceaf-fc70-4558-aae7-c02aa39afdaaJSTA2\\\" itemprop=\\\"addressRegion\\\"> State</span> <br/> </span> <span class=\\\"jobline\\\" id=\\\"94eaceaf-fc70-4558-aae7-c02aa39afdaaJDES2\\\" itemprop=\\\"description\\\"> <ul> <li> Working with product management, Clinical Analyst, sales, and regulatory to determine optimal design inputs for new products.</li> <li> Completed design transfer and attained 510k on Class IIb device in under year.</li> <li> Lead cross functional team including consulting agency in order to Develop drug device combination product and research optimal process using DOE in order for mass production.</li> <li> Leading all aspects of design control from designing on solid works to process validations and V&amp;V Testing.</li> <li> Analyzing and resolving field failures through investigation and testing.</li> <li> Experienced in working with international regulatory teams in providing information for foreign registration.</li> <li> Responsible for gap analysis and test planning in order to create and meet deadline for projects.</li> <li> Experienced with reviewing and approving validation activities as well as provide support to staff to achieve project milestones.</li> <li> Experienced working with cross functional teams to complete projects and tasks.</li> </ul> </span> </div> </div> <div class=\\\"paragraph\\\" id=\\\"PARAGRAPH_94eaceaf-fc70-4558-aae7-c02aa39afdaa_3_95104344-4f04-46e2-9f70-7d9cc463a747\\\" itemscope=\\\"\\\" itemtype=\\\"https://schema.org/Organization\\\" style=\\\"padding-top:NaNpx;\\\"> <div class=\\\"singlecolumn\\\"> <span class=\\\"paddedline\\\"> <span class=\\\"jobtitle\\\" id=\\\"94eaceaf-fc70-4558-aae7-c02aa39afdaaJTIT3\\\"> Engineer I</span> <span> , </span> <span class=\\\"jobdates\\\" format=\\\"%m/%Y\\\" id=\\\"94eaceaf-fc70-4558-aae7-c02aa39afdaaJSTD3\\\"> 06/2013</span> <span>  to </span> <span class=\\\"jobdates\\\" format=\\\"%m/%Y\\\" id=\\\"94eaceaf-fc70-4558-aae7-c02aa39afdaaEDDT3\\\"> 03/2017</span> <br/> </span> <span class=\\\"paddedline\\\" itemscope=\\\"\\\" itemtype=\\\"https://schema.org/postalAddress\\\"> <span class=\\\"companyname\\\" id=\\\"94eaceaf-fc70-4558-aae7-c02aa39afdaaCOMP3\\\" itemprop=\\\"name\\\"> Company Name</span> <span>  \\u2013 </span> <span class=\\\"joblocation jobcity\\\" id=\\\"94eaceaf-fc70-4558-aae7-c02aa39afdaaJCIT3\\\" itemprop=\\\"addressLocality\\\"> City</span> <span> , </span> <span class=\\\"joblocation jobstate\\\" id=\\\"94eaceaf-fc70-4558-aae7-c02aa39afdaaJSTA3\\\" itemprop=\\\"addressRegion\\\"> State</span> <br/> </span> <span class=\\\"jobline\\\" id=\\\"94eaceaf-fc70-4558-aae7-c02aa39afdaaJDES3\\\" itemprop=\\\"description\\\"> <ul> <li> Worked to bring Drug Device Combination product to mass production.</li> <li> Completed new Class IIa product and completed project in 10 months.</li> <li> Completing CAPAs and resolving field failures by research and testing.</li> <li> Developed new testing methods and designed tooling for new testing.</li> <li> Experienced in using Injection Molding Machine to Create and Test Prototypes.</li> <li> Found cheaper and more responsible vendor for MRI related testing.</li> </ul> </span> </div> </div> </div> <div class=\\\"section\\\" id=\\\"SECTION_SKLL76d684b9-d30d-44de-810c-b0f4c84e80c1\\\" style=\\\"padding-top:0px;\\\"> <div class=\\\"heading\\\"> <div class=\\\"sectiontitle\\\" id=\\\"SECTNAME_SKLL76d684b9-d30d-44de-810c-b0f4c84e80c1\\\"> Skills</div> </div> <div class=\\\"paragraph firstparagraph\\\" id=\\\"PARAGRAPH_76d684b9-d30d-44de-810c-b0f4c84e80c1_1_6b2d0ea2-b0fe-4911-af72-588efa1c02a6\\\" style=\\\"padding-top:NaNpx;\\\"> <div class=\\\"field singlecolumn\\\" id=\\\"76d684b9-d30d-44de-810c-b0f4c84e80c1FRFM1\\\"> <li> Microsoft Office</li> <li> Microsoft Project</li> <li> Product development</li> <li> Quality</li> <li> Research</li> <li> Six Sigma Green Belt</li> <li> Solid Works</li> <li> Visio</li> <li> Prioritization</li> <li> Personnel management</li> <li> Critical thinking skills</li> <li> Team management,</li> <li> Analyst, agency, consulting, cost analysis, Critical thinking, Designing, Dialysis, direction, Develop drug, functional, IIa, ISO, Leadership, market and development, Microsoft Office, Microsoft Project, Personnel management, design process, Product development, product management, Quality, researching, Research, sales, Six Sigma, Solid Works, Team management, validation, Visio</li> </div> </div> </div> </div>\"\n        ],\n        \"semantic_type\": \"\",\n        \"description\": \"\"\n      }\n    },\n    {\n      \"column\": \"Category\",\n      \"properties\": {\n        \"dtype\": \"category\",\n        \"num_unique_values\": 24,\n        \"samples\": [\n          \"AGRICULTURE\",\n          \"APPAREL\",\n          \"HR\"\n        ],\n        \"semantic_type\": \"\",\n        \"description\": \"\"\n      }\n    }\n  ]\n}",
              "type": "dataframe",
              "variable_name": "data"
            },
            "text/html": [
              "\n",
              "  <div id=\"df-cbf44e59-f3ad-41b2-85b4-684f23212256\" class=\"colab-df-container\">\n",
              "    <div>\n",
              "<style scoped>\n",
              "    .dataframe tbody tr th:only-of-type {\n",
              "        vertical-align: middle;\n",
              "    }\n",
              "\n",
              "    .dataframe tbody tr th {\n",
              "        vertical-align: top;\n",
              "    }\n",
              "\n",
              "    .dataframe thead th {\n",
              "        text-align: right;\n",
              "    }\n",
              "</style>\n",
              "<table border=\"1\" class=\"dataframe\">\n",
              "  <thead>\n",
              "    <tr style=\"text-align: right;\">\n",
              "      <th></th>\n",
              "      <th>ID</th>\n",
              "      <th>Resume_str</th>\n",
              "      <th>Resume_html</th>\n",
              "      <th>Category</th>\n",
              "    </tr>\n",
              "  </thead>\n",
              "  <tbody>\n",
              "    <tr>\n",
              "      <th>0</th>\n",
              "      <td>16852973</td>\n",
              "      <td>HR ADMINISTRATOR/MARKETING ASSOCIATE\\...</td>\n",
              "      <td>&lt;div class=\"fontsize fontface vmargins hmargin...</td>\n",
              "      <td>HR</td>\n",
              "    </tr>\n",
              "    <tr>\n",
              "      <th>1</th>\n",
              "      <td>22323967</td>\n",
              "      <td>HR SPECIALIST, US HR OPERATIONS      ...</td>\n",
              "      <td>&lt;div class=\"fontsize fontface vmargins hmargin...</td>\n",
              "      <td>HR</td>\n",
              "    </tr>\n",
              "    <tr>\n",
              "      <th>2</th>\n",
              "      <td>33176873</td>\n",
              "      <td>HR DIRECTOR       Summary      Over 2...</td>\n",
              "      <td>&lt;div class=\"fontsize fontface vmargins hmargin...</td>\n",
              "      <td>HR</td>\n",
              "    </tr>\n",
              "    <tr>\n",
              "      <th>3</th>\n",
              "      <td>27018550</td>\n",
              "      <td>HR SPECIALIST       Summary    Dedica...</td>\n",
              "      <td>&lt;div class=\"fontsize fontface vmargins hmargin...</td>\n",
              "      <td>HR</td>\n",
              "    </tr>\n",
              "    <tr>\n",
              "      <th>4</th>\n",
              "      <td>17812897</td>\n",
              "      <td>HR MANAGER         Skill Highlights  ...</td>\n",
              "      <td>&lt;div class=\"fontsize fontface vmargins hmargin...</td>\n",
              "      <td>HR</td>\n",
              "    </tr>\n",
              "  </tbody>\n",
              "</table>\n",
              "</div>\n",
              "    <div class=\"colab-df-buttons\">\n",
              "\n",
              "  <div class=\"colab-df-container\">\n",
              "    <button class=\"colab-df-convert\" onclick=\"convertToInteractive('df-cbf44e59-f3ad-41b2-85b4-684f23212256')\"\n",
              "            title=\"Convert this dataframe to an interactive table.\"\n",
              "            style=\"display:none;\">\n",
              "\n",
              "  <svg xmlns=\"http://www.w3.org/2000/svg\" height=\"24px\" viewBox=\"0 -960 960 960\">\n",
              "    <path d=\"M120-120v-720h720v720H120Zm60-500h600v-160H180v160Zm220 220h160v-160H400v160Zm0 220h160v-160H400v160ZM180-400h160v-160H180v160Zm440 0h160v-160H620v160ZM180-180h160v-160H180v160Zm440 0h160v-160H620v160Z\"/>\n",
              "  </svg>\n",
              "    </button>\n",
              "\n",
              "  <style>\n",
              "    .colab-df-container {\n",
              "      display:flex;\n",
              "      gap: 12px;\n",
              "    }\n",
              "\n",
              "    .colab-df-convert {\n",
              "      background-color: #E8F0FE;\n",
              "      border: none;\n",
              "      border-radius: 50%;\n",
              "      cursor: pointer;\n",
              "      display: none;\n",
              "      fill: #1967D2;\n",
              "      height: 32px;\n",
              "      padding: 0 0 0 0;\n",
              "      width: 32px;\n",
              "    }\n",
              "\n",
              "    .colab-df-convert:hover {\n",
              "      background-color: #E2EBFA;\n",
              "      box-shadow: 0px 1px 2px rgba(60, 64, 67, 0.3), 0px 1px 3px 1px rgba(60, 64, 67, 0.15);\n",
              "      fill: #174EA6;\n",
              "    }\n",
              "\n",
              "    .colab-df-buttons div {\n",
              "      margin-bottom: 4px;\n",
              "    }\n",
              "\n",
              "    [theme=dark] .colab-df-convert {\n",
              "      background-color: #3B4455;\n",
              "      fill: #D2E3FC;\n",
              "    }\n",
              "\n",
              "    [theme=dark] .colab-df-convert:hover {\n",
              "      background-color: #434B5C;\n",
              "      box-shadow: 0px 1px 3px 1px rgba(0, 0, 0, 0.15);\n",
              "      filter: drop-shadow(0px 1px 2px rgba(0, 0, 0, 0.3));\n",
              "      fill: #FFFFFF;\n",
              "    }\n",
              "  </style>\n",
              "\n",
              "    <script>\n",
              "      const buttonEl =\n",
              "        document.querySelector('#df-cbf44e59-f3ad-41b2-85b4-684f23212256 button.colab-df-convert');\n",
              "      buttonEl.style.display =\n",
              "        google.colab.kernel.accessAllowed ? 'block' : 'none';\n",
              "\n",
              "      async function convertToInteractive(key) {\n",
              "        const element = document.querySelector('#df-cbf44e59-f3ad-41b2-85b4-684f23212256');\n",
              "        const dataTable =\n",
              "          await google.colab.kernel.invokeFunction('convertToInteractive',\n",
              "                                                    [key], {});\n",
              "        if (!dataTable) return;\n",
              "\n",
              "        const docLinkHtml = 'Like what you see? Visit the ' +\n",
              "          '<a target=\"_blank\" href=https://colab.research.google.com/notebooks/data_table.ipynb>data table notebook</a>'\n",
              "          + ' to learn more about interactive tables.';\n",
              "        element.innerHTML = '';\n",
              "        dataTable['output_type'] = 'display_data';\n",
              "        await google.colab.output.renderOutput(dataTable, element);\n",
              "        const docLink = document.createElement('div');\n",
              "        docLink.innerHTML = docLinkHtml;\n",
              "        element.appendChild(docLink);\n",
              "      }\n",
              "    </script>\n",
              "  </div>\n",
              "\n",
              "\n",
              "<div id=\"df-997057cb-3b72-4cc6-a3ae-b3123c55f281\">\n",
              "  <button class=\"colab-df-quickchart\" onclick=\"quickchart('df-997057cb-3b72-4cc6-a3ae-b3123c55f281')\"\n",
              "            title=\"Suggest charts\"\n",
              "            style=\"display:none;\">\n",
              "\n",
              "<svg xmlns=\"http://www.w3.org/2000/svg\" height=\"24px\"viewBox=\"0 0 24 24\"\n",
              "     width=\"24px\">\n",
              "    <g>\n",
              "        <path d=\"M19 3H5c-1.1 0-2 .9-2 2v14c0 1.1.9 2 2 2h14c1.1 0 2-.9 2-2V5c0-1.1-.9-2-2-2zM9 17H7v-7h2v7zm4 0h-2V7h2v10zm4 0h-2v-4h2v4z\"/>\n",
              "    </g>\n",
              "</svg>\n",
              "  </button>\n",
              "\n",
              "<style>\n",
              "  .colab-df-quickchart {\n",
              "      --bg-color: #E8F0FE;\n",
              "      --fill-color: #1967D2;\n",
              "      --hover-bg-color: #E2EBFA;\n",
              "      --hover-fill-color: #174EA6;\n",
              "      --disabled-fill-color: #AAA;\n",
              "      --disabled-bg-color: #DDD;\n",
              "  }\n",
              "\n",
              "  [theme=dark] .colab-df-quickchart {\n",
              "      --bg-color: #3B4455;\n",
              "      --fill-color: #D2E3FC;\n",
              "      --hover-bg-color: #434B5C;\n",
              "      --hover-fill-color: #FFFFFF;\n",
              "      --disabled-bg-color: #3B4455;\n",
              "      --disabled-fill-color: #666;\n",
              "  }\n",
              "\n",
              "  .colab-df-quickchart {\n",
              "    background-color: var(--bg-color);\n",
              "    border: none;\n",
              "    border-radius: 50%;\n",
              "    cursor: pointer;\n",
              "    display: none;\n",
              "    fill: var(--fill-color);\n",
              "    height: 32px;\n",
              "    padding: 0;\n",
              "    width: 32px;\n",
              "  }\n",
              "\n",
              "  .colab-df-quickchart:hover {\n",
              "    background-color: var(--hover-bg-color);\n",
              "    box-shadow: 0 1px 2px rgba(60, 64, 67, 0.3), 0 1px 3px 1px rgba(60, 64, 67, 0.15);\n",
              "    fill: var(--button-hover-fill-color);\n",
              "  }\n",
              "\n",
              "  .colab-df-quickchart-complete:disabled,\n",
              "  .colab-df-quickchart-complete:disabled:hover {\n",
              "    background-color: var(--disabled-bg-color);\n",
              "    fill: var(--disabled-fill-color);\n",
              "    box-shadow: none;\n",
              "  }\n",
              "\n",
              "  .colab-df-spinner {\n",
              "    border: 2px solid var(--fill-color);\n",
              "    border-color: transparent;\n",
              "    border-bottom-color: var(--fill-color);\n",
              "    animation:\n",
              "      spin 1s steps(1) infinite;\n",
              "  }\n",
              "\n",
              "  @keyframes spin {\n",
              "    0% {\n",
              "      border-color: transparent;\n",
              "      border-bottom-color: var(--fill-color);\n",
              "      border-left-color: var(--fill-color);\n",
              "    }\n",
              "    20% {\n",
              "      border-color: transparent;\n",
              "      border-left-color: var(--fill-color);\n",
              "      border-top-color: var(--fill-color);\n",
              "    }\n",
              "    30% {\n",
              "      border-color: transparent;\n",
              "      border-left-color: var(--fill-color);\n",
              "      border-top-color: var(--fill-color);\n",
              "      border-right-color: var(--fill-color);\n",
              "    }\n",
              "    40% {\n",
              "      border-color: transparent;\n",
              "      border-right-color: var(--fill-color);\n",
              "      border-top-color: var(--fill-color);\n",
              "    }\n",
              "    60% {\n",
              "      border-color: transparent;\n",
              "      border-right-color: var(--fill-color);\n",
              "    }\n",
              "    80% {\n",
              "      border-color: transparent;\n",
              "      border-right-color: var(--fill-color);\n",
              "      border-bottom-color: var(--fill-color);\n",
              "    }\n",
              "    90% {\n",
              "      border-color: transparent;\n",
              "      border-bottom-color: var(--fill-color);\n",
              "    }\n",
              "  }\n",
              "</style>\n",
              "\n",
              "  <script>\n",
              "    async function quickchart(key) {\n",
              "      const quickchartButtonEl =\n",
              "        document.querySelector('#' + key + ' button');\n",
              "      quickchartButtonEl.disabled = true;  // To prevent multiple clicks.\n",
              "      quickchartButtonEl.classList.add('colab-df-spinner');\n",
              "      try {\n",
              "        const charts = await google.colab.kernel.invokeFunction(\n",
              "            'suggestCharts', [key], {});\n",
              "      } catch (error) {\n",
              "        console.error('Error during call to suggestCharts:', error);\n",
              "      }\n",
              "      quickchartButtonEl.classList.remove('colab-df-spinner');\n",
              "      quickchartButtonEl.classList.add('colab-df-quickchart-complete');\n",
              "    }\n",
              "    (() => {\n",
              "      let quickchartButtonEl =\n",
              "        document.querySelector('#df-997057cb-3b72-4cc6-a3ae-b3123c55f281 button');\n",
              "      quickchartButtonEl.style.display =\n",
              "        google.colab.kernel.accessAllowed ? 'block' : 'none';\n",
              "    })();\n",
              "  </script>\n",
              "</div>\n",
              "\n",
              "    </div>\n",
              "  </div>\n"
            ],
            "text/plain": [
              "         ID                                         Resume_str  \\\n",
              "0  16852973           HR ADMINISTRATOR/MARKETING ASSOCIATE\\...   \n",
              "1  22323967           HR SPECIALIST, US HR OPERATIONS      ...   \n",
              "2  33176873           HR DIRECTOR       Summary      Over 2...   \n",
              "3  27018550           HR SPECIALIST       Summary    Dedica...   \n",
              "4  17812897           HR MANAGER         Skill Highlights  ...   \n",
              "\n",
              "                                         Resume_html Category  \n",
              "0  <div class=\"fontsize fontface vmargins hmargin...       HR  \n",
              "1  <div class=\"fontsize fontface vmargins hmargin...       HR  \n",
              "2  <div class=\"fontsize fontface vmargins hmargin...       HR  \n",
              "3  <div class=\"fontsize fontface vmargins hmargin...       HR  \n",
              "4  <div class=\"fontsize fontface vmargins hmargin...       HR  "
            ]
          },
          "execution_count": 8,
          "metadata": {},
          "output_type": "execute_result"
        }
      ],
      "source": [
        "data = pd.read_csv('/content/Resume.csv')\n",
        "data.head()"
      ]
    },
    {
      "cell_type": "code",
      "execution_count": null,
      "metadata": {
        "colab": {
          "base_uri": "https://localhost:8080/"
        },
        "id": "H2KP140llN8v",
        "outputId": "b00530f3-efe7-4b7f-c550-031ddf2646a6"
      },
      "outputs": [
        {
          "data": {
            "text/plain": [
              "(2484, 4)"
            ]
          },
          "execution_count": 9,
          "metadata": {},
          "output_type": "execute_result"
        }
      ],
      "source": [
        "data.shape"
      ]
    },
    {
      "cell_type": "code",
      "execution_count": null,
      "metadata": {
        "colab": {
          "base_uri": "https://localhost:8080/"
        },
        "id": "-70kHLGRPGAr",
        "outputId": "85a15874-cb77-433d-d3d4-7a5084b3cc0f"
      },
      "outputs": [
        {
          "data": {
            "text/plain": [
              "24"
            ]
          },
          "execution_count": 12,
          "metadata": {},
          "output_type": "execute_result"
        }
      ],
      "source": [
        "your_num_labels = data['Category'].nunique()\n",
        "your_num_labels"
      ]
    },
    {
      "cell_type": "code",
      "execution_count": null,
      "metadata": {
        "id": "LMdcYIjZlCG4"
      },
      "outputs": [],
      "source": [
        "from sklearn.model_selection import train_test_split\n",
        "\n",
        "data = data[['Resume_str', 'Category']].rename(columns={'Resume_str': 'resume_str', 'Category': 'category'})\n",
        "\n",
        "# Split the data into train and temporary sets (80-20)\n",
        "train_data, temp_data = train_test_split(data, test_size=0.2, random_state=42)\n",
        "\n",
        "# Split the temporary set into test and validation sets (50-50)\n",
        "test_data, validation_data = train_test_split(temp_data, test_size=0.5, random_state=42)\n"
      ]
    },
    {
      "cell_type": "code",
      "execution_count": null,
      "metadata": {
        "id": "NNg_9av9lTrS"
      },
      "outputs": [],
      "source": [
        "from datasets import Dataset\n",
        "\n",
        "train_dataset = Dataset.from_pandas(train_data)\n",
        "test_dataset = Dataset.from_pandas(test_data)\n",
        "validation_dataset = Dataset.from_pandas(validation_data)\n"
      ]
    },
    {
      "cell_type": "code",
      "execution_count": null,
      "metadata": {
        "colab": {
          "base_uri": "https://localhost:8080/"
        },
        "id": "fFBJ0bHRlZOT",
        "outputId": "9bcb71eb-1125-485b-ceb6-98346891658c"
      },
      "outputs": [
        {
          "data": {
            "text/plain": [
              "{'resume_str': \"         GRADUATE ENGINEER       Summary    Intellectually curious and resourceful\\n*Great interpersonal skills and ability to communicate effectively at all levels within an organization        Experience     03/2014   to   Current     Graduate Engineer    Company Name   －   City  ,   State      Developed conceptual plans for two intersections near Jersey Shore University Medical Center, based on traffic data, geometric constraints, and roadway design standards.  Employed knowledge of Microstation, Inroads, Excel, and VBA to efficiently complete miscellaneous tasks, including producing reports, creating visual displays, and generating automated text descriptions.  Applied vehicle turning software (AutoTurn) to analyze intersection design and geometric layout on various projects.  Member of the highway design team on I-295 Direct Connection Contract 3 project; developed grading on complex pavement widening sections, revised vertical and horizontal alignments to meet NJDOT standards, modeled highway sections using CAD (Microstation) and design software (Inroads), and generated plan cross sections.  Coordinated quantity effort across multiple disciplines (Highway, Electrical, Drainage, Utilities) on I-295 Direct Connection Contract 3; used in-house Excel VBA program to collect and organize quantity data, and devised additional VBA macros to optimize the initial setup and printing of quantity calculation sheets.  Designed horizontal and vertical alignments, superelevation constraints, and guide rail for I-280 Ramp 2P bridge deck replacement project.  Worked on multiple roadway resurfacing and maintenance projects; identified critical as-built information to present on plans, and developed ADA compliant grading and geometric layout for pedestrian facilities.         07/2012   to   08/2012     Summer Aviation Intern    Company Name   －   City  ,   State      Assisted the Port Authority's Manager of Structural Integrity.  Presented summaries of engineering reports to PA technical and non-technical staff.  Compiled and organized Safety and Priority Repair data from numerous inspection reports.  Inspected bridge components alongside members of Port Authority's Engineering Division.  Created details for the repair of longitudinal cracking along roadway, and the remediation of cracked catch basin, as well as cost estimates.  Gathered information on tenant employees to be relocated; generated cubicle plan for new tenant building.          Education     Present     Master of Science  :   Civil Engineering    New Jersey Institute of Technology   －   City  ,   State      Civil Engineering       October 2013     Bachelor of Science  :   Civil Engineering    Rutgers University   －   City  ,   State      Civil Engineering 3.7/4.0            Achieved passing score on FE/EIT Exam \\n*Relevant Courses: Intro to Transportation, Transportation Planning, Transportation Capstone              Interests    Programming, Reading, Creative Writing, Rock Climbing      Languages    Fluent in Spanish.      Skills    ADA, CAD, CSS, design software, EIT, Excel VBA, HTML, inspection, layout, macros, Excel, Powerpoint, Word, Microstation, producing, Python, Safety, Fluent in Spanish, Transportation, Utilities, VBA, visual displays      Additional Information      Interests: Programming, Reading, Creative Writing, Rock Climbing     \",\n",
              " 'category': 'AVIATION',\n",
              " '__index_level_0__': 2403}"
            ]
          },
          "execution_count": 15,
          "metadata": {},
          "output_type": "execute_result"
        }
      ],
      "source": [
        "train_dataset[0]"
      ]
    },
    {
      "cell_type": "code",
      "execution_count": null,
      "metadata": {
        "id": "o3wIBpXClePp"
      },
      "outputs": [],
      "source": [
        "from datasets import DatasetDict\n",
        "\n",
        "dataset_dict = DatasetDict({\n",
        "    'train': train_dataset,\n",
        "    'test': test_dataset,\n",
        "    'validation': validation_dataset\n",
        "})\n"
      ]
    },
    {
      "cell_type": "code",
      "execution_count": null,
      "metadata": {
        "colab": {
          "base_uri": "https://localhost:8080/"
        },
        "id": "47VrtQmHlwqJ",
        "outputId": "28bf3edd-cf90-4c3d-af98-7b4f84cf703a"
      },
      "outputs": [
        {
          "data": {
            "text/plain": [
              "DatasetDict({\n",
              "    train: Dataset({\n",
              "        features: ['resume_str', 'category', '__index_level_0__'],\n",
              "        num_rows: 1987\n",
              "    })\n",
              "    test: Dataset({\n",
              "        features: ['resume_str', 'category', '__index_level_0__'],\n",
              "        num_rows: 248\n",
              "    })\n",
              "    validation: Dataset({\n",
              "        features: ['resume_str', 'category', '__index_level_0__'],\n",
              "        num_rows: 249\n",
              "    })\n",
              "})"
            ]
          },
          "execution_count": 22,
          "metadata": {},
          "output_type": "execute_result"
        }
      ],
      "source": [
        "dataset_dict"
      ]
    },
    {
      "cell_type": "code",
      "execution_count": null,
      "metadata": {
        "id": "niivmO_RlzFH"
      },
      "outputs": [],
      "source": [
        "!pip install huggingface_hub -q"
      ]
    },
    {
      "cell_type": "code",
      "execution_count": null,
      "metadata": {
        "id": "uImbZXkBngYW"
      },
      "outputs": [],
      "source": [
        "from google.colab import userdata\n",
        "HUGGINGFACE_TOKEN = userdata.get('HUGGINGFACE_TOKEN')"
      ]
    },
    {
      "cell_type": "code",
      "execution_count": null,
      "metadata": {
        "colab": {
          "base_uri": "https://localhost:8080/"
        },
        "id": "4UVUBcM4mQVL",
        "outputId": "79d84a52-6984-483f-96ea-a9a7c6035602"
      },
      "outputs": [
        {
          "name": "stdout",
          "output_type": "stream",
          "text": [
            "Token will not been saved to git credential helper. Pass `add_to_git_credential=True` if you want to set the git credential as well.\n",
            "Token is valid (permission: write).\n",
            "Your token has been saved to /root/.cache/huggingface/token\n",
            "Login successful\n"
          ]
        }
      ],
      "source": [
        "!huggingface-cli login --token $HUGGINGFACE_TOKEN"
      ]
    },
    {
      "cell_type": "code",
      "execution_count": null,
      "metadata": {
        "colab": {
          "base_uri": "https://localhost:8080/",
          "height": 244,
          "referenced_widgets": [
            "90ab8ac800ff421ba6597e76185d01d4",
            "5ec84b5d000643a98d03df1a8dd24714",
            "c9886114ce554ca89e6bf9ca53468d81",
            "a02fc291c63b499fa3c813c33bfa9feb",
            "e3958ed24ede4f4da7dd764c8eaf9f94",
            "fdcfe4f867984be3a7f6ca4051eed03b",
            "a7571355cd6c4aa2b1b3a76443d7afe4",
            "d3e5ced0e0a44b4b9bcf5f7d1d4862aa",
            "1cd6c6c76e53488089ce8e904c93355d",
            "c8347fa9c1ec4a9497cd1378be2fd249",
            "aa06dfe488924df8bc36b2faf0ced141",
            "e1f0a627e27b4ecb9e783a214a67ee0e",
            "6115be477d134c54866d4f8cf0e4cc2e",
            "628cc6944af948e98320c111b5021e3e",
            "44ad058b91c3491bb713374f14f60c82",
            "7ae654cc259841e6a5a5a08eb29ae851",
            "4d10da27b77a4dc7a33ef99f71770deb",
            "e47618240b2447789cb94d52e4c7f307",
            "cb2aa5fdeb764d429cca9ed43d2b81e1",
            "f4c82dd8da244185bcaff13be6a00eeb",
            "ae6d82e7e18f44c4b22f66c7f51f3449",
            "a46bd5db328d48deaee8ef16291cfe49",
            "f1c7a677f65348a6aebcbe305d3b0b90",
            "2897c32c6886481aae4b0944dfb09cd0",
            "cd94c3f0268844159a89030b57c3746b",
            "8a320172c70348308dc1ef3d70f9a536",
            "5ef3053036f9486fb1fd2154af0b631a",
            "704f1ebaeeb74f689cdf71ff8165917a",
            "18a5df740e70444dafa88674f4b24f2f",
            "1318d70e7c2f4a55b38c15d9aaab4374",
            "ed34b2aa3f6547158db8833282dd6709",
            "29296953f3284c69b45b1f55848ef31c",
            "c6e6420e23c844799e5e406877ffb0a4",
            "87b2535cbd5245b488d8bb3c69ad7ecf",
            "7b0e8f2307564400a37cb1575dc033b3",
            "67cd713835134c9ea691e5e39c3a7d42",
            "4e816280dc4b4782ab068cc402bd90df",
            "5d6eee2ab7ce4cf6a1e02f9b36b7ca23",
            "b363a9ac47d1444eb56e07f58223bba1",
            "5badf39b35814908901e51174ff2616d",
            "8555e79a5b67478a9534451dd01243f2",
            "d349c75aff5449e4a1cb9bd81fef41a7",
            "1563d144bddb447ea04dc126b2b81b79",
            "0f5a003813414fcd98361c5ed5e92489",
            "06518b0a594e47e18c6170b485e5b098",
            "329ef41898624d1dbd77fd247e51e8ef",
            "93f9f96fd5584ba29f1caefea844c79f",
            "df7a995d901c452fad486380d02c1b07",
            "c4c4bf95d24a43b29c04967a14e5d03b",
            "c584e916e4074ef98fba60c5574b59f9",
            "fff2e0561d7f4d72bc03c58d704909f5",
            "d29ab2712229490e89661194c10cf577",
            "7a9e49b43dd042cebe2b0ae4cdf9b0e5",
            "ec68dfd394a7432787daa84a6ee4b7a3",
            "4fbb97fb5ad9478596323a1e76bda39a",
            "f52b966388714d158207ac3b82e2be97",
            "c1c800c132064121bde15f8efad8a962",
            "e290b188f828470495ce934a7ffd3c5d",
            "582950832c10469b8e86ac6249df4617",
            "2acd1e4dfab54a0f9b28689ad979bda4",
            "b71bb2e27d97462a8bd0e57254622362",
            "7fdfcf6b50fe48b78b43cf88eb8b3034",
            "691d9cdacccd47e58f6b0021777689e1",
            "ebfc44dadf8446fbabb9c097a4382354",
            "a9f86853e48644d5955174291408f130",
            "df999ad503f54690aeb8456244bdcaa3"
          ]
        },
        "id": "UVOFmpMAmsAG",
        "outputId": "655f85cb-ca15-4fec-d755-d76a00749b8e"
      },
      "outputs": [
        {
          "data": {
            "application/vnd.jupyter.widget-view+json": {
              "model_id": "90ab8ac800ff421ba6597e76185d01d4",
              "version_major": 2,
              "version_minor": 0
            },
            "text/plain": [
              "Uploading the dataset shards:   0%|          | 0/1 [00:00<?, ?it/s]"
            ]
          },
          "metadata": {},
          "output_type": "display_data"
        },
        {
          "data": {
            "application/vnd.jupyter.widget-view+json": {
              "model_id": "e1f0a627e27b4ecb9e783a214a67ee0e",
              "version_major": 2,
              "version_minor": 0
            },
            "text/plain": [
              "Creating parquet from Arrow format:   0%|          | 0/2 [00:00<?, ?ba/s]"
            ]
          },
          "metadata": {},
          "output_type": "display_data"
        },
        {
          "data": {
            "application/vnd.jupyter.widget-view+json": {
              "model_id": "f1c7a677f65348a6aebcbe305d3b0b90",
              "version_major": 2,
              "version_minor": 0
            },
            "text/plain": [
              "Uploading the dataset shards:   0%|          | 0/1 [00:00<?, ?it/s]"
            ]
          },
          "metadata": {},
          "output_type": "display_data"
        },
        {
          "data": {
            "application/vnd.jupyter.widget-view+json": {
              "model_id": "87b2535cbd5245b488d8bb3c69ad7ecf",
              "version_major": 2,
              "version_minor": 0
            },
            "text/plain": [
              "Creating parquet from Arrow format:   0%|          | 0/1 [00:00<?, ?ba/s]"
            ]
          },
          "metadata": {},
          "output_type": "display_data"
        },
        {
          "data": {
            "application/vnd.jupyter.widget-view+json": {
              "model_id": "06518b0a594e47e18c6170b485e5b098",
              "version_major": 2,
              "version_minor": 0
            },
            "text/plain": [
              "Uploading the dataset shards:   0%|          | 0/1 [00:00<?, ?it/s]"
            ]
          },
          "metadata": {},
          "output_type": "display_data"
        },
        {
          "data": {
            "application/vnd.jupyter.widget-view+json": {
              "model_id": "f52b966388714d158207ac3b82e2be97",
              "version_major": 2,
              "version_minor": 0
            },
            "text/plain": [
              "Creating parquet from Arrow format:   0%|          | 0/1 [00:00<?, ?ba/s]"
            ]
          },
          "metadata": {},
          "output_type": "display_data"
        },
        {
          "data": {
            "application/vnd.google.colaboratory.intrinsic+json": {
              "type": "string"
            },
            "text/plain": [
              "CommitInfo(commit_url='https://huggingface.co/datasets/pallavi176/resume_dataset/commit/f0efda7d24f9c1b216e42367de264c85cc051f8c', commit_message='Upload dataset', commit_description='', oid='f0efda7d24f9c1b216e42367de264c85cc051f8c', pr_url=None, pr_revision=None, pr_num=None)"
            ]
          },
          "execution_count": 26,
          "metadata": {},
          "output_type": "execute_result"
        }
      ],
      "source": [
        "from datasets import DatasetDict\n",
        "\n",
        "dataset_dict.push_to_hub('resume_dataset')"
      ]
    },
    {
      "cell_type": "markdown",
      "metadata": {
        "id": "6WPNBiXyIhj2"
      },
      "source": [
        "# After uploading dataset to the Hub, start from here"
      ]
    },
    {
      "cell_type": "code",
      "execution_count": null,
      "metadata": {
        "id": "OYBZ0dGJHcK3"
      },
      "outputs": [],
      "source": [
        "from datasets import load_dataset, load_from_disk, load_metric\n",
        "from transformers import AutoTokenizer, AutoModelForSequenceClassification, TrainingArguments, Trainer\n",
        "from sklearn.metrics import accuracy_score, precision_recall_fscore_support"
      ]
    },
    {
      "cell_type": "code",
      "execution_count": null,
      "metadata": {
        "colab": {
          "base_uri": "https://localhost:8080/"
        },
        "id": "nAzFCj6Nn4Aq",
        "outputId": "b640899c-265d-42f9-f0a7-1c1063768cd8"
      },
      "outputs": [
        {
          "data": {
            "text/plain": [
              "DatasetDict({\n",
              "    train: Dataset({\n",
              "        features: ['resume_str', 'category', '__index_level_0__'],\n",
              "        num_rows: 1987\n",
              "    })\n",
              "    test: Dataset({\n",
              "        features: ['resume_str', 'category', '__index_level_0__'],\n",
              "        num_rows: 248\n",
              "    })\n",
              "    validation: Dataset({\n",
              "        features: ['resume_str', 'category', '__index_level_0__'],\n",
              "        num_rows: 249\n",
              "    })\n",
              "})"
            ]
          },
          "execution_count": 42,
          "metadata": {},
          "output_type": "execute_result"
        }
      ],
      "source": [
        "# https://huggingface.co/datasets/pallavi176/resume_dataset\n",
        "# Step 1: Load dataset from hub\n",
        "data = load_dataset(\"pallavi176/resume_dataset\")\n",
        "data"
      ]
    },
    {
      "cell_type": "code",
      "execution_count": null,
      "metadata": {
        "colab": {
          "base_uri": "https://localhost:8080/"
        },
        "id": "slx4V0X4pDA9",
        "outputId": "c94e9ddc-66de-473b-ba16-1d0437e1cb37"
      },
      "outputs": [
        {
          "data": {
            "text/plain": [
              "Dataset({\n",
              "    features: ['resume_str', 'category', '__index_level_0__'],\n",
              "    num_rows: 1987\n",
              "})"
            ]
          },
          "execution_count": 43,
          "metadata": {},
          "output_type": "execute_result"
        }
      ],
      "source": [
        "data['train']"
      ]
    },
    {
      "cell_type": "code",
      "execution_count": null,
      "metadata": {
        "colab": {
          "base_uri": "https://localhost:8080/"
        },
        "id": "4atyqSV_LYt-",
        "outputId": "dae3ba8e-a8a8-4ed6-ef32-6d020f990f78"
      },
      "outputs": [
        {
          "name": "stderr",
          "output_type": "stream",
          "text": [
            "Some weights of DistilBertForSequenceClassification were not initialized from the model checkpoint at distilbert-base-uncased and are newly initialized: ['classifier.bias', 'classifier.weight', 'pre_classifier.bias', 'pre_classifier.weight']\n",
            "You should probably TRAIN this model on a down-stream task to be able to use it for predictions and inference.\n"
          ]
        }
      ],
      "source": [
        "#Step 2: Load a tokenizer and model from the Hugging Face Model Hub\n",
        "model_checkpoint = \"distilbert-base-uncased\"\n",
        "tokenizer = AutoTokenizer.from_pretrained(model_checkpoint)"
      ]
    },
    {
      "cell_type": "code",
      "execution_count": null,
      "metadata": {
        "id": "egP7pl4tVJZQ"
      },
      "outputs": [],
      "source": [
        "# Create label mappings\n",
        "unique_labels = set(data['train']['category'] + data['test']['category'] + data['validation']['category'])\n",
        "label2id = {label: id for id, label in enumerate(unique_labels)}\n",
        "id2label = {id: label for label, id in label2id.items()}"
      ]
    },
    {
      "cell_type": "code",
      "execution_count": null,
      "metadata": {
        "colab": {
          "base_uri": "https://localhost:8080/",
          "height": 113,
          "referenced_widgets": [
            "e963798587f04748ba9ccf12181b8644",
            "b6cfc7ed953e421687ff71269cf109b8",
            "915324a01a2b4092a39db137a32a47ac",
            "5dd0bfc39ee7470e833a70e36500ca08",
            "466b74d6eaac444a93ff1f1f5eb9d071",
            "9c0fcdfe9fba493cba5b09c07b262b41",
            "2fe95d01b349442d92e311824e93ecb9",
            "1b9c08fb141a43a4841c6eb614f232d7",
            "d1360cb1de744d1691d09f969a02d193",
            "e0aa4282b74a4e6bb37fec9850c475f7",
            "8b0af365637f421c8700bf4c4eab5aa6",
            "135a04ce93ce4ef8979484ae45057171",
            "aa4081e694f84fcd80151b0614fcf6b6",
            "51f3ff5d7b3b44a6b96269f212cf683b",
            "24960c5186f648b4a8c1b09ff3d7182d",
            "289f6f933f004bc595ea1e8e24d1eac0",
            "eb784ef5f7c74133bc84ad83ec44475e",
            "d9395ca4fa064484af7f4659df43e8fe",
            "24d98138f6314a1aaaf4f302f97d0675",
            "6a0b732b1e274614b71fdb4e0a08606d",
            "7fc5751cb63b47149cc575d7d249d2ec",
            "0ad2a57ce90747dd883810a6bc6e0dd5",
            "f8e52c03f4c346cf9cb6b09185eb8961",
            "1e690fb391f44cfc94d04581f61c5695",
            "7713a10268a8460f993b15520e23b07c",
            "853f5f6839c94f7cad42ac52318acd32",
            "8a8d8ea7695445929669b8f227ce1ad8",
            "4906fd4c21f3438aa3dce865fd3a95e4",
            "89e1c81f357d4099b3b49904adf1e71d",
            "4d9b87dd0a684d2db58389fe2cb1531a",
            "f9c9569ca6ae4ba485b2513706c53b05",
            "34a2f264f9d04431aac50f135c12745b",
            "096b0871a326484cab325d430a865008"
          ]
        },
        "id": "BK7k70lQQtiW",
        "outputId": "42f8a0a9-f5d8-4693-8eb6-c5cad23fdd38"
      },
      "outputs": [
        {
          "data": {
            "application/vnd.jupyter.widget-view+json": {
              "model_id": "e963798587f04748ba9ccf12181b8644",
              "version_major": 2,
              "version_minor": 0
            },
            "text/plain": [
              "Map:   0%|          | 0/1987 [00:00<?, ? examples/s]"
            ]
          },
          "metadata": {},
          "output_type": "display_data"
        },
        {
          "data": {
            "application/vnd.jupyter.widget-view+json": {
              "model_id": "135a04ce93ce4ef8979484ae45057171",
              "version_major": 2,
              "version_minor": 0
            },
            "text/plain": [
              "Map:   0%|          | 0/248 [00:00<?, ? examples/s]"
            ]
          },
          "metadata": {},
          "output_type": "display_data"
        },
        {
          "data": {
            "application/vnd.jupyter.widget-view+json": {
              "model_id": "f8e52c03f4c346cf9cb6b09185eb8961",
              "version_major": 2,
              "version_minor": 0
            },
            "text/plain": [
              "Map:   0%|          | 0/249 [00:00<?, ? examples/s]"
            ]
          },
          "metadata": {},
          "output_type": "display_data"
        }
      ],
      "source": [
        "# Step 3: Tokenize the dataset\n",
        "def tokenize_and_encode(ds):\n",
        "    tokenized = tokenizer(ds['resume_str'], padding='max_length', truncation=True, max_length=512)\n",
        "    tokenized['labels'] = [label2id[label] for label in ds['category']]\n",
        "    return tokenized\n",
        "\n",
        "tokenized_datasets = data.map(tokenize_and_encode, batched=True)"
      ]
    },
    {
      "cell_type": "code",
      "execution_count": null,
      "metadata": {
        "colab": {
          "base_uri": "https://localhost:8080/"
        },
        "id": "z21ieKgjR1IN",
        "outputId": "941aa47e-7ae6-4a91-aef2-68dbee4e569c"
      },
      "outputs": [
        {
          "data": {
            "text/plain": [
              "DatasetDict({\n",
              "    train: Dataset({\n",
              "        features: ['resume_str', 'category', '__index_level_0__', 'input_ids', 'attention_mask', 'labels'],\n",
              "        num_rows: 1987\n",
              "    })\n",
              "    test: Dataset({\n",
              "        features: ['resume_str', 'category', '__index_level_0__', 'input_ids', 'attention_mask', 'labels'],\n",
              "        num_rows: 248\n",
              "    })\n",
              "    validation: Dataset({\n",
              "        features: ['resume_str', 'category', '__index_level_0__', 'input_ids', 'attention_mask', 'labels'],\n",
              "        num_rows: 249\n",
              "    })\n",
              "})"
            ]
          },
          "execution_count": 48,
          "metadata": {},
          "output_type": "execute_result"
        }
      ],
      "source": [
        "tokenized_datasets"
      ]
    },
    {
      "cell_type": "code",
      "execution_count": null,
      "metadata": {
        "colab": {
          "base_uri": "https://localhost:8080/",
          "height": 139
        },
        "id": "kzoVSweRR9Ne",
        "outputId": "c27b2a56-c5f6-4134-eaca-19c885c070fa"
      },
      "outputs": [
        {
          "data": {
            "application/vnd.google.colaboratory.intrinsic+json": {
              "type": "string"
            },
            "text/plain": [
              "\"         GRADUATE ENGINEER       Summary    Intellectually curious and resourceful\\n*Great interpersonal skills and ability to communicate effectively at all levels within an organization        Experience     03/2014   to   Current     Graduate Engineer    Company Name   －   City  ,   State      Developed conceptual plans for two intersections near Jersey Shore University Medical Center, based on traffic data, geometric constraints, and roadway design standards.  Employed knowledge of Microstation, Inroads, Excel, and VBA to efficiently complete miscellaneous tasks, including producing reports, creating visual displays, and generating automated text descriptions.  Applied vehicle turning software (AutoTurn) to analyze intersection design and geometric layout on various projects.  Member of the highway design team on I-295 Direct Connection Contract 3 project; developed grading on complex pavement widening sections, revised vertical and horizontal alignments to meet NJDOT standards, modeled highway sections using CAD (Microstation) and design software (Inroads), and generated plan cross sections.  Coordinated quantity effort across multiple disciplines (Highway, Electrical, Drainage, Utilities) on I-295 Direct Connection Contract 3; used in-house Excel VBA program to collect and organize quantity data, and devised additional VBA macros to optimize the initial setup and printing of quantity calculation sheets.  Designed horizontal and vertical alignments, superelevation constraints, and guide rail for I-280 Ramp 2P bridge deck replacement project.  Worked on multiple roadway resurfacing and maintenance projects; identified critical as-built information to present on plans, and developed ADA compliant grading and geometric layout for pedestrian facilities.         07/2012   to   08/2012     Summer Aviation Intern    Company Name   －   City  ,   State      Assisted the Port Authority's Manager of Structural Integrity.  Presented summaries of engineering reports to PA technical and non-technical staff.  Compiled and organized Safety and Priority Repair data from numerous inspection reports.  Inspected bridge components alongside members of Port Authority's Engineering Division.  Created details for the repair of longitudinal cracking along roadway, and the remediation of cracked catch basin, as well as cost estimates.  Gathered information on tenant employees to be relocated; generated cubicle plan for new tenant building.          Education     Present     Master of Science  :   Civil Engineering    New Jersey Institute of Technology   －   City  ,   State      Civil Engineering       October 2013     Bachelor of Science  :   Civil Engineering    Rutgers University   －   City  ,   State      Civil Engineering 3.7/4.0            Achieved passing score on FE/EIT Exam \\n*Relevant Courses: Intro to Transportation, Transportation Planning, Transportation Capstone              Interests    Programming, Reading, Creative Writing, Rock Climbing      Languages    Fluent in Spanish.      Skills    ADA, CAD, CSS, design software, EIT, Excel VBA, HTML, inspection, layout, macros, Excel, Powerpoint, Word, Microstation, producing, Python, Safety, Fluent in Spanish, Transportation, Utilities, VBA, visual displays      Additional Information      Interests: Programming, Reading, Creative Writing, Rock Climbing     \""
            ]
          },
          "execution_count": 49,
          "metadata": {},
          "output_type": "execute_result"
        }
      ],
      "source": [
        "tokenized_datasets['train']['resume_str'][0]"
      ]
    },
    {
      "cell_type": "code",
      "execution_count": null,
      "metadata": {
        "colab": {
          "base_uri": "https://localhost:8080/",
          "height": 35
        },
        "id": "sC5G7NTJVglv",
        "outputId": "f5c86620-a67b-410e-8b0f-2dc3f26acd14"
      },
      "outputs": [
        {
          "data": {
            "application/vnd.google.colaboratory.intrinsic+json": {
              "type": "string"
            },
            "text/plain": [
              "'AVIATION'"
            ]
          },
          "execution_count": 50,
          "metadata": {},
          "output_type": "execute_result"
        }
      ],
      "source": [
        "tokenized_datasets['train']['category'][0]"
      ]
    },
    {
      "cell_type": "code",
      "execution_count": null,
      "metadata": {
        "colab": {
          "base_uri": "https://localhost:8080/"
        },
        "id": "dvsPnC2UVktr",
        "outputId": "8613220c-a209-4d19-caaf-731df123322f"
      },
      "outputs": [
        {
          "data": {
            "text/plain": [
              "8"
            ]
          },
          "execution_count": 51,
          "metadata": {},
          "output_type": "execute_result"
        }
      ],
      "source": [
        "tokenized_datasets['train']['labels'][0]"
      ]
    },
    {
      "cell_type": "code",
      "execution_count": null,
      "metadata": {
        "colab": {
          "base_uri": "https://localhost:8080/"
        },
        "id": "ymj706VtWHaY",
        "outputId": "7605293c-5e59-4019-edba-51962ff20cf0"
      },
      "outputs": [
        {
          "name": "stderr",
          "output_type": "stream",
          "text": [
            "Some weights of DistilBertForSequenceClassification were not initialized from the model checkpoint at distilbert-base-uncased and are newly initialized: ['classifier.bias', 'classifier.weight', 'pre_classifier.bias', 'pre_classifier.weight']\n",
            "You should probably TRAIN this model on a down-stream task to be able to use it for predictions and inference.\n"
          ]
        }
      ],
      "source": [
        "# Load the model with the custom label configuration\n",
        "model = AutoModelForSequenceClassification.from_pretrained(model_checkpoint, num_labels=len(unique_labels), id2label=id2label, label2id=label2id)\n"
      ]
    },
    {
      "cell_type": "code",
      "execution_count": null,
      "metadata": {
        "id": "CBTi1QjESIqA"
      },
      "outputs": [],
      "source": [
        "# Step 4: Fine-tune the model\n",
        "training_args = TrainingArguments(\n",
        "    output_dir=\"./results\",\n",
        "    learning_rate=2e-5,\n",
        "    per_device_train_batch_size=4,\n",
        "    per_device_eval_batch_size=4,\n",
        "    num_train_epochs=1,\n",
        "    weight_decay=0.01,\n",
        "    evaluation_strategy=\"epoch\",\n",
        ")"
      ]
    },
    {
      "cell_type": "code",
      "execution_count": null,
      "metadata": {
        "id": "kfY1C8ETS6Xf"
      },
      "outputs": [],
      "source": [
        "def compute_metrics(pred):\n",
        "    labels = pred.label_ids\n",
        "    preds = pred.predictions.argmax(-1)\n",
        "    precision, recall, f1, _ = precision_recall_fscore_support(labels, preds, average='macro')\n",
        "    acc = accuracy_score(labels, preds)\n",
        "    return {'accuracy': acc, 'f1': f1, 'precision': precision, 'recall': recall}"
      ]
    },
    {
      "cell_type": "code",
      "execution_count": null,
      "metadata": {
        "colab": {
          "base_uri": "https://localhost:8080/",
          "height": 196
        },
        "id": "ixQV16MfSqOq",
        "outputId": "478af5f5-fdff-4912-d110-837948dfa08a"
      },
      "outputs": [
        {
          "output_type": "display_data",
          "data": {
            "text/plain": [
              "<IPython.core.display.HTML object>"
            ],
            "text/html": [
              "\n",
              "    <div>\n",
              "      \n",
              "      <progress value='497' max='497' style='width:300px; height:20px; vertical-align: middle;'></progress>\n",
              "      [497/497 1:15:51, Epoch 1/1]\n",
              "    </div>\n",
              "    <table border=\"1\" class=\"dataframe\">\n",
              "  <thead>\n",
              " <tr style=\"text-align: left;\">\n",
              "      <th>Epoch</th>\n",
              "      <th>Training Loss</th>\n",
              "      <th>Validation Loss</th>\n",
              "      <th>Accuracy</th>\n",
              "      <th>F1</th>\n",
              "      <th>Precision</th>\n",
              "      <th>Recall</th>\n",
              "    </tr>\n",
              "  </thead>\n",
              "  <tbody>\n",
              "    <tr>\n",
              "      <td>1</td>\n",
              "      <td>No log</td>\n",
              "      <td>0.567369</td>\n",
              "      <td>0.867470</td>\n",
              "      <td>0.824329</td>\n",
              "      <td>0.819936</td>\n",
              "      <td>0.835338</td>\n",
              "    </tr>\n",
              "  </tbody>\n",
              "</table><p>"
            ]
          },
          "metadata": {}
        },
        {
          "output_type": "stream",
          "name": "stderr",
          "text": [
            "/usr/local/lib/python3.10/dist-packages/sklearn/metrics/_classification.py:1344: UndefinedMetricWarning: Precision and F-score are ill-defined and being set to 0.0 in labels with no predicted samples. Use `zero_division` parameter to control this behavior.\n",
            "  _warn_prf(average, modifier, msg_start, len(result))\n"
          ]
        },
        {
          "output_type": "execute_result",
          "data": {
            "text/plain": [
              "TrainOutput(global_step=497, training_loss=0.6089032977159834, metrics={'train_runtime': 4563.7494, 'train_samples_per_second': 0.435, 'train_steps_per_second': 0.109, 'total_flos': 263315989684224.0, 'train_loss': 0.6089032977159834, 'epoch': 1.0})"
            ]
          },
          "metadata": {},
          "execution_count": 59
        }
      ],
      "source": [
        "trainer = Trainer(\n",
        "    model=model,\n",
        "    args=training_args,\n",
        "    train_dataset=tokenized_datasets[\"train\"],\n",
        "    eval_dataset=tokenized_datasets[\"validation\"],\n",
        "    compute_metrics=compute_metrics,\n",
        ")\n",
        "\n",
        "trainer.train()"
      ]
    },
    {
      "cell_type": "code",
      "execution_count": null,
      "metadata": {
        "id": "z-uyqErfS0WB",
        "colab": {
          "base_uri": "https://localhost:8080/"
        },
        "outputId": "3555749e-d829-4783-cd32-596f4182850e"
      },
      "outputs": [
        {
          "output_type": "execute_result",
          "data": {
            "text/plain": [
              "('./fine_tuned_model_tokens/tokenizer_config.json',\n",
              " './fine_tuned_model_tokens/special_tokens_map.json',\n",
              " './fine_tuned_model_tokens/vocab.txt',\n",
              " './fine_tuned_model_tokens/added_tokens.json',\n",
              " './fine_tuned_model_tokens/tokenizer.json')"
            ]
          },
          "metadata": {},
          "execution_count": 60
        }
      ],
      "source": [
        "# Save the model and tokenizer\n",
        "model.save_pretrained('./fine_tuned_model')\n",
        "tokenizer.save_pretrained('./fine_tuned_model_tokens')"
      ]
    },
    {
      "cell_type": "code",
      "execution_count": null,
      "metadata": {
        "id": "HNNJaYgCkavj",
        "colab": {
          "base_uri": "https://localhost:8080/",
          "height": 248
        },
        "outputId": "d04e7ae8-cdac-40ef-f2aa-fb089767a499"
      },
      "outputs": [
        {
          "output_type": "display_data",
          "data": {
            "text/plain": [
              "<IPython.core.display.HTML object>"
            ],
            "text/html": [
              "\n",
              "    <div>\n",
              "      \n",
              "      <progress value='63' max='63' style='width:300px; height:20px; vertical-align: middle;'></progress>\n",
              "      [63/63 02:40]\n",
              "    </div>\n",
              "    "
            ]
          },
          "metadata": {}
        },
        {
          "output_type": "stream",
          "name": "stderr",
          "text": [
            "/usr/local/lib/python3.10/dist-packages/sklearn/metrics/_classification.py:1344: UndefinedMetricWarning: Precision and F-score are ill-defined and being set to 0.0 in labels with no predicted samples. Use `zero_division` parameter to control this behavior.\n",
            "  _warn_prf(average, modifier, msg_start, len(result))\n"
          ]
        },
        {
          "output_type": "execute_result",
          "data": {
            "text/plain": [
              "{'eval_loss': 0.5673694014549255,\n",
              " 'eval_accuracy': 0.8674698795180723,\n",
              " 'eval_f1': 0.8243285046620692,\n",
              " 'eval_precision': 0.8199359818925036,\n",
              " 'eval_recall': 0.8353379712075365,\n",
              " 'eval_runtime': 164.7053,\n",
              " 'eval_samples_per_second': 1.512,\n",
              " 'eval_steps_per_second': 0.383,\n",
              " 'epoch': 1.0}"
            ]
          },
          "metadata": {},
          "execution_count": 61
        }
      ],
      "source": [
        "# Evaluate the model\n",
        "eval_results = trainer.evaluate()\n",
        "eval_results"
      ]
    },
    {
      "cell_type": "code",
      "source": [],
      "metadata": {
        "id": "_OiQNSaoStyZ"
      },
      "execution_count": null,
      "outputs": []
    }
  ],
  "metadata": {
    "accelerator": "GPU",
    "colab": {
      "gpuType": "T4",
      "provenance": [],
      "include_colab_link": true
    },
    "kernelspec": {
      "display_name": "Python 3",
      "name": "python3"
    },
    "language_info": {
      "name": "python"
    },
    "widgets": {
      "application/vnd.jupyter.widget-state+json": {
        "06518b0a594e47e18c6170b485e5b098": {
          "model_module": "@jupyter-widgets/controls",
          "model_module_version": "1.5.0",
          "model_name": "HBoxModel",
          "state": {
            "_dom_classes": [],
            "_model_module": "@jupyter-widgets/controls",
            "_model_module_version": "1.5.0",
            "_model_name": "HBoxModel",
            "_view_count": null,
            "_view_module": "@jupyter-widgets/controls",
            "_view_module_version": "1.5.0",
            "_view_name": "HBoxView",
            "box_style": "",
            "children": [
              "IPY_MODEL_329ef41898624d1dbd77fd247e51e8ef",
              "IPY_MODEL_93f9f96fd5584ba29f1caefea844c79f",
              "IPY_MODEL_df7a995d901c452fad486380d02c1b07"
            ],
            "layout": "IPY_MODEL_c4c4bf95d24a43b29c04967a14e5d03b"
          }
        },
        "096b0871a326484cab325d430a865008": {
          "model_module": "@jupyter-widgets/controls",
          "model_module_version": "1.5.0",
          "model_name": "DescriptionStyleModel",
          "state": {
            "_model_module": "@jupyter-widgets/controls",
            "_model_module_version": "1.5.0",
            "_model_name": "DescriptionStyleModel",
            "_view_count": null,
            "_view_module": "@jupyter-widgets/base",
            "_view_module_version": "1.2.0",
            "_view_name": "StyleView",
            "description_width": ""
          }
        },
        "0ad2a57ce90747dd883810a6bc6e0dd5": {
          "model_module": "@jupyter-widgets/controls",
          "model_module_version": "1.5.0",
          "model_name": "DescriptionStyleModel",
          "state": {
            "_model_module": "@jupyter-widgets/controls",
            "_model_module_version": "1.5.0",
            "_model_name": "DescriptionStyleModel",
            "_view_count": null,
            "_view_module": "@jupyter-widgets/base",
            "_view_module_version": "1.2.0",
            "_view_name": "StyleView",
            "description_width": ""
          }
        },
        "0f5a003813414fcd98361c5ed5e92489": {
          "model_module": "@jupyter-widgets/controls",
          "model_module_version": "1.5.0",
          "model_name": "DescriptionStyleModel",
          "state": {
            "_model_module": "@jupyter-widgets/controls",
            "_model_module_version": "1.5.0",
            "_model_name": "DescriptionStyleModel",
            "_view_count": null,
            "_view_module": "@jupyter-widgets/base",
            "_view_module_version": "1.2.0",
            "_view_name": "StyleView",
            "description_width": ""
          }
        },
        "1318d70e7c2f4a55b38c15d9aaab4374": {
          "model_module": "@jupyter-widgets/base",
          "model_module_version": "1.2.0",
          "model_name": "LayoutModel",
          "state": {
            "_model_module": "@jupyter-widgets/base",
            "_model_module_version": "1.2.0",
            "_model_name": "LayoutModel",
            "_view_count": null,
            "_view_module": "@jupyter-widgets/base",
            "_view_module_version": "1.2.0",
            "_view_name": "LayoutView",
            "align_content": null,
            "align_items": null,
            "align_self": null,
            "border": null,
            "bottom": null,
            "display": null,
            "flex": null,
            "flex_flow": null,
            "grid_area": null,
            "grid_auto_columns": null,
            "grid_auto_flow": null,
            "grid_auto_rows": null,
            "grid_column": null,
            "grid_gap": null,
            "grid_row": null,
            "grid_template_areas": null,
            "grid_template_columns": null,
            "grid_template_rows": null,
            "height": null,
            "justify_content": null,
            "justify_items": null,
            "left": null,
            "margin": null,
            "max_height": null,
            "max_width": null,
            "min_height": null,
            "min_width": null,
            "object_fit": null,
            "object_position": null,
            "order": null,
            "overflow": null,
            "overflow_x": null,
            "overflow_y": null,
            "padding": null,
            "right": null,
            "top": null,
            "visibility": null,
            "width": null
          }
        },
        "135a04ce93ce4ef8979484ae45057171": {
          "model_module": "@jupyter-widgets/controls",
          "model_module_version": "1.5.0",
          "model_name": "HBoxModel",
          "state": {
            "_dom_classes": [],
            "_model_module": "@jupyter-widgets/controls",
            "_model_module_version": "1.5.0",
            "_model_name": "HBoxModel",
            "_view_count": null,
            "_view_module": "@jupyter-widgets/controls",
            "_view_module_version": "1.5.0",
            "_view_name": "HBoxView",
            "box_style": "",
            "children": [
              "IPY_MODEL_aa4081e694f84fcd80151b0614fcf6b6",
              "IPY_MODEL_51f3ff5d7b3b44a6b96269f212cf683b",
              "IPY_MODEL_24960c5186f648b4a8c1b09ff3d7182d"
            ],
            "layout": "IPY_MODEL_289f6f933f004bc595ea1e8e24d1eac0"
          }
        },
        "1563d144bddb447ea04dc126b2b81b79": {
          "model_module": "@jupyter-widgets/base",
          "model_module_version": "1.2.0",
          "model_name": "LayoutModel",
          "state": {
            "_model_module": "@jupyter-widgets/base",
            "_model_module_version": "1.2.0",
            "_model_name": "LayoutModel",
            "_view_count": null,
            "_view_module": "@jupyter-widgets/base",
            "_view_module_version": "1.2.0",
            "_view_name": "LayoutView",
            "align_content": null,
            "align_items": null,
            "align_self": null,
            "border": null,
            "bottom": null,
            "display": null,
            "flex": null,
            "flex_flow": null,
            "grid_area": null,
            "grid_auto_columns": null,
            "grid_auto_flow": null,
            "grid_auto_rows": null,
            "grid_column": null,
            "grid_gap": null,
            "grid_row": null,
            "grid_template_areas": null,
            "grid_template_columns": null,
            "grid_template_rows": null,
            "height": null,
            "justify_content": null,
            "justify_items": null,
            "left": null,
            "margin": null,
            "max_height": null,
            "max_width": null,
            "min_height": null,
            "min_width": null,
            "object_fit": null,
            "object_position": null,
            "order": null,
            "overflow": null,
            "overflow_x": null,
            "overflow_y": null,
            "padding": null,
            "right": null,
            "top": null,
            "visibility": null,
            "width": null
          }
        },
        "18a5df740e70444dafa88674f4b24f2f": {
          "model_module": "@jupyter-widgets/controls",
          "model_module_version": "1.5.0",
          "model_name": "DescriptionStyleModel",
          "state": {
            "_model_module": "@jupyter-widgets/controls",
            "_model_module_version": "1.5.0",
            "_model_name": "DescriptionStyleModel",
            "_view_count": null,
            "_view_module": "@jupyter-widgets/base",
            "_view_module_version": "1.2.0",
            "_view_name": "StyleView",
            "description_width": ""
          }
        },
        "1b9c08fb141a43a4841c6eb614f232d7": {
          "model_module": "@jupyter-widgets/base",
          "model_module_version": "1.2.0",
          "model_name": "LayoutModel",
          "state": {
            "_model_module": "@jupyter-widgets/base",
            "_model_module_version": "1.2.0",
            "_model_name": "LayoutModel",
            "_view_count": null,
            "_view_module": "@jupyter-widgets/base",
            "_view_module_version": "1.2.0",
            "_view_name": "LayoutView",
            "align_content": null,
            "align_items": null,
            "align_self": null,
            "border": null,
            "bottom": null,
            "display": null,
            "flex": null,
            "flex_flow": null,
            "grid_area": null,
            "grid_auto_columns": null,
            "grid_auto_flow": null,
            "grid_auto_rows": null,
            "grid_column": null,
            "grid_gap": null,
            "grid_row": null,
            "grid_template_areas": null,
            "grid_template_columns": null,
            "grid_template_rows": null,
            "height": null,
            "justify_content": null,
            "justify_items": null,
            "left": null,
            "margin": null,
            "max_height": null,
            "max_width": null,
            "min_height": null,
            "min_width": null,
            "object_fit": null,
            "object_position": null,
            "order": null,
            "overflow": null,
            "overflow_x": null,
            "overflow_y": null,
            "padding": null,
            "right": null,
            "top": null,
            "visibility": null,
            "width": null
          }
        },
        "1cd6c6c76e53488089ce8e904c93355d": {
          "model_module": "@jupyter-widgets/controls",
          "model_module_version": "1.5.0",
          "model_name": "ProgressStyleModel",
          "state": {
            "_model_module": "@jupyter-widgets/controls",
            "_model_module_version": "1.5.0",
            "_model_name": "ProgressStyleModel",
            "_view_count": null,
            "_view_module": "@jupyter-widgets/base",
            "_view_module_version": "1.2.0",
            "_view_name": "StyleView",
            "bar_color": null,
            "description_width": ""
          }
        },
        "1e690fb391f44cfc94d04581f61c5695": {
          "model_module": "@jupyter-widgets/controls",
          "model_module_version": "1.5.0",
          "model_name": "HTMLModel",
          "state": {
            "_dom_classes": [],
            "_model_module": "@jupyter-widgets/controls",
            "_model_module_version": "1.5.0",
            "_model_name": "HTMLModel",
            "_view_count": null,
            "_view_module": "@jupyter-widgets/controls",
            "_view_module_version": "1.5.0",
            "_view_name": "HTMLView",
            "description": "",
            "description_tooltip": null,
            "layout": "IPY_MODEL_4906fd4c21f3438aa3dce865fd3a95e4",
            "placeholder": "​",
            "style": "IPY_MODEL_89e1c81f357d4099b3b49904adf1e71d",
            "value": "Map: 100%"
          }
        },
        "24960c5186f648b4a8c1b09ff3d7182d": {
          "model_module": "@jupyter-widgets/controls",
          "model_module_version": "1.5.0",
          "model_name": "HTMLModel",
          "state": {
            "_dom_classes": [],
            "_model_module": "@jupyter-widgets/controls",
            "_model_module_version": "1.5.0",
            "_model_name": "HTMLModel",
            "_view_count": null,
            "_view_module": "@jupyter-widgets/controls",
            "_view_module_version": "1.5.0",
            "_view_name": "HTMLView",
            "description": "",
            "description_tooltip": null,
            "layout": "IPY_MODEL_7fc5751cb63b47149cc575d7d249d2ec",
            "placeholder": "​",
            "style": "IPY_MODEL_0ad2a57ce90747dd883810a6bc6e0dd5",
            "value": " 248/248 [00:00&lt;00:00, 407.20 examples/s]"
          }
        },
        "24d98138f6314a1aaaf4f302f97d0675": {
          "model_module": "@jupyter-widgets/base",
          "model_module_version": "1.2.0",
          "model_name": "LayoutModel",
          "state": {
            "_model_module": "@jupyter-widgets/base",
            "_model_module_version": "1.2.0",
            "_model_name": "LayoutModel",
            "_view_count": null,
            "_view_module": "@jupyter-widgets/base",
            "_view_module_version": "1.2.0",
            "_view_name": "LayoutView",
            "align_content": null,
            "align_items": null,
            "align_self": null,
            "border": null,
            "bottom": null,
            "display": null,
            "flex": null,
            "flex_flow": null,
            "grid_area": null,
            "grid_auto_columns": null,
            "grid_auto_flow": null,
            "grid_auto_rows": null,
            "grid_column": null,
            "grid_gap": null,
            "grid_row": null,
            "grid_template_areas": null,
            "grid_template_columns": null,
            "grid_template_rows": null,
            "height": null,
            "justify_content": null,
            "justify_items": null,
            "left": null,
            "margin": null,
            "max_height": null,
            "max_width": null,
            "min_height": null,
            "min_width": null,
            "object_fit": null,
            "object_position": null,
            "order": null,
            "overflow": null,
            "overflow_x": null,
            "overflow_y": null,
            "padding": null,
            "right": null,
            "top": null,
            "visibility": null,
            "width": null
          }
        },
        "2897c32c6886481aae4b0944dfb09cd0": {
          "model_module": "@jupyter-widgets/controls",
          "model_module_version": "1.5.0",
          "model_name": "HTMLModel",
          "state": {
            "_dom_classes": [],
            "_model_module": "@jupyter-widgets/controls",
            "_model_module_version": "1.5.0",
            "_model_name": "HTMLModel",
            "_view_count": null,
            "_view_module": "@jupyter-widgets/controls",
            "_view_module_version": "1.5.0",
            "_view_name": "HTMLView",
            "description": "",
            "description_tooltip": null,
            "layout": "IPY_MODEL_704f1ebaeeb74f689cdf71ff8165917a",
            "placeholder": "​",
            "style": "IPY_MODEL_18a5df740e70444dafa88674f4b24f2f",
            "value": "Uploading the dataset shards: 100%"
          }
        },
        "289f6f933f004bc595ea1e8e24d1eac0": {
          "model_module": "@jupyter-widgets/base",
          "model_module_version": "1.2.0",
          "model_name": "LayoutModel",
          "state": {
            "_model_module": "@jupyter-widgets/base",
            "_model_module_version": "1.2.0",
            "_model_name": "LayoutModel",
            "_view_count": null,
            "_view_module": "@jupyter-widgets/base",
            "_view_module_version": "1.2.0",
            "_view_name": "LayoutView",
            "align_content": null,
            "align_items": null,
            "align_self": null,
            "border": null,
            "bottom": null,
            "display": null,
            "flex": null,
            "flex_flow": null,
            "grid_area": null,
            "grid_auto_columns": null,
            "grid_auto_flow": null,
            "grid_auto_rows": null,
            "grid_column": null,
            "grid_gap": null,
            "grid_row": null,
            "grid_template_areas": null,
            "grid_template_columns": null,
            "grid_template_rows": null,
            "height": null,
            "justify_content": null,
            "justify_items": null,
            "left": null,
            "margin": null,
            "max_height": null,
            "max_width": null,
            "min_height": null,
            "min_width": null,
            "object_fit": null,
            "object_position": null,
            "order": null,
            "overflow": null,
            "overflow_x": null,
            "overflow_y": null,
            "padding": null,
            "right": null,
            "top": null,
            "visibility": null,
            "width": null
          }
        },
        "29296953f3284c69b45b1f55848ef31c": {
          "model_module": "@jupyter-widgets/base",
          "model_module_version": "1.2.0",
          "model_name": "LayoutModel",
          "state": {
            "_model_module": "@jupyter-widgets/base",
            "_model_module_version": "1.2.0",
            "_model_name": "LayoutModel",
            "_view_count": null,
            "_view_module": "@jupyter-widgets/base",
            "_view_module_version": "1.2.0",
            "_view_name": "LayoutView",
            "align_content": null,
            "align_items": null,
            "align_self": null,
            "border": null,
            "bottom": null,
            "display": null,
            "flex": null,
            "flex_flow": null,
            "grid_area": null,
            "grid_auto_columns": null,
            "grid_auto_flow": null,
            "grid_auto_rows": null,
            "grid_column": null,
            "grid_gap": null,
            "grid_row": null,
            "grid_template_areas": null,
            "grid_template_columns": null,
            "grid_template_rows": null,
            "height": null,
            "justify_content": null,
            "justify_items": null,
            "left": null,
            "margin": null,
            "max_height": null,
            "max_width": null,
            "min_height": null,
            "min_width": null,
            "object_fit": null,
            "object_position": null,
            "order": null,
            "overflow": null,
            "overflow_x": null,
            "overflow_y": null,
            "padding": null,
            "right": null,
            "top": null,
            "visibility": null,
            "width": null
          }
        },
        "2acd1e4dfab54a0f9b28689ad979bda4": {
          "model_module": "@jupyter-widgets/base",
          "model_module_version": "1.2.0",
          "model_name": "LayoutModel",
          "state": {
            "_model_module": "@jupyter-widgets/base",
            "_model_module_version": "1.2.0",
            "_model_name": "LayoutModel",
            "_view_count": null,
            "_view_module": "@jupyter-widgets/base",
            "_view_module_version": "1.2.0",
            "_view_name": "LayoutView",
            "align_content": null,
            "align_items": null,
            "align_self": null,
            "border": null,
            "bottom": null,
            "display": null,
            "flex": null,
            "flex_flow": null,
            "grid_area": null,
            "grid_auto_columns": null,
            "grid_auto_flow": null,
            "grid_auto_rows": null,
            "grid_column": null,
            "grid_gap": null,
            "grid_row": null,
            "grid_template_areas": null,
            "grid_template_columns": null,
            "grid_template_rows": null,
            "height": null,
            "justify_content": null,
            "justify_items": null,
            "left": null,
            "margin": null,
            "max_height": null,
            "max_width": null,
            "min_height": null,
            "min_width": null,
            "object_fit": null,
            "object_position": null,
            "order": null,
            "overflow": null,
            "overflow_x": null,
            "overflow_y": null,
            "padding": null,
            "right": null,
            "top": null,
            "visibility": null,
            "width": null
          }
        },
        "2fe95d01b349442d92e311824e93ecb9": {
          "model_module": "@jupyter-widgets/controls",
          "model_module_version": "1.5.0",
          "model_name": "DescriptionStyleModel",
          "state": {
            "_model_module": "@jupyter-widgets/controls",
            "_model_module_version": "1.5.0",
            "_model_name": "DescriptionStyleModel",
            "_view_count": null,
            "_view_module": "@jupyter-widgets/base",
            "_view_module_version": "1.2.0",
            "_view_name": "StyleView",
            "description_width": ""
          }
        },
        "329ef41898624d1dbd77fd247e51e8ef": {
          "model_module": "@jupyter-widgets/controls",
          "model_module_version": "1.5.0",
          "model_name": "HTMLModel",
          "state": {
            "_dom_classes": [],
            "_model_module": "@jupyter-widgets/controls",
            "_model_module_version": "1.5.0",
            "_model_name": "HTMLModel",
            "_view_count": null,
            "_view_module": "@jupyter-widgets/controls",
            "_view_module_version": "1.5.0",
            "_view_name": "HTMLView",
            "description": "",
            "description_tooltip": null,
            "layout": "IPY_MODEL_c584e916e4074ef98fba60c5574b59f9",
            "placeholder": "​",
            "style": "IPY_MODEL_fff2e0561d7f4d72bc03c58d704909f5",
            "value": "Uploading the dataset shards: 100%"
          }
        },
        "34a2f264f9d04431aac50f135c12745b": {
          "model_module": "@jupyter-widgets/base",
          "model_module_version": "1.2.0",
          "model_name": "LayoutModel",
          "state": {
            "_model_module": "@jupyter-widgets/base",
            "_model_module_version": "1.2.0",
            "_model_name": "LayoutModel",
            "_view_count": null,
            "_view_module": "@jupyter-widgets/base",
            "_view_module_version": "1.2.0",
            "_view_name": "LayoutView",
            "align_content": null,
            "align_items": null,
            "align_self": null,
            "border": null,
            "bottom": null,
            "display": null,
            "flex": null,
            "flex_flow": null,
            "grid_area": null,
            "grid_auto_columns": null,
            "grid_auto_flow": null,
            "grid_auto_rows": null,
            "grid_column": null,
            "grid_gap": null,
            "grid_row": null,
            "grid_template_areas": null,
            "grid_template_columns": null,
            "grid_template_rows": null,
            "height": null,
            "justify_content": null,
            "justify_items": null,
            "left": null,
            "margin": null,
            "max_height": null,
            "max_width": null,
            "min_height": null,
            "min_width": null,
            "object_fit": null,
            "object_position": null,
            "order": null,
            "overflow": null,
            "overflow_x": null,
            "overflow_y": null,
            "padding": null,
            "right": null,
            "top": null,
            "visibility": null,
            "width": null
          }
        },
        "44ad058b91c3491bb713374f14f60c82": {
          "model_module": "@jupyter-widgets/controls",
          "model_module_version": "1.5.0",
          "model_name": "HTMLModel",
          "state": {
            "_dom_classes": [],
            "_model_module": "@jupyter-widgets/controls",
            "_model_module_version": "1.5.0",
            "_model_name": "HTMLModel",
            "_view_count": null,
            "_view_module": "@jupyter-widgets/controls",
            "_view_module_version": "1.5.0",
            "_view_name": "HTMLView",
            "description": "",
            "description_tooltip": null,
            "layout": "IPY_MODEL_ae6d82e7e18f44c4b22f66c7f51f3449",
            "placeholder": "​",
            "style": "IPY_MODEL_a46bd5db328d48deaee8ef16291cfe49",
            "value": " 2/2 [00:00&lt;00:00, 23.82ba/s]"
          }
        },
        "466b74d6eaac444a93ff1f1f5eb9d071": {
          "model_module": "@jupyter-widgets/base",
          "model_module_version": "1.2.0",
          "model_name": "LayoutModel",
          "state": {
            "_model_module": "@jupyter-widgets/base",
            "_model_module_version": "1.2.0",
            "_model_name": "LayoutModel",
            "_view_count": null,
            "_view_module": "@jupyter-widgets/base",
            "_view_module_version": "1.2.0",
            "_view_name": "LayoutView",
            "align_content": null,
            "align_items": null,
            "align_self": null,
            "border": null,
            "bottom": null,
            "display": null,
            "flex": null,
            "flex_flow": null,
            "grid_area": null,
            "grid_auto_columns": null,
            "grid_auto_flow": null,
            "grid_auto_rows": null,
            "grid_column": null,
            "grid_gap": null,
            "grid_row": null,
            "grid_template_areas": null,
            "grid_template_columns": null,
            "grid_template_rows": null,
            "height": null,
            "justify_content": null,
            "justify_items": null,
            "left": null,
            "margin": null,
            "max_height": null,
            "max_width": null,
            "min_height": null,
            "min_width": null,
            "object_fit": null,
            "object_position": null,
            "order": null,
            "overflow": null,
            "overflow_x": null,
            "overflow_y": null,
            "padding": null,
            "right": null,
            "top": null,
            "visibility": null,
            "width": null
          }
        },
        "4906fd4c21f3438aa3dce865fd3a95e4": {
          "model_module": "@jupyter-widgets/base",
          "model_module_version": "1.2.0",
          "model_name": "LayoutModel",
          "state": {
            "_model_module": "@jupyter-widgets/base",
            "_model_module_version": "1.2.0",
            "_model_name": "LayoutModel",
            "_view_count": null,
            "_view_module": "@jupyter-widgets/base",
            "_view_module_version": "1.2.0",
            "_view_name": "LayoutView",
            "align_content": null,
            "align_items": null,
            "align_self": null,
            "border": null,
            "bottom": null,
            "display": null,
            "flex": null,
            "flex_flow": null,
            "grid_area": null,
            "grid_auto_columns": null,
            "grid_auto_flow": null,
            "grid_auto_rows": null,
            "grid_column": null,
            "grid_gap": null,
            "grid_row": null,
            "grid_template_areas": null,
            "grid_template_columns": null,
            "grid_template_rows": null,
            "height": null,
            "justify_content": null,
            "justify_items": null,
            "left": null,
            "margin": null,
            "max_height": null,
            "max_width": null,
            "min_height": null,
            "min_width": null,
            "object_fit": null,
            "object_position": null,
            "order": null,
            "overflow": null,
            "overflow_x": null,
            "overflow_y": null,
            "padding": null,
            "right": null,
            "top": null,
            "visibility": null,
            "width": null
          }
        },
        "4d10da27b77a4dc7a33ef99f71770deb": {
          "model_module": "@jupyter-widgets/base",
          "model_module_version": "1.2.0",
          "model_name": "LayoutModel",
          "state": {
            "_model_module": "@jupyter-widgets/base",
            "_model_module_version": "1.2.0",
            "_model_name": "LayoutModel",
            "_view_count": null,
            "_view_module": "@jupyter-widgets/base",
            "_view_module_version": "1.2.0",
            "_view_name": "LayoutView",
            "align_content": null,
            "align_items": null,
            "align_self": null,
            "border": null,
            "bottom": null,
            "display": null,
            "flex": null,
            "flex_flow": null,
            "grid_area": null,
            "grid_auto_columns": null,
            "grid_auto_flow": null,
            "grid_auto_rows": null,
            "grid_column": null,
            "grid_gap": null,
            "grid_row": null,
            "grid_template_areas": null,
            "grid_template_columns": null,
            "grid_template_rows": null,
            "height": null,
            "justify_content": null,
            "justify_items": null,
            "left": null,
            "margin": null,
            "max_height": null,
            "max_width": null,
            "min_height": null,
            "min_width": null,
            "object_fit": null,
            "object_position": null,
            "order": null,
            "overflow": null,
            "overflow_x": null,
            "overflow_y": null,
            "padding": null,
            "right": null,
            "top": null,
            "visibility": null,
            "width": null
          }
        },
        "4d9b87dd0a684d2db58389fe2cb1531a": {
          "model_module": "@jupyter-widgets/base",
          "model_module_version": "1.2.0",
          "model_name": "LayoutModel",
          "state": {
            "_model_module": "@jupyter-widgets/base",
            "_model_module_version": "1.2.0",
            "_model_name": "LayoutModel",
            "_view_count": null,
            "_view_module": "@jupyter-widgets/base",
            "_view_module_version": "1.2.0",
            "_view_name": "LayoutView",
            "align_content": null,
            "align_items": null,
            "align_self": null,
            "border": null,
            "bottom": null,
            "display": null,
            "flex": null,
            "flex_flow": null,
            "grid_area": null,
            "grid_auto_columns": null,
            "grid_auto_flow": null,
            "grid_auto_rows": null,
            "grid_column": null,
            "grid_gap": null,
            "grid_row": null,
            "grid_template_areas": null,
            "grid_template_columns": null,
            "grid_template_rows": null,
            "height": null,
            "justify_content": null,
            "justify_items": null,
            "left": null,
            "margin": null,
            "max_height": null,
            "max_width": null,
            "min_height": null,
            "min_width": null,
            "object_fit": null,
            "object_position": null,
            "order": null,
            "overflow": null,
            "overflow_x": null,
            "overflow_y": null,
            "padding": null,
            "right": null,
            "top": null,
            "visibility": null,
            "width": null
          }
        },
        "4e816280dc4b4782ab068cc402bd90df": {
          "model_module": "@jupyter-widgets/controls",
          "model_module_version": "1.5.0",
          "model_name": "HTMLModel",
          "state": {
            "_dom_classes": [],
            "_model_module": "@jupyter-widgets/controls",
            "_model_module_version": "1.5.0",
            "_model_name": "HTMLModel",
            "_view_count": null,
            "_view_module": "@jupyter-widgets/controls",
            "_view_module_version": "1.5.0",
            "_view_name": "HTMLView",
            "description": "",
            "description_tooltip": null,
            "layout": "IPY_MODEL_1563d144bddb447ea04dc126b2b81b79",
            "placeholder": "​",
            "style": "IPY_MODEL_0f5a003813414fcd98361c5ed5e92489",
            "value": " 1/1 [00:00&lt;00:00, 37.21ba/s]"
          }
        },
        "4fbb97fb5ad9478596323a1e76bda39a": {
          "model_module": "@jupyter-widgets/controls",
          "model_module_version": "1.5.0",
          "model_name": "DescriptionStyleModel",
          "state": {
            "_model_module": "@jupyter-widgets/controls",
            "_model_module_version": "1.5.0",
            "_model_name": "DescriptionStyleModel",
            "_view_count": null,
            "_view_module": "@jupyter-widgets/base",
            "_view_module_version": "1.2.0",
            "_view_name": "StyleView",
            "description_width": ""
          }
        },
        "51f3ff5d7b3b44a6b96269f212cf683b": {
          "model_module": "@jupyter-widgets/controls",
          "model_module_version": "1.5.0",
          "model_name": "FloatProgressModel",
          "state": {
            "_dom_classes": [],
            "_model_module": "@jupyter-widgets/controls",
            "_model_module_version": "1.5.0",
            "_model_name": "FloatProgressModel",
            "_view_count": null,
            "_view_module": "@jupyter-widgets/controls",
            "_view_module_version": "1.5.0",
            "_view_name": "ProgressView",
            "bar_style": "success",
            "description": "",
            "description_tooltip": null,
            "layout": "IPY_MODEL_24d98138f6314a1aaaf4f302f97d0675",
            "max": 248,
            "min": 0,
            "orientation": "horizontal",
            "style": "IPY_MODEL_6a0b732b1e274614b71fdb4e0a08606d",
            "value": 248
          }
        },
        "582950832c10469b8e86ac6249df4617": {
          "model_module": "@jupyter-widgets/controls",
          "model_module_version": "1.5.0",
          "model_name": "HTMLModel",
          "state": {
            "_dom_classes": [],
            "_model_module": "@jupyter-widgets/controls",
            "_model_module_version": "1.5.0",
            "_model_name": "HTMLModel",
            "_view_count": null,
            "_view_module": "@jupyter-widgets/controls",
            "_view_module_version": "1.5.0",
            "_view_name": "HTMLView",
            "description": "",
            "description_tooltip": null,
            "layout": "IPY_MODEL_a9f86853e48644d5955174291408f130",
            "placeholder": "​",
            "style": "IPY_MODEL_df999ad503f54690aeb8456244bdcaa3",
            "value": " 1/1 [00:00&lt;00:00, 35.85ba/s]"
          }
        },
        "5badf39b35814908901e51174ff2616d": {
          "model_module": "@jupyter-widgets/controls",
          "model_module_version": "1.5.0",
          "model_name": "DescriptionStyleModel",
          "state": {
            "_model_module": "@jupyter-widgets/controls",
            "_model_module_version": "1.5.0",
            "_model_name": "DescriptionStyleModel",
            "_view_count": null,
            "_view_module": "@jupyter-widgets/base",
            "_view_module_version": "1.2.0",
            "_view_name": "StyleView",
            "description_width": ""
          }
        },
        "5d6eee2ab7ce4cf6a1e02f9b36b7ca23": {
          "model_module": "@jupyter-widgets/base",
          "model_module_version": "1.2.0",
          "model_name": "LayoutModel",
          "state": {
            "_model_module": "@jupyter-widgets/base",
            "_model_module_version": "1.2.0",
            "_model_name": "LayoutModel",
            "_view_count": null,
            "_view_module": "@jupyter-widgets/base",
            "_view_module_version": "1.2.0",
            "_view_name": "LayoutView",
            "align_content": null,
            "align_items": null,
            "align_self": null,
            "border": null,
            "bottom": null,
            "display": null,
            "flex": null,
            "flex_flow": null,
            "grid_area": null,
            "grid_auto_columns": null,
            "grid_auto_flow": null,
            "grid_auto_rows": null,
            "grid_column": null,
            "grid_gap": null,
            "grid_row": null,
            "grid_template_areas": null,
            "grid_template_columns": null,
            "grid_template_rows": null,
            "height": null,
            "justify_content": null,
            "justify_items": null,
            "left": null,
            "margin": null,
            "max_height": null,
            "max_width": null,
            "min_height": null,
            "min_width": null,
            "object_fit": null,
            "object_position": null,
            "order": null,
            "overflow": null,
            "overflow_x": null,
            "overflow_y": null,
            "padding": null,
            "right": null,
            "top": null,
            "visibility": null,
            "width": null
          }
        },
        "5dd0bfc39ee7470e833a70e36500ca08": {
          "model_module": "@jupyter-widgets/controls",
          "model_module_version": "1.5.0",
          "model_name": "HTMLModel",
          "state": {
            "_dom_classes": [],
            "_model_module": "@jupyter-widgets/controls",
            "_model_module_version": "1.5.0",
            "_model_name": "HTMLModel",
            "_view_count": null,
            "_view_module": "@jupyter-widgets/controls",
            "_view_module_version": "1.5.0",
            "_view_name": "HTMLView",
            "description": "",
            "description_tooltip": null,
            "layout": "IPY_MODEL_e0aa4282b74a4e6bb37fec9850c475f7",
            "placeholder": "​",
            "style": "IPY_MODEL_8b0af365637f421c8700bf4c4eab5aa6",
            "value": " 1987/1987 [00:06&lt;00:00, 321.11 examples/s]"
          }
        },
        "5ec84b5d000643a98d03df1a8dd24714": {
          "model_module": "@jupyter-widgets/controls",
          "model_module_version": "1.5.0",
          "model_name": "HTMLModel",
          "state": {
            "_dom_classes": [],
            "_model_module": "@jupyter-widgets/controls",
            "_model_module_version": "1.5.0",
            "_model_name": "HTMLModel",
            "_view_count": null,
            "_view_module": "@jupyter-widgets/controls",
            "_view_module_version": "1.5.0",
            "_view_name": "HTMLView",
            "description": "",
            "description_tooltip": null,
            "layout": "IPY_MODEL_fdcfe4f867984be3a7f6ca4051eed03b",
            "placeholder": "​",
            "style": "IPY_MODEL_a7571355cd6c4aa2b1b3a76443d7afe4",
            "value": "Uploading the dataset shards: 100%"
          }
        },
        "5ef3053036f9486fb1fd2154af0b631a": {
          "model_module": "@jupyter-widgets/base",
          "model_module_version": "1.2.0",
          "model_name": "LayoutModel",
          "state": {
            "_model_module": "@jupyter-widgets/base",
            "_model_module_version": "1.2.0",
            "_model_name": "LayoutModel",
            "_view_count": null,
            "_view_module": "@jupyter-widgets/base",
            "_view_module_version": "1.2.0",
            "_view_name": "LayoutView",
            "align_content": null,
            "align_items": null,
            "align_self": null,
            "border": null,
            "bottom": null,
            "display": null,
            "flex": null,
            "flex_flow": null,
            "grid_area": null,
            "grid_auto_columns": null,
            "grid_auto_flow": null,
            "grid_auto_rows": null,
            "grid_column": null,
            "grid_gap": null,
            "grid_row": null,
            "grid_template_areas": null,
            "grid_template_columns": null,
            "grid_template_rows": null,
            "height": null,
            "justify_content": null,
            "justify_items": null,
            "left": null,
            "margin": null,
            "max_height": null,
            "max_width": null,
            "min_height": null,
            "min_width": null,
            "object_fit": null,
            "object_position": null,
            "order": null,
            "overflow": null,
            "overflow_x": null,
            "overflow_y": null,
            "padding": null,
            "right": null,
            "top": null,
            "visibility": null,
            "width": null
          }
        },
        "6115be477d134c54866d4f8cf0e4cc2e": {
          "model_module": "@jupyter-widgets/controls",
          "model_module_version": "1.5.0",
          "model_name": "HTMLModel",
          "state": {
            "_dom_classes": [],
            "_model_module": "@jupyter-widgets/controls",
            "_model_module_version": "1.5.0",
            "_model_name": "HTMLModel",
            "_view_count": null,
            "_view_module": "@jupyter-widgets/controls",
            "_view_module_version": "1.5.0",
            "_view_name": "HTMLView",
            "description": "",
            "description_tooltip": null,
            "layout": "IPY_MODEL_4d10da27b77a4dc7a33ef99f71770deb",
            "placeholder": "​",
            "style": "IPY_MODEL_e47618240b2447789cb94d52e4c7f307",
            "value": "Creating parquet from Arrow format: 100%"
          }
        },
        "628cc6944af948e98320c111b5021e3e": {
          "model_module": "@jupyter-widgets/controls",
          "model_module_version": "1.5.0",
          "model_name": "FloatProgressModel",
          "state": {
            "_dom_classes": [],
            "_model_module": "@jupyter-widgets/controls",
            "_model_module_version": "1.5.0",
            "_model_name": "FloatProgressModel",
            "_view_count": null,
            "_view_module": "@jupyter-widgets/controls",
            "_view_module_version": "1.5.0",
            "_view_name": "ProgressView",
            "bar_style": "success",
            "description": "",
            "description_tooltip": null,
            "layout": "IPY_MODEL_cb2aa5fdeb764d429cca9ed43d2b81e1",
            "max": 2,
            "min": 0,
            "orientation": "horizontal",
            "style": "IPY_MODEL_f4c82dd8da244185bcaff13be6a00eeb",
            "value": 2
          }
        },
        "67cd713835134c9ea691e5e39c3a7d42": {
          "model_module": "@jupyter-widgets/controls",
          "model_module_version": "1.5.0",
          "model_name": "FloatProgressModel",
          "state": {
            "_dom_classes": [],
            "_model_module": "@jupyter-widgets/controls",
            "_model_module_version": "1.5.0",
            "_model_name": "FloatProgressModel",
            "_view_count": null,
            "_view_module": "@jupyter-widgets/controls",
            "_view_module_version": "1.5.0",
            "_view_name": "ProgressView",
            "bar_style": "success",
            "description": "",
            "description_tooltip": null,
            "layout": "IPY_MODEL_8555e79a5b67478a9534451dd01243f2",
            "max": 1,
            "min": 0,
            "orientation": "horizontal",
            "style": "IPY_MODEL_d349c75aff5449e4a1cb9bd81fef41a7",
            "value": 1
          }
        },
        "691d9cdacccd47e58f6b0021777689e1": {
          "model_module": "@jupyter-widgets/base",
          "model_module_version": "1.2.0",
          "model_name": "LayoutModel",
          "state": {
            "_model_module": "@jupyter-widgets/base",
            "_model_module_version": "1.2.0",
            "_model_name": "LayoutModel",
            "_view_count": null,
            "_view_module": "@jupyter-widgets/base",
            "_view_module_version": "1.2.0",
            "_view_name": "LayoutView",
            "align_content": null,
            "align_items": null,
            "align_self": null,
            "border": null,
            "bottom": null,
            "display": null,
            "flex": null,
            "flex_flow": null,
            "grid_area": null,
            "grid_auto_columns": null,
            "grid_auto_flow": null,
            "grid_auto_rows": null,
            "grid_column": null,
            "grid_gap": null,
            "grid_row": null,
            "grid_template_areas": null,
            "grid_template_columns": null,
            "grid_template_rows": null,
            "height": null,
            "justify_content": null,
            "justify_items": null,
            "left": null,
            "margin": null,
            "max_height": null,
            "max_width": null,
            "min_height": null,
            "min_width": null,
            "object_fit": null,
            "object_position": null,
            "order": null,
            "overflow": null,
            "overflow_x": null,
            "overflow_y": null,
            "padding": null,
            "right": null,
            "top": null,
            "visibility": null,
            "width": null
          }
        },
        "6a0b732b1e274614b71fdb4e0a08606d": {
          "model_module": "@jupyter-widgets/controls",
          "model_module_version": "1.5.0",
          "model_name": "ProgressStyleModel",
          "state": {
            "_model_module": "@jupyter-widgets/controls",
            "_model_module_version": "1.5.0",
            "_model_name": "ProgressStyleModel",
            "_view_count": null,
            "_view_module": "@jupyter-widgets/base",
            "_view_module_version": "1.2.0",
            "_view_name": "StyleView",
            "bar_color": null,
            "description_width": ""
          }
        },
        "704f1ebaeeb74f689cdf71ff8165917a": {
          "model_module": "@jupyter-widgets/base",
          "model_module_version": "1.2.0",
          "model_name": "LayoutModel",
          "state": {
            "_model_module": "@jupyter-widgets/base",
            "_model_module_version": "1.2.0",
            "_model_name": "LayoutModel",
            "_view_count": null,
            "_view_module": "@jupyter-widgets/base",
            "_view_module_version": "1.2.0",
            "_view_name": "LayoutView",
            "align_content": null,
            "align_items": null,
            "align_self": null,
            "border": null,
            "bottom": null,
            "display": null,
            "flex": null,
            "flex_flow": null,
            "grid_area": null,
            "grid_auto_columns": null,
            "grid_auto_flow": null,
            "grid_auto_rows": null,
            "grid_column": null,
            "grid_gap": null,
            "grid_row": null,
            "grid_template_areas": null,
            "grid_template_columns": null,
            "grid_template_rows": null,
            "height": null,
            "justify_content": null,
            "justify_items": null,
            "left": null,
            "margin": null,
            "max_height": null,
            "max_width": null,
            "min_height": null,
            "min_width": null,
            "object_fit": null,
            "object_position": null,
            "order": null,
            "overflow": null,
            "overflow_x": null,
            "overflow_y": null,
            "padding": null,
            "right": null,
            "top": null,
            "visibility": null,
            "width": null
          }
        },
        "7713a10268a8460f993b15520e23b07c": {
          "model_module": "@jupyter-widgets/controls",
          "model_module_version": "1.5.0",
          "model_name": "FloatProgressModel",
          "state": {
            "_dom_classes": [],
            "_model_module": "@jupyter-widgets/controls",
            "_model_module_version": "1.5.0",
            "_model_name": "FloatProgressModel",
            "_view_count": null,
            "_view_module": "@jupyter-widgets/controls",
            "_view_module_version": "1.5.0",
            "_view_name": "ProgressView",
            "bar_style": "success",
            "description": "",
            "description_tooltip": null,
            "layout": "IPY_MODEL_4d9b87dd0a684d2db58389fe2cb1531a",
            "max": 249,
            "min": 0,
            "orientation": "horizontal",
            "style": "IPY_MODEL_f9c9569ca6ae4ba485b2513706c53b05",
            "value": 249
          }
        },
        "7a9e49b43dd042cebe2b0ae4cdf9b0e5": {
          "model_module": "@jupyter-widgets/controls",
          "model_module_version": "1.5.0",
          "model_name": "ProgressStyleModel",
          "state": {
            "_model_module": "@jupyter-widgets/controls",
            "_model_module_version": "1.5.0",
            "_model_name": "ProgressStyleModel",
            "_view_count": null,
            "_view_module": "@jupyter-widgets/base",
            "_view_module_version": "1.2.0",
            "_view_name": "StyleView",
            "bar_color": null,
            "description_width": ""
          }
        },
        "7ae654cc259841e6a5a5a08eb29ae851": {
          "model_module": "@jupyter-widgets/base",
          "model_module_version": "1.2.0",
          "model_name": "LayoutModel",
          "state": {
            "_model_module": "@jupyter-widgets/base",
            "_model_module_version": "1.2.0",
            "_model_name": "LayoutModel",
            "_view_count": null,
            "_view_module": "@jupyter-widgets/base",
            "_view_module_version": "1.2.0",
            "_view_name": "LayoutView",
            "align_content": null,
            "align_items": null,
            "align_self": null,
            "border": null,
            "bottom": null,
            "display": null,
            "flex": null,
            "flex_flow": null,
            "grid_area": null,
            "grid_auto_columns": null,
            "grid_auto_flow": null,
            "grid_auto_rows": null,
            "grid_column": null,
            "grid_gap": null,
            "grid_row": null,
            "grid_template_areas": null,
            "grid_template_columns": null,
            "grid_template_rows": null,
            "height": null,
            "justify_content": null,
            "justify_items": null,
            "left": null,
            "margin": null,
            "max_height": null,
            "max_width": null,
            "min_height": null,
            "min_width": null,
            "object_fit": null,
            "object_position": null,
            "order": null,
            "overflow": null,
            "overflow_x": null,
            "overflow_y": null,
            "padding": null,
            "right": null,
            "top": null,
            "visibility": null,
            "width": null
          }
        },
        "7b0e8f2307564400a37cb1575dc033b3": {
          "model_module": "@jupyter-widgets/controls",
          "model_module_version": "1.5.0",
          "model_name": "HTMLModel",
          "state": {
            "_dom_classes": [],
            "_model_module": "@jupyter-widgets/controls",
            "_model_module_version": "1.5.0",
            "_model_name": "HTMLModel",
            "_view_count": null,
            "_view_module": "@jupyter-widgets/controls",
            "_view_module_version": "1.5.0",
            "_view_name": "HTMLView",
            "description": "",
            "description_tooltip": null,
            "layout": "IPY_MODEL_b363a9ac47d1444eb56e07f58223bba1",
            "placeholder": "​",
            "style": "IPY_MODEL_5badf39b35814908901e51174ff2616d",
            "value": "Creating parquet from Arrow format: 100%"
          }
        },
        "7fc5751cb63b47149cc575d7d249d2ec": {
          "model_module": "@jupyter-widgets/base",
          "model_module_version": "1.2.0",
          "model_name": "LayoutModel",
          "state": {
            "_model_module": "@jupyter-widgets/base",
            "_model_module_version": "1.2.0",
            "_model_name": "LayoutModel",
            "_view_count": null,
            "_view_module": "@jupyter-widgets/base",
            "_view_module_version": "1.2.0",
            "_view_name": "LayoutView",
            "align_content": null,
            "align_items": null,
            "align_self": null,
            "border": null,
            "bottom": null,
            "display": null,
            "flex": null,
            "flex_flow": null,
            "grid_area": null,
            "grid_auto_columns": null,
            "grid_auto_flow": null,
            "grid_auto_rows": null,
            "grid_column": null,
            "grid_gap": null,
            "grid_row": null,
            "grid_template_areas": null,
            "grid_template_columns": null,
            "grid_template_rows": null,
            "height": null,
            "justify_content": null,
            "justify_items": null,
            "left": null,
            "margin": null,
            "max_height": null,
            "max_width": null,
            "min_height": null,
            "min_width": null,
            "object_fit": null,
            "object_position": null,
            "order": null,
            "overflow": null,
            "overflow_x": null,
            "overflow_y": null,
            "padding": null,
            "right": null,
            "top": null,
            "visibility": null,
            "width": null
          }
        },
        "7fdfcf6b50fe48b78b43cf88eb8b3034": {
          "model_module": "@jupyter-widgets/controls",
          "model_module_version": "1.5.0",
          "model_name": "DescriptionStyleModel",
          "state": {
            "_model_module": "@jupyter-widgets/controls",
            "_model_module_version": "1.5.0",
            "_model_name": "DescriptionStyleModel",
            "_view_count": null,
            "_view_module": "@jupyter-widgets/base",
            "_view_module_version": "1.2.0",
            "_view_name": "StyleView",
            "description_width": ""
          }
        },
        "853f5f6839c94f7cad42ac52318acd32": {
          "model_module": "@jupyter-widgets/controls",
          "model_module_version": "1.5.0",
          "model_name": "HTMLModel",
          "state": {
            "_dom_classes": [],
            "_model_module": "@jupyter-widgets/controls",
            "_model_module_version": "1.5.0",
            "_model_name": "HTMLModel",
            "_view_count": null,
            "_view_module": "@jupyter-widgets/controls",
            "_view_module_version": "1.5.0",
            "_view_name": "HTMLView",
            "description": "",
            "description_tooltip": null,
            "layout": "IPY_MODEL_34a2f264f9d04431aac50f135c12745b",
            "placeholder": "​",
            "style": "IPY_MODEL_096b0871a326484cab325d430a865008",
            "value": " 249/249 [00:00&lt;00:00, 401.15 examples/s]"
          }
        },
        "8555e79a5b67478a9534451dd01243f2": {
          "model_module": "@jupyter-widgets/base",
          "model_module_version": "1.2.0",
          "model_name": "LayoutModel",
          "state": {
            "_model_module": "@jupyter-widgets/base",
            "_model_module_version": "1.2.0",
            "_model_name": "LayoutModel",
            "_view_count": null,
            "_view_module": "@jupyter-widgets/base",
            "_view_module_version": "1.2.0",
            "_view_name": "LayoutView",
            "align_content": null,
            "align_items": null,
            "align_self": null,
            "border": null,
            "bottom": null,
            "display": null,
            "flex": null,
            "flex_flow": null,
            "grid_area": null,
            "grid_auto_columns": null,
            "grid_auto_flow": null,
            "grid_auto_rows": null,
            "grid_column": null,
            "grid_gap": null,
            "grid_row": null,
            "grid_template_areas": null,
            "grid_template_columns": null,
            "grid_template_rows": null,
            "height": null,
            "justify_content": null,
            "justify_items": null,
            "left": null,
            "margin": null,
            "max_height": null,
            "max_width": null,
            "min_height": null,
            "min_width": null,
            "object_fit": null,
            "object_position": null,
            "order": null,
            "overflow": null,
            "overflow_x": null,
            "overflow_y": null,
            "padding": null,
            "right": null,
            "top": null,
            "visibility": null,
            "width": null
          }
        },
        "87b2535cbd5245b488d8bb3c69ad7ecf": {
          "model_module": "@jupyter-widgets/controls",
          "model_module_version": "1.5.0",
          "model_name": "HBoxModel",
          "state": {
            "_dom_classes": [],
            "_model_module": "@jupyter-widgets/controls",
            "_model_module_version": "1.5.0",
            "_model_name": "HBoxModel",
            "_view_count": null,
            "_view_module": "@jupyter-widgets/controls",
            "_view_module_version": "1.5.0",
            "_view_name": "HBoxView",
            "box_style": "",
            "children": [
              "IPY_MODEL_7b0e8f2307564400a37cb1575dc033b3",
              "IPY_MODEL_67cd713835134c9ea691e5e39c3a7d42",
              "IPY_MODEL_4e816280dc4b4782ab068cc402bd90df"
            ],
            "layout": "IPY_MODEL_5d6eee2ab7ce4cf6a1e02f9b36b7ca23"
          }
        },
        "89e1c81f357d4099b3b49904adf1e71d": {
          "model_module": "@jupyter-widgets/controls",
          "model_module_version": "1.5.0",
          "model_name": "DescriptionStyleModel",
          "state": {
            "_model_module": "@jupyter-widgets/controls",
            "_model_module_version": "1.5.0",
            "_model_name": "DescriptionStyleModel",
            "_view_count": null,
            "_view_module": "@jupyter-widgets/base",
            "_view_module_version": "1.2.0",
            "_view_name": "StyleView",
            "description_width": ""
          }
        },
        "8a320172c70348308dc1ef3d70f9a536": {
          "model_module": "@jupyter-widgets/controls",
          "model_module_version": "1.5.0",
          "model_name": "HTMLModel",
          "state": {
            "_dom_classes": [],
            "_model_module": "@jupyter-widgets/controls",
            "_model_module_version": "1.5.0",
            "_model_name": "HTMLModel",
            "_view_count": null,
            "_view_module": "@jupyter-widgets/controls",
            "_view_module_version": "1.5.0",
            "_view_name": "HTMLView",
            "description": "",
            "description_tooltip": null,
            "layout": "IPY_MODEL_29296953f3284c69b45b1f55848ef31c",
            "placeholder": "​",
            "style": "IPY_MODEL_c6e6420e23c844799e5e406877ffb0a4",
            "value": " 1/1 [00:01&lt;00:00,  1.02s/it]"
          }
        },
        "8a8d8ea7695445929669b8f227ce1ad8": {
          "model_module": "@jupyter-widgets/base",
          "model_module_version": "1.2.0",
          "model_name": "LayoutModel",
          "state": {
            "_model_module": "@jupyter-widgets/base",
            "_model_module_version": "1.2.0",
            "_model_name": "LayoutModel",
            "_view_count": null,
            "_view_module": "@jupyter-widgets/base",
            "_view_module_version": "1.2.0",
            "_view_name": "LayoutView",
            "align_content": null,
            "align_items": null,
            "align_self": null,
            "border": null,
            "bottom": null,
            "display": null,
            "flex": null,
            "flex_flow": null,
            "grid_area": null,
            "grid_auto_columns": null,
            "grid_auto_flow": null,
            "grid_auto_rows": null,
            "grid_column": null,
            "grid_gap": null,
            "grid_row": null,
            "grid_template_areas": null,
            "grid_template_columns": null,
            "grid_template_rows": null,
            "height": null,
            "justify_content": null,
            "justify_items": null,
            "left": null,
            "margin": null,
            "max_height": null,
            "max_width": null,
            "min_height": null,
            "min_width": null,
            "object_fit": null,
            "object_position": null,
            "order": null,
            "overflow": null,
            "overflow_x": null,
            "overflow_y": null,
            "padding": null,
            "right": null,
            "top": null,
            "visibility": null,
            "width": null
          }
        },
        "8b0af365637f421c8700bf4c4eab5aa6": {
          "model_module": "@jupyter-widgets/controls",
          "model_module_version": "1.5.0",
          "model_name": "DescriptionStyleModel",
          "state": {
            "_model_module": "@jupyter-widgets/controls",
            "_model_module_version": "1.5.0",
            "_model_name": "DescriptionStyleModel",
            "_view_count": null,
            "_view_module": "@jupyter-widgets/base",
            "_view_module_version": "1.2.0",
            "_view_name": "StyleView",
            "description_width": ""
          }
        },
        "90ab8ac800ff421ba6597e76185d01d4": {
          "model_module": "@jupyter-widgets/controls",
          "model_module_version": "1.5.0",
          "model_name": "HBoxModel",
          "state": {
            "_dom_classes": [],
            "_model_module": "@jupyter-widgets/controls",
            "_model_module_version": "1.5.0",
            "_model_name": "HBoxModel",
            "_view_count": null,
            "_view_module": "@jupyter-widgets/controls",
            "_view_module_version": "1.5.0",
            "_view_name": "HBoxView",
            "box_style": "",
            "children": [
              "IPY_MODEL_5ec84b5d000643a98d03df1a8dd24714",
              "IPY_MODEL_c9886114ce554ca89e6bf9ca53468d81",
              "IPY_MODEL_a02fc291c63b499fa3c813c33bfa9feb"
            ],
            "layout": "IPY_MODEL_e3958ed24ede4f4da7dd764c8eaf9f94"
          }
        },
        "915324a01a2b4092a39db137a32a47ac": {
          "model_module": "@jupyter-widgets/controls",
          "model_module_version": "1.5.0",
          "model_name": "FloatProgressModel",
          "state": {
            "_dom_classes": [],
            "_model_module": "@jupyter-widgets/controls",
            "_model_module_version": "1.5.0",
            "_model_name": "FloatProgressModel",
            "_view_count": null,
            "_view_module": "@jupyter-widgets/controls",
            "_view_module_version": "1.5.0",
            "_view_name": "ProgressView",
            "bar_style": "success",
            "description": "",
            "description_tooltip": null,
            "layout": "IPY_MODEL_1b9c08fb141a43a4841c6eb614f232d7",
            "max": 1987,
            "min": 0,
            "orientation": "horizontal",
            "style": "IPY_MODEL_d1360cb1de744d1691d09f969a02d193",
            "value": 1987
          }
        },
        "93f9f96fd5584ba29f1caefea844c79f": {
          "model_module": "@jupyter-widgets/controls",
          "model_module_version": "1.5.0",
          "model_name": "FloatProgressModel",
          "state": {
            "_dom_classes": [],
            "_model_module": "@jupyter-widgets/controls",
            "_model_module_version": "1.5.0",
            "_model_name": "FloatProgressModel",
            "_view_count": null,
            "_view_module": "@jupyter-widgets/controls",
            "_view_module_version": "1.5.0",
            "_view_name": "ProgressView",
            "bar_style": "success",
            "description": "",
            "description_tooltip": null,
            "layout": "IPY_MODEL_d29ab2712229490e89661194c10cf577",
            "max": 1,
            "min": 0,
            "orientation": "horizontal",
            "style": "IPY_MODEL_7a9e49b43dd042cebe2b0ae4cdf9b0e5",
            "value": 1
          }
        },
        "9c0fcdfe9fba493cba5b09c07b262b41": {
          "model_module": "@jupyter-widgets/base",
          "model_module_version": "1.2.0",
          "model_name": "LayoutModel",
          "state": {
            "_model_module": "@jupyter-widgets/base",
            "_model_module_version": "1.2.0",
            "_model_name": "LayoutModel",
            "_view_count": null,
            "_view_module": "@jupyter-widgets/base",
            "_view_module_version": "1.2.0",
            "_view_name": "LayoutView",
            "align_content": null,
            "align_items": null,
            "align_self": null,
            "border": null,
            "bottom": null,
            "display": null,
            "flex": null,
            "flex_flow": null,
            "grid_area": null,
            "grid_auto_columns": null,
            "grid_auto_flow": null,
            "grid_auto_rows": null,
            "grid_column": null,
            "grid_gap": null,
            "grid_row": null,
            "grid_template_areas": null,
            "grid_template_columns": null,
            "grid_template_rows": null,
            "height": null,
            "justify_content": null,
            "justify_items": null,
            "left": null,
            "margin": null,
            "max_height": null,
            "max_width": null,
            "min_height": null,
            "min_width": null,
            "object_fit": null,
            "object_position": null,
            "order": null,
            "overflow": null,
            "overflow_x": null,
            "overflow_y": null,
            "padding": null,
            "right": null,
            "top": null,
            "visibility": null,
            "width": null
          }
        },
        "a02fc291c63b499fa3c813c33bfa9feb": {
          "model_module": "@jupyter-widgets/controls",
          "model_module_version": "1.5.0",
          "model_name": "HTMLModel",
          "state": {
            "_dom_classes": [],
            "_model_module": "@jupyter-widgets/controls",
            "_model_module_version": "1.5.0",
            "_model_name": "HTMLModel",
            "_view_count": null,
            "_view_module": "@jupyter-widgets/controls",
            "_view_module_version": "1.5.0",
            "_view_name": "HTMLView",
            "description": "",
            "description_tooltip": null,
            "layout": "IPY_MODEL_c8347fa9c1ec4a9497cd1378be2fd249",
            "placeholder": "​",
            "style": "IPY_MODEL_aa06dfe488924df8bc36b2faf0ced141",
            "value": " 1/1 [00:01&lt;00:00,  1.24s/it]"
          }
        },
        "a46bd5db328d48deaee8ef16291cfe49": {
          "model_module": "@jupyter-widgets/controls",
          "model_module_version": "1.5.0",
          "model_name": "DescriptionStyleModel",
          "state": {
            "_model_module": "@jupyter-widgets/controls",
            "_model_module_version": "1.5.0",
            "_model_name": "DescriptionStyleModel",
            "_view_count": null,
            "_view_module": "@jupyter-widgets/base",
            "_view_module_version": "1.2.0",
            "_view_name": "StyleView",
            "description_width": ""
          }
        },
        "a7571355cd6c4aa2b1b3a76443d7afe4": {
          "model_module": "@jupyter-widgets/controls",
          "model_module_version": "1.5.0",
          "model_name": "DescriptionStyleModel",
          "state": {
            "_model_module": "@jupyter-widgets/controls",
            "_model_module_version": "1.5.0",
            "_model_name": "DescriptionStyleModel",
            "_view_count": null,
            "_view_module": "@jupyter-widgets/base",
            "_view_module_version": "1.2.0",
            "_view_name": "StyleView",
            "description_width": ""
          }
        },
        "a9f86853e48644d5955174291408f130": {
          "model_module": "@jupyter-widgets/base",
          "model_module_version": "1.2.0",
          "model_name": "LayoutModel",
          "state": {
            "_model_module": "@jupyter-widgets/base",
            "_model_module_version": "1.2.0",
            "_model_name": "LayoutModel",
            "_view_count": null,
            "_view_module": "@jupyter-widgets/base",
            "_view_module_version": "1.2.0",
            "_view_name": "LayoutView",
            "align_content": null,
            "align_items": null,
            "align_self": null,
            "border": null,
            "bottom": null,
            "display": null,
            "flex": null,
            "flex_flow": null,
            "grid_area": null,
            "grid_auto_columns": null,
            "grid_auto_flow": null,
            "grid_auto_rows": null,
            "grid_column": null,
            "grid_gap": null,
            "grid_row": null,
            "grid_template_areas": null,
            "grid_template_columns": null,
            "grid_template_rows": null,
            "height": null,
            "justify_content": null,
            "justify_items": null,
            "left": null,
            "margin": null,
            "max_height": null,
            "max_width": null,
            "min_height": null,
            "min_width": null,
            "object_fit": null,
            "object_position": null,
            "order": null,
            "overflow": null,
            "overflow_x": null,
            "overflow_y": null,
            "padding": null,
            "right": null,
            "top": null,
            "visibility": null,
            "width": null
          }
        },
        "aa06dfe488924df8bc36b2faf0ced141": {
          "model_module": "@jupyter-widgets/controls",
          "model_module_version": "1.5.0",
          "model_name": "DescriptionStyleModel",
          "state": {
            "_model_module": "@jupyter-widgets/controls",
            "_model_module_version": "1.5.0",
            "_model_name": "DescriptionStyleModel",
            "_view_count": null,
            "_view_module": "@jupyter-widgets/base",
            "_view_module_version": "1.2.0",
            "_view_name": "StyleView",
            "description_width": ""
          }
        },
        "aa4081e694f84fcd80151b0614fcf6b6": {
          "model_module": "@jupyter-widgets/controls",
          "model_module_version": "1.5.0",
          "model_name": "HTMLModel",
          "state": {
            "_dom_classes": [],
            "_model_module": "@jupyter-widgets/controls",
            "_model_module_version": "1.5.0",
            "_model_name": "HTMLModel",
            "_view_count": null,
            "_view_module": "@jupyter-widgets/controls",
            "_view_module_version": "1.5.0",
            "_view_name": "HTMLView",
            "description": "",
            "description_tooltip": null,
            "layout": "IPY_MODEL_eb784ef5f7c74133bc84ad83ec44475e",
            "placeholder": "​",
            "style": "IPY_MODEL_d9395ca4fa064484af7f4659df43e8fe",
            "value": "Map: 100%"
          }
        },
        "ae6d82e7e18f44c4b22f66c7f51f3449": {
          "model_module": "@jupyter-widgets/base",
          "model_module_version": "1.2.0",
          "model_name": "LayoutModel",
          "state": {
            "_model_module": "@jupyter-widgets/base",
            "_model_module_version": "1.2.0",
            "_model_name": "LayoutModel",
            "_view_count": null,
            "_view_module": "@jupyter-widgets/base",
            "_view_module_version": "1.2.0",
            "_view_name": "LayoutView",
            "align_content": null,
            "align_items": null,
            "align_self": null,
            "border": null,
            "bottom": null,
            "display": null,
            "flex": null,
            "flex_flow": null,
            "grid_area": null,
            "grid_auto_columns": null,
            "grid_auto_flow": null,
            "grid_auto_rows": null,
            "grid_column": null,
            "grid_gap": null,
            "grid_row": null,
            "grid_template_areas": null,
            "grid_template_columns": null,
            "grid_template_rows": null,
            "height": null,
            "justify_content": null,
            "justify_items": null,
            "left": null,
            "margin": null,
            "max_height": null,
            "max_width": null,
            "min_height": null,
            "min_width": null,
            "object_fit": null,
            "object_position": null,
            "order": null,
            "overflow": null,
            "overflow_x": null,
            "overflow_y": null,
            "padding": null,
            "right": null,
            "top": null,
            "visibility": null,
            "width": null
          }
        },
        "b363a9ac47d1444eb56e07f58223bba1": {
          "model_module": "@jupyter-widgets/base",
          "model_module_version": "1.2.0",
          "model_name": "LayoutModel",
          "state": {
            "_model_module": "@jupyter-widgets/base",
            "_model_module_version": "1.2.0",
            "_model_name": "LayoutModel",
            "_view_count": null,
            "_view_module": "@jupyter-widgets/base",
            "_view_module_version": "1.2.0",
            "_view_name": "LayoutView",
            "align_content": null,
            "align_items": null,
            "align_self": null,
            "border": null,
            "bottom": null,
            "display": null,
            "flex": null,
            "flex_flow": null,
            "grid_area": null,
            "grid_auto_columns": null,
            "grid_auto_flow": null,
            "grid_auto_rows": null,
            "grid_column": null,
            "grid_gap": null,
            "grid_row": null,
            "grid_template_areas": null,
            "grid_template_columns": null,
            "grid_template_rows": null,
            "height": null,
            "justify_content": null,
            "justify_items": null,
            "left": null,
            "margin": null,
            "max_height": null,
            "max_width": null,
            "min_height": null,
            "min_width": null,
            "object_fit": null,
            "object_position": null,
            "order": null,
            "overflow": null,
            "overflow_x": null,
            "overflow_y": null,
            "padding": null,
            "right": null,
            "top": null,
            "visibility": null,
            "width": null
          }
        },
        "b6cfc7ed953e421687ff71269cf109b8": {
          "model_module": "@jupyter-widgets/controls",
          "model_module_version": "1.5.0",
          "model_name": "HTMLModel",
          "state": {
            "_dom_classes": [],
            "_model_module": "@jupyter-widgets/controls",
            "_model_module_version": "1.5.0",
            "_model_name": "HTMLModel",
            "_view_count": null,
            "_view_module": "@jupyter-widgets/controls",
            "_view_module_version": "1.5.0",
            "_view_name": "HTMLView",
            "description": "",
            "description_tooltip": null,
            "layout": "IPY_MODEL_9c0fcdfe9fba493cba5b09c07b262b41",
            "placeholder": "​",
            "style": "IPY_MODEL_2fe95d01b349442d92e311824e93ecb9",
            "value": "Map: 100%"
          }
        },
        "b71bb2e27d97462a8bd0e57254622362": {
          "model_module": "@jupyter-widgets/base",
          "model_module_version": "1.2.0",
          "model_name": "LayoutModel",
          "state": {
            "_model_module": "@jupyter-widgets/base",
            "_model_module_version": "1.2.0",
            "_model_name": "LayoutModel",
            "_view_count": null,
            "_view_module": "@jupyter-widgets/base",
            "_view_module_version": "1.2.0",
            "_view_name": "LayoutView",
            "align_content": null,
            "align_items": null,
            "align_self": null,
            "border": null,
            "bottom": null,
            "display": null,
            "flex": null,
            "flex_flow": null,
            "grid_area": null,
            "grid_auto_columns": null,
            "grid_auto_flow": null,
            "grid_auto_rows": null,
            "grid_column": null,
            "grid_gap": null,
            "grid_row": null,
            "grid_template_areas": null,
            "grid_template_columns": null,
            "grid_template_rows": null,
            "height": null,
            "justify_content": null,
            "justify_items": null,
            "left": null,
            "margin": null,
            "max_height": null,
            "max_width": null,
            "min_height": null,
            "min_width": null,
            "object_fit": null,
            "object_position": null,
            "order": null,
            "overflow": null,
            "overflow_x": null,
            "overflow_y": null,
            "padding": null,
            "right": null,
            "top": null,
            "visibility": null,
            "width": null
          }
        },
        "c1c800c132064121bde15f8efad8a962": {
          "model_module": "@jupyter-widgets/controls",
          "model_module_version": "1.5.0",
          "model_name": "HTMLModel",
          "state": {
            "_dom_classes": [],
            "_model_module": "@jupyter-widgets/controls",
            "_model_module_version": "1.5.0",
            "_model_name": "HTMLModel",
            "_view_count": null,
            "_view_module": "@jupyter-widgets/controls",
            "_view_module_version": "1.5.0",
            "_view_name": "HTMLView",
            "description": "",
            "description_tooltip": null,
            "layout": "IPY_MODEL_b71bb2e27d97462a8bd0e57254622362",
            "placeholder": "​",
            "style": "IPY_MODEL_7fdfcf6b50fe48b78b43cf88eb8b3034",
            "value": "Creating parquet from Arrow format: 100%"
          }
        },
        "c4c4bf95d24a43b29c04967a14e5d03b": {
          "model_module": "@jupyter-widgets/base",
          "model_module_version": "1.2.0",
          "model_name": "LayoutModel",
          "state": {
            "_model_module": "@jupyter-widgets/base",
            "_model_module_version": "1.2.0",
            "_model_name": "LayoutModel",
            "_view_count": null,
            "_view_module": "@jupyter-widgets/base",
            "_view_module_version": "1.2.0",
            "_view_name": "LayoutView",
            "align_content": null,
            "align_items": null,
            "align_self": null,
            "border": null,
            "bottom": null,
            "display": null,
            "flex": null,
            "flex_flow": null,
            "grid_area": null,
            "grid_auto_columns": null,
            "grid_auto_flow": null,
            "grid_auto_rows": null,
            "grid_column": null,
            "grid_gap": null,
            "grid_row": null,
            "grid_template_areas": null,
            "grid_template_columns": null,
            "grid_template_rows": null,
            "height": null,
            "justify_content": null,
            "justify_items": null,
            "left": null,
            "margin": null,
            "max_height": null,
            "max_width": null,
            "min_height": null,
            "min_width": null,
            "object_fit": null,
            "object_position": null,
            "order": null,
            "overflow": null,
            "overflow_x": null,
            "overflow_y": null,
            "padding": null,
            "right": null,
            "top": null,
            "visibility": null,
            "width": null
          }
        },
        "c584e916e4074ef98fba60c5574b59f9": {
          "model_module": "@jupyter-widgets/base",
          "model_module_version": "1.2.0",
          "model_name": "LayoutModel",
          "state": {
            "_model_module": "@jupyter-widgets/base",
            "_model_module_version": "1.2.0",
            "_model_name": "LayoutModel",
            "_view_count": null,
            "_view_module": "@jupyter-widgets/base",
            "_view_module_version": "1.2.0",
            "_view_name": "LayoutView",
            "align_content": null,
            "align_items": null,
            "align_self": null,
            "border": null,
            "bottom": null,
            "display": null,
            "flex": null,
            "flex_flow": null,
            "grid_area": null,
            "grid_auto_columns": null,
            "grid_auto_flow": null,
            "grid_auto_rows": null,
            "grid_column": null,
            "grid_gap": null,
            "grid_row": null,
            "grid_template_areas": null,
            "grid_template_columns": null,
            "grid_template_rows": null,
            "height": null,
            "justify_content": null,
            "justify_items": null,
            "left": null,
            "margin": null,
            "max_height": null,
            "max_width": null,
            "min_height": null,
            "min_width": null,
            "object_fit": null,
            "object_position": null,
            "order": null,
            "overflow": null,
            "overflow_x": null,
            "overflow_y": null,
            "padding": null,
            "right": null,
            "top": null,
            "visibility": null,
            "width": null
          }
        },
        "c6e6420e23c844799e5e406877ffb0a4": {
          "model_module": "@jupyter-widgets/controls",
          "model_module_version": "1.5.0",
          "model_name": "DescriptionStyleModel",
          "state": {
            "_model_module": "@jupyter-widgets/controls",
            "_model_module_version": "1.5.0",
            "_model_name": "DescriptionStyleModel",
            "_view_count": null,
            "_view_module": "@jupyter-widgets/base",
            "_view_module_version": "1.2.0",
            "_view_name": "StyleView",
            "description_width": ""
          }
        },
        "c8347fa9c1ec4a9497cd1378be2fd249": {
          "model_module": "@jupyter-widgets/base",
          "model_module_version": "1.2.0",
          "model_name": "LayoutModel",
          "state": {
            "_model_module": "@jupyter-widgets/base",
            "_model_module_version": "1.2.0",
            "_model_name": "LayoutModel",
            "_view_count": null,
            "_view_module": "@jupyter-widgets/base",
            "_view_module_version": "1.2.0",
            "_view_name": "LayoutView",
            "align_content": null,
            "align_items": null,
            "align_self": null,
            "border": null,
            "bottom": null,
            "display": null,
            "flex": null,
            "flex_flow": null,
            "grid_area": null,
            "grid_auto_columns": null,
            "grid_auto_flow": null,
            "grid_auto_rows": null,
            "grid_column": null,
            "grid_gap": null,
            "grid_row": null,
            "grid_template_areas": null,
            "grid_template_columns": null,
            "grid_template_rows": null,
            "height": null,
            "justify_content": null,
            "justify_items": null,
            "left": null,
            "margin": null,
            "max_height": null,
            "max_width": null,
            "min_height": null,
            "min_width": null,
            "object_fit": null,
            "object_position": null,
            "order": null,
            "overflow": null,
            "overflow_x": null,
            "overflow_y": null,
            "padding": null,
            "right": null,
            "top": null,
            "visibility": null,
            "width": null
          }
        },
        "c9886114ce554ca89e6bf9ca53468d81": {
          "model_module": "@jupyter-widgets/controls",
          "model_module_version": "1.5.0",
          "model_name": "FloatProgressModel",
          "state": {
            "_dom_classes": [],
            "_model_module": "@jupyter-widgets/controls",
            "_model_module_version": "1.5.0",
            "_model_name": "FloatProgressModel",
            "_view_count": null,
            "_view_module": "@jupyter-widgets/controls",
            "_view_module_version": "1.5.0",
            "_view_name": "ProgressView",
            "bar_style": "success",
            "description": "",
            "description_tooltip": null,
            "layout": "IPY_MODEL_d3e5ced0e0a44b4b9bcf5f7d1d4862aa",
            "max": 1,
            "min": 0,
            "orientation": "horizontal",
            "style": "IPY_MODEL_1cd6c6c76e53488089ce8e904c93355d",
            "value": 1
          }
        },
        "cb2aa5fdeb764d429cca9ed43d2b81e1": {
          "model_module": "@jupyter-widgets/base",
          "model_module_version": "1.2.0",
          "model_name": "LayoutModel",
          "state": {
            "_model_module": "@jupyter-widgets/base",
            "_model_module_version": "1.2.0",
            "_model_name": "LayoutModel",
            "_view_count": null,
            "_view_module": "@jupyter-widgets/base",
            "_view_module_version": "1.2.0",
            "_view_name": "LayoutView",
            "align_content": null,
            "align_items": null,
            "align_self": null,
            "border": null,
            "bottom": null,
            "display": null,
            "flex": null,
            "flex_flow": null,
            "grid_area": null,
            "grid_auto_columns": null,
            "grid_auto_flow": null,
            "grid_auto_rows": null,
            "grid_column": null,
            "grid_gap": null,
            "grid_row": null,
            "grid_template_areas": null,
            "grid_template_columns": null,
            "grid_template_rows": null,
            "height": null,
            "justify_content": null,
            "justify_items": null,
            "left": null,
            "margin": null,
            "max_height": null,
            "max_width": null,
            "min_height": null,
            "min_width": null,
            "object_fit": null,
            "object_position": null,
            "order": null,
            "overflow": null,
            "overflow_x": null,
            "overflow_y": null,
            "padding": null,
            "right": null,
            "top": null,
            "visibility": null,
            "width": null
          }
        },
        "cd94c3f0268844159a89030b57c3746b": {
          "model_module": "@jupyter-widgets/controls",
          "model_module_version": "1.5.0",
          "model_name": "FloatProgressModel",
          "state": {
            "_dom_classes": [],
            "_model_module": "@jupyter-widgets/controls",
            "_model_module_version": "1.5.0",
            "_model_name": "FloatProgressModel",
            "_view_count": null,
            "_view_module": "@jupyter-widgets/controls",
            "_view_module_version": "1.5.0",
            "_view_name": "ProgressView",
            "bar_style": "success",
            "description": "",
            "description_tooltip": null,
            "layout": "IPY_MODEL_1318d70e7c2f4a55b38c15d9aaab4374",
            "max": 1,
            "min": 0,
            "orientation": "horizontal",
            "style": "IPY_MODEL_ed34b2aa3f6547158db8833282dd6709",
            "value": 1
          }
        },
        "d1360cb1de744d1691d09f969a02d193": {
          "model_module": "@jupyter-widgets/controls",
          "model_module_version": "1.5.0",
          "model_name": "ProgressStyleModel",
          "state": {
            "_model_module": "@jupyter-widgets/controls",
            "_model_module_version": "1.5.0",
            "_model_name": "ProgressStyleModel",
            "_view_count": null,
            "_view_module": "@jupyter-widgets/base",
            "_view_module_version": "1.2.0",
            "_view_name": "StyleView",
            "bar_color": null,
            "description_width": ""
          }
        },
        "d29ab2712229490e89661194c10cf577": {
          "model_module": "@jupyter-widgets/base",
          "model_module_version": "1.2.0",
          "model_name": "LayoutModel",
          "state": {
            "_model_module": "@jupyter-widgets/base",
            "_model_module_version": "1.2.0",
            "_model_name": "LayoutModel",
            "_view_count": null,
            "_view_module": "@jupyter-widgets/base",
            "_view_module_version": "1.2.0",
            "_view_name": "LayoutView",
            "align_content": null,
            "align_items": null,
            "align_self": null,
            "border": null,
            "bottom": null,
            "display": null,
            "flex": null,
            "flex_flow": null,
            "grid_area": null,
            "grid_auto_columns": null,
            "grid_auto_flow": null,
            "grid_auto_rows": null,
            "grid_column": null,
            "grid_gap": null,
            "grid_row": null,
            "grid_template_areas": null,
            "grid_template_columns": null,
            "grid_template_rows": null,
            "height": null,
            "justify_content": null,
            "justify_items": null,
            "left": null,
            "margin": null,
            "max_height": null,
            "max_width": null,
            "min_height": null,
            "min_width": null,
            "object_fit": null,
            "object_position": null,
            "order": null,
            "overflow": null,
            "overflow_x": null,
            "overflow_y": null,
            "padding": null,
            "right": null,
            "top": null,
            "visibility": null,
            "width": null
          }
        },
        "d349c75aff5449e4a1cb9bd81fef41a7": {
          "model_module": "@jupyter-widgets/controls",
          "model_module_version": "1.5.0",
          "model_name": "ProgressStyleModel",
          "state": {
            "_model_module": "@jupyter-widgets/controls",
            "_model_module_version": "1.5.0",
            "_model_name": "ProgressStyleModel",
            "_view_count": null,
            "_view_module": "@jupyter-widgets/base",
            "_view_module_version": "1.2.0",
            "_view_name": "StyleView",
            "bar_color": null,
            "description_width": ""
          }
        },
        "d3e5ced0e0a44b4b9bcf5f7d1d4862aa": {
          "model_module": "@jupyter-widgets/base",
          "model_module_version": "1.2.0",
          "model_name": "LayoutModel",
          "state": {
            "_model_module": "@jupyter-widgets/base",
            "_model_module_version": "1.2.0",
            "_model_name": "LayoutModel",
            "_view_count": null,
            "_view_module": "@jupyter-widgets/base",
            "_view_module_version": "1.2.0",
            "_view_name": "LayoutView",
            "align_content": null,
            "align_items": null,
            "align_self": null,
            "border": null,
            "bottom": null,
            "display": null,
            "flex": null,
            "flex_flow": null,
            "grid_area": null,
            "grid_auto_columns": null,
            "grid_auto_flow": null,
            "grid_auto_rows": null,
            "grid_column": null,
            "grid_gap": null,
            "grid_row": null,
            "grid_template_areas": null,
            "grid_template_columns": null,
            "grid_template_rows": null,
            "height": null,
            "justify_content": null,
            "justify_items": null,
            "left": null,
            "margin": null,
            "max_height": null,
            "max_width": null,
            "min_height": null,
            "min_width": null,
            "object_fit": null,
            "object_position": null,
            "order": null,
            "overflow": null,
            "overflow_x": null,
            "overflow_y": null,
            "padding": null,
            "right": null,
            "top": null,
            "visibility": null,
            "width": null
          }
        },
        "d9395ca4fa064484af7f4659df43e8fe": {
          "model_module": "@jupyter-widgets/controls",
          "model_module_version": "1.5.0",
          "model_name": "DescriptionStyleModel",
          "state": {
            "_model_module": "@jupyter-widgets/controls",
            "_model_module_version": "1.5.0",
            "_model_name": "DescriptionStyleModel",
            "_view_count": null,
            "_view_module": "@jupyter-widgets/base",
            "_view_module_version": "1.2.0",
            "_view_name": "StyleView",
            "description_width": ""
          }
        },
        "df7a995d901c452fad486380d02c1b07": {
          "model_module": "@jupyter-widgets/controls",
          "model_module_version": "1.5.0",
          "model_name": "HTMLModel",
          "state": {
            "_dom_classes": [],
            "_model_module": "@jupyter-widgets/controls",
            "_model_module_version": "1.5.0",
            "_model_name": "HTMLModel",
            "_view_count": null,
            "_view_module": "@jupyter-widgets/controls",
            "_view_module_version": "1.5.0",
            "_view_name": "HTMLView",
            "description": "",
            "description_tooltip": null,
            "layout": "IPY_MODEL_ec68dfd394a7432787daa84a6ee4b7a3",
            "placeholder": "​",
            "style": "IPY_MODEL_4fbb97fb5ad9478596323a1e76bda39a",
            "value": " 1/1 [00:00&lt;00:00,  1.33it/s]"
          }
        },
        "df999ad503f54690aeb8456244bdcaa3": {
          "model_module": "@jupyter-widgets/controls",
          "model_module_version": "1.5.0",
          "model_name": "DescriptionStyleModel",
          "state": {
            "_model_module": "@jupyter-widgets/controls",
            "_model_module_version": "1.5.0",
            "_model_name": "DescriptionStyleModel",
            "_view_count": null,
            "_view_module": "@jupyter-widgets/base",
            "_view_module_version": "1.2.0",
            "_view_name": "StyleView",
            "description_width": ""
          }
        },
        "e0aa4282b74a4e6bb37fec9850c475f7": {
          "model_module": "@jupyter-widgets/base",
          "model_module_version": "1.2.0",
          "model_name": "LayoutModel",
          "state": {
            "_model_module": "@jupyter-widgets/base",
            "_model_module_version": "1.2.0",
            "_model_name": "LayoutModel",
            "_view_count": null,
            "_view_module": "@jupyter-widgets/base",
            "_view_module_version": "1.2.0",
            "_view_name": "LayoutView",
            "align_content": null,
            "align_items": null,
            "align_self": null,
            "border": null,
            "bottom": null,
            "display": null,
            "flex": null,
            "flex_flow": null,
            "grid_area": null,
            "grid_auto_columns": null,
            "grid_auto_flow": null,
            "grid_auto_rows": null,
            "grid_column": null,
            "grid_gap": null,
            "grid_row": null,
            "grid_template_areas": null,
            "grid_template_columns": null,
            "grid_template_rows": null,
            "height": null,
            "justify_content": null,
            "justify_items": null,
            "left": null,
            "margin": null,
            "max_height": null,
            "max_width": null,
            "min_height": null,
            "min_width": null,
            "object_fit": null,
            "object_position": null,
            "order": null,
            "overflow": null,
            "overflow_x": null,
            "overflow_y": null,
            "padding": null,
            "right": null,
            "top": null,
            "visibility": null,
            "width": null
          }
        },
        "e1f0a627e27b4ecb9e783a214a67ee0e": {
          "model_module": "@jupyter-widgets/controls",
          "model_module_version": "1.5.0",
          "model_name": "HBoxModel",
          "state": {
            "_dom_classes": [],
            "_model_module": "@jupyter-widgets/controls",
            "_model_module_version": "1.5.0",
            "_model_name": "HBoxModel",
            "_view_count": null,
            "_view_module": "@jupyter-widgets/controls",
            "_view_module_version": "1.5.0",
            "_view_name": "HBoxView",
            "box_style": "",
            "children": [
              "IPY_MODEL_6115be477d134c54866d4f8cf0e4cc2e",
              "IPY_MODEL_628cc6944af948e98320c111b5021e3e",
              "IPY_MODEL_44ad058b91c3491bb713374f14f60c82"
            ],
            "layout": "IPY_MODEL_7ae654cc259841e6a5a5a08eb29ae851"
          }
        },
        "e290b188f828470495ce934a7ffd3c5d": {
          "model_module": "@jupyter-widgets/controls",
          "model_module_version": "1.5.0",
          "model_name": "FloatProgressModel",
          "state": {
            "_dom_classes": [],
            "_model_module": "@jupyter-widgets/controls",
            "_model_module_version": "1.5.0",
            "_model_name": "FloatProgressModel",
            "_view_count": null,
            "_view_module": "@jupyter-widgets/controls",
            "_view_module_version": "1.5.0",
            "_view_name": "ProgressView",
            "bar_style": "success",
            "description": "",
            "description_tooltip": null,
            "layout": "IPY_MODEL_691d9cdacccd47e58f6b0021777689e1",
            "max": 1,
            "min": 0,
            "orientation": "horizontal",
            "style": "IPY_MODEL_ebfc44dadf8446fbabb9c097a4382354",
            "value": 1
          }
        },
        "e3958ed24ede4f4da7dd764c8eaf9f94": {
          "model_module": "@jupyter-widgets/base",
          "model_module_version": "1.2.0",
          "model_name": "LayoutModel",
          "state": {
            "_model_module": "@jupyter-widgets/base",
            "_model_module_version": "1.2.0",
            "_model_name": "LayoutModel",
            "_view_count": null,
            "_view_module": "@jupyter-widgets/base",
            "_view_module_version": "1.2.0",
            "_view_name": "LayoutView",
            "align_content": null,
            "align_items": null,
            "align_self": null,
            "border": null,
            "bottom": null,
            "display": null,
            "flex": null,
            "flex_flow": null,
            "grid_area": null,
            "grid_auto_columns": null,
            "grid_auto_flow": null,
            "grid_auto_rows": null,
            "grid_column": null,
            "grid_gap": null,
            "grid_row": null,
            "grid_template_areas": null,
            "grid_template_columns": null,
            "grid_template_rows": null,
            "height": null,
            "justify_content": null,
            "justify_items": null,
            "left": null,
            "margin": null,
            "max_height": null,
            "max_width": null,
            "min_height": null,
            "min_width": null,
            "object_fit": null,
            "object_position": null,
            "order": null,
            "overflow": null,
            "overflow_x": null,
            "overflow_y": null,
            "padding": null,
            "right": null,
            "top": null,
            "visibility": null,
            "width": null
          }
        },
        "e47618240b2447789cb94d52e4c7f307": {
          "model_module": "@jupyter-widgets/controls",
          "model_module_version": "1.5.0",
          "model_name": "DescriptionStyleModel",
          "state": {
            "_model_module": "@jupyter-widgets/controls",
            "_model_module_version": "1.5.0",
            "_model_name": "DescriptionStyleModel",
            "_view_count": null,
            "_view_module": "@jupyter-widgets/base",
            "_view_module_version": "1.2.0",
            "_view_name": "StyleView",
            "description_width": ""
          }
        },
        "e963798587f04748ba9ccf12181b8644": {
          "model_module": "@jupyter-widgets/controls",
          "model_module_version": "1.5.0",
          "model_name": "HBoxModel",
          "state": {
            "_dom_classes": [],
            "_model_module": "@jupyter-widgets/controls",
            "_model_module_version": "1.5.0",
            "_model_name": "HBoxModel",
            "_view_count": null,
            "_view_module": "@jupyter-widgets/controls",
            "_view_module_version": "1.5.0",
            "_view_name": "HBoxView",
            "box_style": "",
            "children": [
              "IPY_MODEL_b6cfc7ed953e421687ff71269cf109b8",
              "IPY_MODEL_915324a01a2b4092a39db137a32a47ac",
              "IPY_MODEL_5dd0bfc39ee7470e833a70e36500ca08"
            ],
            "layout": "IPY_MODEL_466b74d6eaac444a93ff1f1f5eb9d071"
          }
        },
        "eb784ef5f7c74133bc84ad83ec44475e": {
          "model_module": "@jupyter-widgets/base",
          "model_module_version": "1.2.0",
          "model_name": "LayoutModel",
          "state": {
            "_model_module": "@jupyter-widgets/base",
            "_model_module_version": "1.2.0",
            "_model_name": "LayoutModel",
            "_view_count": null,
            "_view_module": "@jupyter-widgets/base",
            "_view_module_version": "1.2.0",
            "_view_name": "LayoutView",
            "align_content": null,
            "align_items": null,
            "align_self": null,
            "border": null,
            "bottom": null,
            "display": null,
            "flex": null,
            "flex_flow": null,
            "grid_area": null,
            "grid_auto_columns": null,
            "grid_auto_flow": null,
            "grid_auto_rows": null,
            "grid_column": null,
            "grid_gap": null,
            "grid_row": null,
            "grid_template_areas": null,
            "grid_template_columns": null,
            "grid_template_rows": null,
            "height": null,
            "justify_content": null,
            "justify_items": null,
            "left": null,
            "margin": null,
            "max_height": null,
            "max_width": null,
            "min_height": null,
            "min_width": null,
            "object_fit": null,
            "object_position": null,
            "order": null,
            "overflow": null,
            "overflow_x": null,
            "overflow_y": null,
            "padding": null,
            "right": null,
            "top": null,
            "visibility": null,
            "width": null
          }
        },
        "ebfc44dadf8446fbabb9c097a4382354": {
          "model_module": "@jupyter-widgets/controls",
          "model_module_version": "1.5.0",
          "model_name": "ProgressStyleModel",
          "state": {
            "_model_module": "@jupyter-widgets/controls",
            "_model_module_version": "1.5.0",
            "_model_name": "ProgressStyleModel",
            "_view_count": null,
            "_view_module": "@jupyter-widgets/base",
            "_view_module_version": "1.2.0",
            "_view_name": "StyleView",
            "bar_color": null,
            "description_width": ""
          }
        },
        "ec68dfd394a7432787daa84a6ee4b7a3": {
          "model_module": "@jupyter-widgets/base",
          "model_module_version": "1.2.0",
          "model_name": "LayoutModel",
          "state": {
            "_model_module": "@jupyter-widgets/base",
            "_model_module_version": "1.2.0",
            "_model_name": "LayoutModel",
            "_view_count": null,
            "_view_module": "@jupyter-widgets/base",
            "_view_module_version": "1.2.0",
            "_view_name": "LayoutView",
            "align_content": null,
            "align_items": null,
            "align_self": null,
            "border": null,
            "bottom": null,
            "display": null,
            "flex": null,
            "flex_flow": null,
            "grid_area": null,
            "grid_auto_columns": null,
            "grid_auto_flow": null,
            "grid_auto_rows": null,
            "grid_column": null,
            "grid_gap": null,
            "grid_row": null,
            "grid_template_areas": null,
            "grid_template_columns": null,
            "grid_template_rows": null,
            "height": null,
            "justify_content": null,
            "justify_items": null,
            "left": null,
            "margin": null,
            "max_height": null,
            "max_width": null,
            "min_height": null,
            "min_width": null,
            "object_fit": null,
            "object_position": null,
            "order": null,
            "overflow": null,
            "overflow_x": null,
            "overflow_y": null,
            "padding": null,
            "right": null,
            "top": null,
            "visibility": null,
            "width": null
          }
        },
        "ed34b2aa3f6547158db8833282dd6709": {
          "model_module": "@jupyter-widgets/controls",
          "model_module_version": "1.5.0",
          "model_name": "ProgressStyleModel",
          "state": {
            "_model_module": "@jupyter-widgets/controls",
            "_model_module_version": "1.5.0",
            "_model_name": "ProgressStyleModel",
            "_view_count": null,
            "_view_module": "@jupyter-widgets/base",
            "_view_module_version": "1.2.0",
            "_view_name": "StyleView",
            "bar_color": null,
            "description_width": ""
          }
        },
        "f1c7a677f65348a6aebcbe305d3b0b90": {
          "model_module": "@jupyter-widgets/controls",
          "model_module_version": "1.5.0",
          "model_name": "HBoxModel",
          "state": {
            "_dom_classes": [],
            "_model_module": "@jupyter-widgets/controls",
            "_model_module_version": "1.5.0",
            "_model_name": "HBoxModel",
            "_view_count": null,
            "_view_module": "@jupyter-widgets/controls",
            "_view_module_version": "1.5.0",
            "_view_name": "HBoxView",
            "box_style": "",
            "children": [
              "IPY_MODEL_2897c32c6886481aae4b0944dfb09cd0",
              "IPY_MODEL_cd94c3f0268844159a89030b57c3746b",
              "IPY_MODEL_8a320172c70348308dc1ef3d70f9a536"
            ],
            "layout": "IPY_MODEL_5ef3053036f9486fb1fd2154af0b631a"
          }
        },
        "f4c82dd8da244185bcaff13be6a00eeb": {
          "model_module": "@jupyter-widgets/controls",
          "model_module_version": "1.5.0",
          "model_name": "ProgressStyleModel",
          "state": {
            "_model_module": "@jupyter-widgets/controls",
            "_model_module_version": "1.5.0",
            "_model_name": "ProgressStyleModel",
            "_view_count": null,
            "_view_module": "@jupyter-widgets/base",
            "_view_module_version": "1.2.0",
            "_view_name": "StyleView",
            "bar_color": null,
            "description_width": ""
          }
        },
        "f52b966388714d158207ac3b82e2be97": {
          "model_module": "@jupyter-widgets/controls",
          "model_module_version": "1.5.0",
          "model_name": "HBoxModel",
          "state": {
            "_dom_classes": [],
            "_model_module": "@jupyter-widgets/controls",
            "_model_module_version": "1.5.0",
            "_model_name": "HBoxModel",
            "_view_count": null,
            "_view_module": "@jupyter-widgets/controls",
            "_view_module_version": "1.5.0",
            "_view_name": "HBoxView",
            "box_style": "",
            "children": [
              "IPY_MODEL_c1c800c132064121bde15f8efad8a962",
              "IPY_MODEL_e290b188f828470495ce934a7ffd3c5d",
              "IPY_MODEL_582950832c10469b8e86ac6249df4617"
            ],
            "layout": "IPY_MODEL_2acd1e4dfab54a0f9b28689ad979bda4"
          }
        },
        "f8e52c03f4c346cf9cb6b09185eb8961": {
          "model_module": "@jupyter-widgets/controls",
          "model_module_version": "1.5.0",
          "model_name": "HBoxModel",
          "state": {
            "_dom_classes": [],
            "_model_module": "@jupyter-widgets/controls",
            "_model_module_version": "1.5.0",
            "_model_name": "HBoxModel",
            "_view_count": null,
            "_view_module": "@jupyter-widgets/controls",
            "_view_module_version": "1.5.0",
            "_view_name": "HBoxView",
            "box_style": "",
            "children": [
              "IPY_MODEL_1e690fb391f44cfc94d04581f61c5695",
              "IPY_MODEL_7713a10268a8460f993b15520e23b07c",
              "IPY_MODEL_853f5f6839c94f7cad42ac52318acd32"
            ],
            "layout": "IPY_MODEL_8a8d8ea7695445929669b8f227ce1ad8"
          }
        },
        "f9c9569ca6ae4ba485b2513706c53b05": {
          "model_module": "@jupyter-widgets/controls",
          "model_module_version": "1.5.0",
          "model_name": "ProgressStyleModel",
          "state": {
            "_model_module": "@jupyter-widgets/controls",
            "_model_module_version": "1.5.0",
            "_model_name": "ProgressStyleModel",
            "_view_count": null,
            "_view_module": "@jupyter-widgets/base",
            "_view_module_version": "1.2.0",
            "_view_name": "StyleView",
            "bar_color": null,
            "description_width": ""
          }
        },
        "fdcfe4f867984be3a7f6ca4051eed03b": {
          "model_module": "@jupyter-widgets/base",
          "model_module_version": "1.2.0",
          "model_name": "LayoutModel",
          "state": {
            "_model_module": "@jupyter-widgets/base",
            "_model_module_version": "1.2.0",
            "_model_name": "LayoutModel",
            "_view_count": null,
            "_view_module": "@jupyter-widgets/base",
            "_view_module_version": "1.2.0",
            "_view_name": "LayoutView",
            "align_content": null,
            "align_items": null,
            "align_self": null,
            "border": null,
            "bottom": null,
            "display": null,
            "flex": null,
            "flex_flow": null,
            "grid_area": null,
            "grid_auto_columns": null,
            "grid_auto_flow": null,
            "grid_auto_rows": null,
            "grid_column": null,
            "grid_gap": null,
            "grid_row": null,
            "grid_template_areas": null,
            "grid_template_columns": null,
            "grid_template_rows": null,
            "height": null,
            "justify_content": null,
            "justify_items": null,
            "left": null,
            "margin": null,
            "max_height": null,
            "max_width": null,
            "min_height": null,
            "min_width": null,
            "object_fit": null,
            "object_position": null,
            "order": null,
            "overflow": null,
            "overflow_x": null,
            "overflow_y": null,
            "padding": null,
            "right": null,
            "top": null,
            "visibility": null,
            "width": null
          }
        },
        "fff2e0561d7f4d72bc03c58d704909f5": {
          "model_module": "@jupyter-widgets/controls",
          "model_module_version": "1.5.0",
          "model_name": "DescriptionStyleModel",
          "state": {
            "_model_module": "@jupyter-widgets/controls",
            "_model_module_version": "1.5.0",
            "_model_name": "DescriptionStyleModel",
            "_view_count": null,
            "_view_module": "@jupyter-widgets/base",
            "_view_module_version": "1.2.0",
            "_view_name": "StyleView",
            "description_width": ""
          }
        }
      }
    }
  },
  "nbformat": 4,
  "nbformat_minor": 0
}